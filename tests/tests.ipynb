{
 "cells": [
  {
   "cell_type": "markdown",
   "metadata": {},
   "source": [
    "# Test suite for micropython-ulab"
   ]
  },
  {
   "cell_type": "code",
   "execution_count": 20,
   "metadata": {
    "ExecuteTime": {
     "end_time": "2019-12-03T21:26:04.387843Z",
     "start_time": "2019-12-03T21:26:04.194851Z"
    }
   },
   "outputs": [
    {
     "name": "stdout",
     "output_type": "stream",
     "text": [
      "Populating the interactive namespace from numpy and matplotlib\n"
     ]
    }
   ],
   "source": [
    "%pylab inline"
   ]
  },
  {
   "cell_type": "code",
   "execution_count": 1,
   "metadata": {
    "ExecuteTime": {
     "end_time": "2019-12-03T21:11:58.682375Z",
     "start_time": "2019-12-03T21:11:58.676781Z"
    }
   },
   "outputs": [],
   "source": [
    "from IPython.core.magic import Magics, magics_class, line_cell_magic\n",
    "from IPython.core.magic import cell_magic, register_cell_magic, register_line_magic\n",
    "from IPython.core.magic_arguments import argument, magic_arguments, parse_argstring\n",
    "import subprocess\n",
    "import os"
   ]
  },
  {
   "cell_type": "code",
   "execution_count": 2,
   "metadata": {
    "ExecuteTime": {
     "end_time": "2019-12-03T21:12:01.505258Z",
     "start_time": "2019-12-03T21:12:01.471310Z"
    }
   },
   "outputs": [
    {
     "data": {
      "text/plain": [
       "'/home/v923z/sandbox/micropython/v1.11/ulab/tests'"
      ]
     },
     "execution_count": 2,
     "metadata": {},
     "output_type": "execute_result"
    }
   ],
   "source": [
    "pwd"
   ]
  },
  {
   "cell_type": "code",
   "execution_count": 3,
   "metadata": {
    "ExecuteTime": {
     "end_time": "2019-12-03T21:12:03.598380Z",
     "start_time": "2019-12-03T21:12:03.578636Z"
    }
   },
   "outputs": [],
   "source": [
    "@magics_class\n",
    "class PyboardMagic(Magics):\n",
    "    @cell_magic\n",
    "    @magic_arguments()\n",
    "    @argument('-skip')\n",
    "    @argument('-unix')\n",
    "    @argument('-file')\n",
    "    @argument('-data')\n",
    "    @argument('-time')\n",
    "    @argument('-memory')\n",
    "    def micropython(self, line='', cell=None):\n",
    "        args = parse_argstring(self.micropython, line)\n",
    "        if args.skip: # doesn't care about the cell's content\n",
    "            print('skipped execution')\n",
    "            return None # do not parse the rest\n",
    "        if args.unix: # tests the code on the unix port. Note that this works on unix only\n",
    "            with open('/dev/shm/micropython.py', 'w') as fout:\n",
    "                fout.write(cell)\n",
    "            proc = subprocess.Popen([\"../../micropython/ports/unix/micropython\", \"/dev/shm/micropython.py\"], \n",
    "                                    stdout=subprocess.PIPE, stderr=subprocess.PIPE)\n",
    "            print(proc.stdout.read().decode(\"utf-8\"))\n",
    "            print(proc.stderr.read().decode(\"utf-8\"))\n",
    "            return None\n",
    "        if args.file: # can be used to copy the cell content onto the pyboard's flash\n",
    "            spaces = \"    \"\n",
    "            try:\n",
    "                with open(args.file, 'w') as fout:\n",
    "                    fout.write(cell.replace('\\t', spaces))\n",
    "                    print('written cell to {}'.format(args.file))\n",
    "            except:\n",
    "                print('Failed to write to disc!')\n",
    "            return None # do not parse the rest\n",
    "        if args.data: # can be used to load data from the pyboard directly into kernel space\n",
    "            message = pyb.exec(cell)\n",
    "            if len(message) == 0:\n",
    "                print('pyboard >>>')\n",
    "            else:\n",
    "                print(message.decode('utf-8'))\n",
    "                # register new variable in user namespace\n",
    "                self.shell.user_ns[args.data] = string_to_matrix(message.decode(\"utf-8\"))\n",
    "        \n",
    "        if args.time: # measures the time of executions\n",
    "            pyb.exec('import utime')\n",
    "            message = pyb.exec('t = utime.ticks_us()\\n' + cell + '\\ndelta = utime.ticks_diff(utime.ticks_us(), t)' + \n",
    "                               \"\\nprint('execution time: {:d} us'.format(delta))\")\n",
    "            print(message.decode('utf-8'))\n",
    "        \n",
    "        if args.memory: # prints out memory information \n",
    "            message = pyb.exec('from micropython import mem_info\\nprint(mem_info())\\n')\n",
    "            print(\"memory before execution:\\n========================\\n\", message.decode('utf-8'))\n",
    "            message = pyb.exec(cell)\n",
    "            print(\">>> \", message.decode('utf-8'))\n",
    "            message = pyb.exec('print(mem_info())')\n",
    "            print(\"memory after execution:\\n========================\\n\", message.decode('utf-8'))\n",
    "\n",
    "        else:\n",
    "            message = pyb.exec(cell)\n",
    "            print(message.decode('utf-8'))\n",
    "\n",
    "ip = get_ipython()\n",
    "ip.register_magics(PyboardMagic)"
   ]
  },
  {
   "cell_type": "code",
   "execution_count": 4,
   "metadata": {
    "ExecuteTime": {
     "end_time": "2019-12-03T21:12:06.668593Z",
     "start_time": "2019-12-03T21:12:06.657243Z"
    }
   },
   "outputs": [
    {
     "name": "stdout",
     "output_type": "stream",
     "text": [
      "array([[[0, 1, 2, 3, 4],\n",
      "[5, 6, 7, 8, 9],\n",
      "[10, 11, 12, 13, 14]],\n",
      "\n",
      "[[15, 16, 17, 18, 19],\n",
      "[20, 21, 22, 23, 24],\n",
      "[25, 26, 27, 28, 29]]], dtype=uint8)\n",
      "\n",
      "\n"
     ]
    }
   ],
   "source": [
    "%%micropython -unix 1\n",
    "\n",
    "import ulab as np\n",
    "\n",
    "a = np.array(range(30), dtype=np.uint8)\n",
    "b = a.reshape((2, 3, 5))\n",
    "print(b)"
   ]
  },
  {
   "cell_type": "code",
   "execution_count": 11,
   "metadata": {
    "ExecuteTime": {
     "end_time": "2019-12-02T20:46:22.829967Z",
     "start_time": "2019-12-02T20:46:22.808076Z"
    }
   },
   "outputs": [
    {
     "data": {
      "text/plain": [
       "array([[[ 0,  1,  2,  3,  4],\n",
       "        [ 5,  6,  7,  8,  9],\n",
       "        [10, 11, 12, 13, 14]],\n",
       "\n",
       "       [[15, 16, 17, 18, 19],\n",
       "        [20, 21, 22, 23, 24],\n",
       "        [25, 26, 27, 28, 29]]], dtype=uint8)"
      ]
     },
     "execution_count": 11,
     "metadata": {},
     "output_type": "execute_result"
    }
   ],
   "source": [
    "a = np.array(range(30), dtype=np.uint8)\n",
    "b = a.reshape((2, 3, 5))\n",
    "b"
   ]
  },
  {
   "cell_type": "markdown",
   "metadata": {},
   "source": [
    "# Vectorised calculations"
   ]
  },
  {
   "cell_type": "code",
   "execution_count": 39,
   "metadata": {
    "ExecuteTime": {
     "end_time": "2019-12-03T21:48:25.814105Z",
     "start_time": "2019-12-03T21:48:25.803443Z"
    }
   },
   "outputs": [
    {
     "name": "stdout",
     "output_type": "stream",
     "text": [
      "array([1.0, 2.718281828459045, 7.38905609893065, 20.08553692318767, 54.59815003314424, 148.4131591025766, 403.4287934927351, 1096.633158428459, 2980.957987041728, 8103.083927575385], dtype=float) \n",
      "\n",
      "array([[[0.0, 0.8414709848078965, 0.9092974268256818, 0.1411200080598672, -0.7568024953079282],\n",
      "[-0.9589242746631385, -0.2794154981989259, 0.6569865987187891, 0.9893582466233818, 0.4121184852417566],\n",
      "[-0.5440211108893697, -0.9999902065507035, -0.5365729180004349, 0.4201670368266409, 0.9906073556948703]],\n",
      "\n",
      "[[0.6502878401571168, -0.2879033166650653, -0.9613974918795568, -0.7509872467716761, 0.1498772096629524],\n",
      "[0.9129452507276277, 0.836655638536056, -0.008851309290403876, -0.8462204041751706, -0.9055783620066238],\n",
      "[-0.132351750097773, 0.7625584504796027, 0.956375928404503, 0.2709057883078691, -0.6636338842129676]]], dtype=float) \n",
      "\n",
      "(1, 2)\n",
      "array([1.0, 2.718281828459045, 7.38905609893065, 20.08553692318767, 54.59815003314424, 148.4131591025766, 403.4287934927351, 1096.633158428459, 2980.957987041728, 8103.083927575385], dtype=float)\n",
      "\n",
      "\n"
     ]
    }
   ],
   "source": [
    "%%micropython -unix 1\n",
    "\n",
    "import ulab as np\n",
    "\n",
    "a = np.array(range(10))\n",
    "print(np.exp(a), '\\n')\n",
    "\n",
    "a = np.array(range(30))\n",
    "b = a.reshape((2, 3, 5))\n",
    "print(np.sin(b), '\\n')\n",
    "\n",
    "a = np.array(range(25))\n",
    "b = a.reshape((5, 5))\n",
    "c = b[2:5:2,1:5:2]\n",
    "print(c.shape())\n",
    "\n",
    "a = range(10)\n",
    "print(np.exp(a))"
   ]
  },
  {
   "cell_type": "code",
   "execution_count": 35,
   "metadata": {
    "ExecuteTime": {
     "end_time": "2019-12-03T21:40:06.196177Z",
     "start_time": "2019-12-03T21:40:06.181972Z"
    }
   },
   "outputs": [
    {
     "name": "stdout",
     "output_type": "stream",
     "text": [
      "[1.00000000e+00 2.71828183e+00 7.38905610e+00 2.00855369e+01\n",
      " 5.45981500e+01 1.48413159e+02 4.03428793e+02 1.09663316e+03\n",
      " 2.98095799e+03 8.10308393e+03] \n",
      "\n",
      "(2, 3, 5)\n",
      "[[[ 0.          0.84147098  0.90929743  0.14112001 -0.7568025 ]\n",
      "  [-0.95892427 -0.2794155   0.6569866   0.98935825  0.41211849]\n",
      "  [-0.54402111 -0.99999021 -0.53657292  0.42016704  0.99060736]]\n",
      "\n",
      " [[ 0.65028784 -0.28790332 -0.96139749 -0.75098725  0.14987721]\n",
      "  [ 0.91294525  0.83665564 -0.00885131 -0.8462204  -0.90557836]\n",
      "  [-0.13235175  0.76255845  0.95637593  0.27090579 -0.66363388]]] \n",
      "\n",
      "[[-0.99999021  0.42016704]\n",
      " [ 0.83665564 -0.8462204 ]]\n"
     ]
    }
   ],
   "source": [
    "a = np.array(range(10))\n",
    "print(np.exp(a), '\\n')\n",
    "\n",
    "a = np.array(range(30))\n",
    "b = a.reshape((2, 3, 5))\n",
    "print(b.shape)\n",
    "print(np.sin(b), '\\n')\n",
    "\n",
    "a = np.array(range(25))\n",
    "b = a.reshape((5, 5))\n",
    "print(np.sin(b[2:5:2,1:5:2]))"
   ]
  },
  {
   "cell_type": "code",
   "execution_count": 21,
   "metadata": {
    "ExecuteTime": {
     "end_time": "2019-12-03T21:26:11.856646Z",
     "start_time": "2019-12-03T21:26:11.850674Z"
    }
   },
   "outputs": [
    {
     "data": {
      "text/plain": [
       "-0.9589242746631385"
      ]
     },
     "execution_count": 21,
     "metadata": {},
     "output_type": "execute_result"
    }
   ],
   "source": [
    "sin(5.)"
   ]
  },
  {
   "cell_type": "markdown",
   "metadata": {},
   "source": [
    "# Polynomial"
   ]
  },
  {
   "cell_type": "code",
   "execution_count": 20,
   "metadata": {
    "ExecuteTime": {
     "end_time": "2019-12-03T19:48:13.780600Z",
     "start_time": "2019-12-03T19:48:13.761738Z"
    },
    "scrolled": true
   },
   "outputs": [
    {
     "name": "stdout",
     "output_type": "stream",
     "text": [
      "array([3.0, 6.0, 11.0, 18.0, 27.0, 38.0, 51.00000000000001, 66.00000000000001, 83.00000000000001, 102.0], dtype=float)\n",
      "array([[3.0, 6.0],\n",
      "[11.0, 18.0],\n",
      "[27.0, 38.0],\n",
      "[51.00000000000001, 66.00000000000001],\n",
      "[83.00000000000001, 102.0]], dtype=float)\n",
      "\n",
      "\n"
     ]
    }
   ],
   "source": [
    "%%micropython -unix 1\n",
    "\n",
    "import ulab as np\n",
    "\n",
    "a = np.array(range(10))\n",
    "p = np.array([1, 2, 3])\n",
    "\n",
    "print(np.polyval(p, a))\n",
    "\n",
    "b = a.reshape((5, 2))\n",
    "print(np.polyval(p, b))"
   ]
  },
  {
   "cell_type": "code",
   "execution_count": 16,
   "metadata": {
    "ExecuteTime": {
     "end_time": "2019-12-03T17:11:36.898591Z",
     "start_time": "2019-12-03T17:11:36.893661Z"
    }
   },
   "outputs": [
    {
     "name": "stdout",
     "output_type": "stream",
     "text": [
      "[  3   6  11  18  27  38  51  66  83 102]\n",
      "[[  3   6]\n",
      " [ 11  18]\n",
      " [ 27  38]\n",
      " [ 51  66]\n",
      " [ 83 102]]\n"
     ]
    }
   ],
   "source": [
    "a = np.array(range(10))\n",
    "p = np.array([1, 2, 3])\n",
    "\n",
    "print(np.polyval(p, a))\n",
    "\n",
    "b = a.reshape((5, 2))\n",
    "print(np.polyval(p, b))"
   ]
  },
  {
   "cell_type": "code",
   "execution_count": 28,
   "metadata": {
    "ExecuteTime": {
     "end_time": "2019-12-03T20:01:28.491356Z",
     "start_time": "2019-12-03T20:01:28.464044Z"
    }
   },
   "outputs": [
    {
     "name": "stdout",
     "output_type": "stream",
     "text": [
      "independent values:\t array([0.0, 1.0, 2.0, 3.0, 4.0, 5.0, 6.0], dtype=float)\n",
      "dependent values:\t array([9.0, 4.0, 1.0, 0.0, 1.0, 4.0, 9.0], dtype=float)\n",
      "fitted values:\t\t array([1.0, -6.0, 9.000000000000004], dtype=float)\n",
      "\n",
      "\n"
     ]
    }
   ],
   "source": [
    "%%micropython -unix 1\n",
    "\n",
    "import ulab as np\n",
    "\n",
    "x = np.array([0, 1, 2, 3, 4, 5, 6])\n",
    "y = np.array([9, 4, 1, 0, 1, 4, 9])\n",
    "print('independent values:\\t', x)\n",
    "print('dependent values:\\t', y)\n",
    "print('fitted values:\\t\\t', np.polyfit(x, y, 2))"
   ]
  },
  {
   "cell_type": "code",
   "execution_count": 27,
   "metadata": {
    "ExecuteTime": {
     "end_time": "2019-12-03T20:01:22.905241Z",
     "start_time": "2019-12-03T20:01:22.899389Z"
    },
    "scrolled": true
   },
   "outputs": [
    {
     "name": "stdout",
     "output_type": "stream",
     "text": [
      "independent values:\t [0 1 2 3 4 5 6]\n",
      "dependent values:\t [9 4 1 0 1 4 9]\n",
      "fitted values:\t\t [ 1. -6.  9.]\n"
     ]
    }
   ],
   "source": [
    "x = np.array([0, 1, 2, 3, 4, 5, 6])\n",
    "y = np.array([9, 4, 1, 0, 1, 4, 9])\n",
    "print('independent values:\\t', x)\n",
    "print('dependent values:\\t', y)\n",
    "print('fitted values:\\t\\t', np.polyfit(x, y, 2))"
   ]
  }
 ],
 "metadata": {
  "kernelspec": {
   "display_name": "Python 3",
   "language": "python",
   "name": "python3"
  },
  "language_info": {
   "codemirror_mode": {
    "name": "ipython",
    "version": 3
   },
   "file_extension": ".py",
   "mimetype": "text/x-python",
   "name": "python",
   "nbconvert_exporter": "python",
   "pygments_lexer": "ipython3",
   "version": "3.7.4"
  },
  "toc": {
   "base_numbering": 1,
   "nav_menu": {},
   "number_sections": true,
   "sideBar": true,
   "skip_h1_title": false,
   "title_cell": "Table of Contents",
   "title_sidebar": "Contents",
   "toc_cell": false,
   "toc_position": {},
   "toc_section_display": true,
   "toc_window_display": false
  },
  "varInspector": {
   "cols": {
    "lenName": 16,
    "lenType": 16,
    "lenVar": 40
   },
   "kernels_config": {
    "python": {
     "delete_cmd_postfix": "",
     "delete_cmd_prefix": "del ",
     "library": "var_list.py",
     "varRefreshCmd": "print(var_dic_list())"
    },
    "r": {
     "delete_cmd_postfix": ") ",
     "delete_cmd_prefix": "rm(",
     "library": "var_list.r",
     "varRefreshCmd": "cat(var_dic_list()) "
    }
   },
   "types_to_exclude": [
    "module",
    "function",
    "builtin_function_or_method",
    "instance",
    "_Feature"
   ],
   "window_display": false
  }
 },
 "nbformat": 4,
 "nbformat_minor": 2
}
