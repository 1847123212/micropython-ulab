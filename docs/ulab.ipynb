{
 "cells": [
  {
   "cell_type": "code",
   "execution_count": 74,
   "metadata": {
    "ExecuteTime": {
     "end_time": "2019-09-05T20:04:29.380047Z",
     "start_time": "2019-09-05T20:04:29.368161Z"
    }
   },
   "outputs": [
    {
     "name": "stdout",
     "output_type": "stream",
     "text": [
      "Populating the interactive namespace from numpy and matplotlib\n"
     ]
    }
   ],
   "source": [
    "%pylab inline"
   ]
  },
  {
   "cell_type": "markdown",
   "metadata": {},
   "source": [
    "# Introduction"
   ]
  },
  {
   "cell_type": "markdown",
   "metadata": {},
   "source": [
    "ulab is a C module for micropython. My goal was to implement a small subset of numpy. I chose those functions and methods that might be useful in the context of a microcontroller. This means low-level data processing of linear (array) and two-dimensional (matrix) data.\n",
    "\n",
    "The main points of ulab are \n",
    "\n",
    "- compact, iterable and slicable container of numerical data in 1, and 2 dimensions (arrays and matrices). In addition, these containers support all the relevant unary and binary operators (e.g., `len`, ==, +, *, etc.)\n",
    "- vectorised computations on micropython iterables and numerical arrays/matrices (universal functions)\n",
    "- basic linear algebra routines (matrix inversion, matrix reshaping, and transposition)\n",
    "- polynomial first to numerical data\n",
    "- fast Fourier transforms\n",
    "\n",
    "Each section of the implementation part kicks out with a short discussion on what can be done with the module, and what are the tripping points at the C level. I hope that these musings can be used as a starting point for further discussion on the code."
   ]
  },
  {
   "cell_type": "markdown",
   "metadata": {},
   "source": [
    "# Environmental settings and magic commands\n",
    "\n",
    "The entire C source code, as well as the documentation (mainly verbose comments on certain aspects of the implementation) is contained in this notebook. The code is exported to separate C files in `/ulab/`, and then compiled from this notebook. However, I would like to stress that the compilation does not require a jupyter notebook. It can be done from the command line. \n",
    "\n",
    "Testing is done on the unix and stm32 ports of micropython, also directly from the notebook. This is why this section contains a couple of magic functions. But once again: the C module can be used without the notebook. "
   ]
  },
  {
   "cell_type": "code",
   "execution_count": 1,
   "metadata": {
    "ExecuteTime": {
     "end_time": "2019-09-03T15:00:02.087061Z",
     "start_time": "2019-09-03T15:00:02.059071Z"
    }
   },
   "outputs": [
    {
     "name": "stdout",
     "output_type": "stream",
     "text": [
      "/home/v923z/sandbox/micropython/v1.11/micropython/ports/unix\n"
     ]
    }
   ],
   "source": [
    "%cd ../../micropython/ports/unix/"
   ]
  },
  {
   "cell_type": "code",
   "execution_count": 2,
   "metadata": {
    "ExecuteTime": {
     "end_time": "2019-09-03T15:00:10.875662Z",
     "start_time": "2019-09-03T15:00:10.861474Z"
    }
   },
   "outputs": [],
   "source": [
    "from IPython.core.magic import Magics, magics_class, line_cell_magic\n",
    "from IPython.core.magic import cell_magic, register_cell_magic, register_line_magic\n",
    "import subprocess\n",
    "import os"
   ]
  },
  {
   "cell_type": "code",
   "execution_count": 3,
   "metadata": {
    "ExecuteTime": {
     "end_time": "2019-09-03T15:00:12.785514Z",
     "start_time": "2019-09-03T15:00:12.771460Z"
    }
   },
   "outputs": [],
   "source": [
    "@register_cell_magic\n",
    "def micropython(line, cell):\n",
    "    with open('/dev/shm/micropython.py', 'w') as fout:\n",
    "        fout.write(cell)\n",
    "    proc = subprocess.Popen([\"./micropython\", \"/dev/shm/micropython.py\"], \n",
    "                            stdout=subprocess.PIPE, stderr=subprocess.PIPE)\n",
    "    print(proc.stdout.read().decode(\"utf-8\"))\n",
    "    print(proc.stderr.read().decode(\"utf-8\"))\n",
    "    return None"
   ]
  },
  {
   "cell_type": "code",
   "execution_count": 4,
   "metadata": {
    "ExecuteTime": {
     "end_time": "2019-09-03T15:00:27.346977Z",
     "start_time": "2019-09-03T15:00:27.335266Z"
    }
   },
   "outputs": [
    {
     "data": {
      "application/javascript": [
       "\n",
       "    (function () {\n",
       "        var defaults = IPython.CodeCell.config_defaults || IPython.CodeCell.options_default;\n",
       "        defaults.highlight_modes['magic_text/x-csrc'] = {'reg':[/^\\s*%%ccode/]};\n",
       "    })();\n",
       "    "
      ]
     },
     "metadata": {},
     "output_type": "display_data"
    },
    {
     "data": {
      "application/javascript": [
       "\n",
       "    (function () {\n",
       "        var defaults = IPython.CodeCell.config_defaults || IPython.CodeCell.options_default;\n",
       "        defaults.highlight_modes['magic_text/x-csrc'] = {'reg':[/^\\s*%%makefile/]};\n",
       "    })();\n",
       "    "
      ]
     },
     "metadata": {},
     "output_type": "display_data"
    }
   ],
   "source": [
    "import IPython\n",
    "\n",
    "js = \"\"\"\n",
    "    (function () {\n",
    "        var defaults = IPython.CodeCell.config_defaults || IPython.CodeCell.options_default;\n",
    "        defaults.highlight_modes['magic_text/x-csrc'] = {'reg':[/^\\\\s*%%ccode/]};\n",
    "    })();\n",
    "    \"\"\"\n",
    "IPython.core.display.display_javascript(js, raw=True)\n",
    "\n",
    "js = \"\"\"\n",
    "    (function () {\n",
    "        var defaults = IPython.CodeCell.config_defaults || IPython.CodeCell.options_default;\n",
    "        defaults.highlight_modes['magic_text/x-csrc'] = {'reg':[/^\\\\s*%%makefile/]};\n",
    "    })();\n",
    "    \"\"\"\n",
    "IPython.core.display.display_javascript(js, raw=True)"
   ]
  },
  {
   "cell_type": "code",
   "execution_count": 5,
   "metadata": {
    "ExecuteTime": {
     "end_time": "2019-09-03T15:00:29.097503Z",
     "start_time": "2019-09-03T15:00:29.086095Z"
    }
   },
   "outputs": [],
   "source": [
    "@magics_class\n",
    "class MyMagics(Magics):\n",
    "        \n",
    "    @cell_magic\n",
    "    def ccode(self, line, cell):\n",
    "        copyright = \"\"\"/*\n",
    " * This file is part of the micropython-ulab project, \n",
    " *\n",
    " * https://github.com/v923z/micropython-ulab\n",
    " *\n",
    " * The MIT License (MIT)\n",
    " *\n",
    " * Copyright (c) 2019 Zoltán Vörös\n",
    "*/\n",
    "    \"\"\"\n",
    "        if line:\n",
    "            with open('../../../ulab/code/'+line, 'w') as cout:\n",
    "                cout.write(copyright)\n",
    "                cout.write(cell)\n",
    "            print('written %d bytes to %s'%(len(copyright) + len(cell), line))\n",
    "            return None\n",
    "\n",
    "ip = get_ipython()\n",
    "ip.register_magics(MyMagics)"
   ]
  },
  {
   "cell_type": "markdown",
   "metadata": {},
   "source": [
    "# Compiling the module\n",
    "\n",
    "Detailed instructions on how to set up and compile a C module can be found in chapter 2 of https://micropython-usermod.readthedocs.io/en/latest/. \n",
    "\n",
    "First, on the command line, you should clone both the micropython, and the `ulab` repositories: \n",
    "\n",
    "```bash\n",
    "git clone https://github.com/micropython/micropython.git\n",
    "```\n",
    "Then navigate to your micropython folder, and run \n",
    "\n",
    "```bash\n",
    "git clone https://github.com/v923z/micropython-ulab.git ulab\n",
    "```\n",
    "\n",
    "Finally, in the `mpconfigport.h` header file of the port that you want to compile for, you have to define the variable `MODULE_ULAB_ENABLED`\n",
    "\n",
    "```make\n",
    "#define MODULE_ULAB_ENABLED (1)\n",
    "```\n",
    "\n",
    "At this point, you should be able to run make in the port's root folder:\n",
    "\n",
    "```bash\n",
    "make USER_C_MODULES=../../../ulab all\n",
    "```\n",
    "(unix port) or \n",
    "```bash\n",
    "make BOARD=PYBV11 CROSS_COMPILE=<Path where you uncompressed the toolchain>/bin/arm-none-eabi-\n",
    "```\n",
    "(pyboard). When compiling for the pyboard (or any other hardware platform), you might or might not have to set the cross-compiler's path. If your installation of the cross-compiler is system-wide, you can drop the `make` argument `CROSS_COMPILE`."
   ]
  },
  {
   "cell_type": "markdown",
   "metadata": {},
   "source": [
    "# The ndarray type"
   ]
  },
  {
   "cell_type": "markdown",
   "metadata": {},
   "source": [
    "## General comments\n",
    "\n",
    "`ndarrays` are efficient containers of numerical data of the same type (i.e., signed/unsigned chars, signed/unsigned integers or floats). Beyond storing the actual data, the type definition has three additional members (on top of the `base` type). Namely, two `size_t` objects, `m`, and `n`, which give the dimensions of the matrix (obviously, if the `ndarray` is meant to be linear, either `m`, or `n` is equal to 1), as well as the byte size, `bytes`, i.e., the total number of bytes consumed by the data container. `bytes` is equal to `m*n` for `byte` types (`uint8`, and `int8`), to `2*m*n` for integers (`uint16`, and `int16`), and `2*m*n` for floats. \n",
    "\n",
    "The type definition is as follows:\n",
    "\n",
    "```c\n",
    "typedef struct _ndarray_obj_t {\n",
    "    mp_obj_base_t base;\n",
    "    size_t m, n;\n",
    "    mp_obj_array_t *data;\n",
    "    size_t bytes;\n",
    "} ndarray_obj_t;\n",
    "```\n",
    "\n",
    "**NOTE: with a little bit of extra effort, mp_obj_array_t can be replaced by a single void array. We should, perhaps, consider the pros and cons of that. One patent advantage is that we could get rid of the verbatim copy of array_new function in ndarray.c. On the other hand, objarray.c facilities couldn't be used anymore.**"
   ]
  },
  {
   "cell_type": "markdown",
   "metadata": {},
   "source": [
    "Most of the functions in ndarray.c are internal (i.e., not exposed to the python interpreter). Exception to this rule are the `shape`, `size`, and `rawsize` functions, and the `.unary_op`, `.binary_op`, and `.iter_next` class methods. Note that `rawsize` is is not standard in numpy, and is meant to return the total number of bytes used by the container. Since the RAM of a microcontroller is limited, I deemed this to be a reasonable addition for optimisation purposes, but could later be removed, if it turns out to be of no interest."
   ]
  },
  {
   "cell_type": "markdown",
   "metadata": {},
   "source": [
    "## Initialisation\n",
    "\n",
    "An `ndarray` can be initialised by passing an iterable (linear arrays), or an iterable of iterables (matrices) into the constructor as"
   ]
  },
  {
   "cell_type": "code",
   "execution_count": 205,
   "metadata": {
    "ExecuteTime": {
     "end_time": "2019-08-07T19:42:05.874414Z",
     "start_time": "2019-08-07T19:42:05.853846Z"
    }
   },
   "outputs": [
    {
     "name": "stdout",
     "output_type": "stream",
     "text": [
      "ndarray([1.0, 2.0, 3.0, 4.0])\n",
      "\n",
      "ndarray([[1.0, 2.0, 3.0, 4.0],\n",
      "\t [2.0, 3.0, 4.0, 5.0]])\n",
      "\n",
      "ndarray([[0.0, 1.0, 2.0, ..., 7.0, 8.0, 9.0],\n",
      "\t [0.0, 1.0, 2.0, ..., 7.0, 8.0, 9.0]])\n",
      "\n",
      "\n",
      "\n"
     ]
    }
   ],
   "source": [
    "%%micropython\n",
    "\n",
    "from ulab import ndarray\n",
    "\n",
    "a = ndarray([1, 2, 3, 4])\n",
    "print(a)\n",
    "a = ndarray([[1, 2, 3, 4], [2, 3, 4, 5]])\n",
    "print(a)\n",
    "a = ndarray([range(10), range(10)])\n",
    "print(a)"
   ]
  },
  {
   "cell_type": "markdown",
   "metadata": {},
   "source": [
    "In addition, the constructor can take a keyword argument, `dtype`, that will force type conversion."
   ]
  },
  {
   "cell_type": "markdown",
   "metadata": {},
   "source": [
    "## Slicing and subscriptions\n",
    "\n",
    "Slicing and subscription works only on the flattened array. This has to do with the fact that slices can be given only in the form `myobject[1:10:2]`, and slice objects cannot be separated by commas, i.e., this won't be interpreted:\n",
    "\n",
    "```python\n",
    "ndarray[1:10:2, 3:10:3]\n",
    "```\n",
    "This is something that should be sorted out in the future. As a temporary solution, we could implement the `getter` and `setter` special methods that handle this issue."
   ]
  },
  {
   "cell_type": "code",
   "execution_count": 547,
   "metadata": {
    "ExecuteTime": {
     "end_time": "2019-09-13T14:39:35.430918Z",
     "start_time": "2019-09-13T14:39:35.412844Z"
    }
   },
   "outputs": [
    {
     "name": "stdout",
     "output_type": "stream",
     "text": [
      "ndarray([[1.0, 2.0, 3.0, 4.0],\n",
      "\t [6.0, 7.0, 8.0, 9.0]], dtype=float)\n",
      "ndarray([6.0, 7.0, 8.0, 9.0], dtype=float)\n",
      "ndarray([1.0, 2.0, 3.0, 4.0, 5.0, 6.0, 7.0, 8.0, 9.0], dtype=float)\n",
      "ndarray([2.0, 3.0, 4.0, 5.0], dtype=float)\n",
      "\n",
      "\n"
     ]
    }
   ],
   "source": [
    "%%micropython\n",
    "\n",
    "from ulab import ndarray\n",
    "\n",
    "a = ndarray([[1, 2, 3, 4], [6, 7, 8, 9]])\n",
    "print(a)\n",
    "\n",
    "print(a[1])\n",
    "\n",
    "a = ndarray([1, 2, 3, 4, 5, 6, 7, 8, 9])\n",
    "print(a)\n",
    "print(a[1:5])"
   ]
  },
  {
   "cell_type": "markdown",
   "metadata": {},
   "source": [
    "## Iterators\n",
    "\n",
    "`ndarray` objects can be iterated on, and just as in numpy, matrices are iterated along their first axis, and they return  `ndarray`s. "
   ]
  },
  {
   "cell_type": "code",
   "execution_count": 169,
   "metadata": {
    "ExecuteTime": {
     "end_time": "2019-09-06T18:28:03.881908Z",
     "start_time": "2019-09-06T18:28:03.857148Z"
    }
   },
   "outputs": [
    {
     "name": "stdout",
     "output_type": "stream",
     "text": [
      "ndarray([[1.0, 2.0, 3.0, 4.0],\n",
      "\t [6.0, 7.0, 8.0, 9.0]], dtype='float')\n",
      "\n",
      "ndarray([1.0, 2.0, 3.0, 4.0], dtype='float')\n",
      "\n",
      "ndarray([6.0, 7.0, 8.0, 9.0], dtype='float')\n",
      "\n",
      "\n",
      "\n"
     ]
    }
   ],
   "source": [
    "%%micropython\n",
    "\n",
    "from ulab import ndarray\n",
    "\n",
    "a = ndarray([[1, 2, 3, 4], [6, 7, 8, 9]])\n",
    "print(a)\n",
    "\n",
    "for _a in a: print(_a)"
   ]
  },
  {
   "cell_type": "markdown",
   "metadata": {},
   "source": [
    "On the other hand, flat arrays return their elements:"
   ]
  },
  {
   "cell_type": "code",
   "execution_count": 172,
   "metadata": {
    "ExecuteTime": {
     "end_time": "2019-09-06T18:29:47.050919Z",
     "start_time": "2019-09-06T18:29:47.032888Z"
    }
   },
   "outputs": [
    {
     "name": "stdout",
     "output_type": "stream",
     "text": [
      "ndarray([1, 2, 3, 4, 6, 7, 8, 9], dtype='uint8')\n",
      "\n",
      "1\n",
      "2\n",
      "3\n",
      "4\n",
      "6\n",
      "7\n",
      "8\n",
      "9\n",
      "\n",
      "\n"
     ]
    }
   ],
   "source": [
    "%%micropython\n",
    "\n",
    "from ulab import ndarray\n",
    "\n",
    "a = ndarray([1, 2, 3, 4, 6, 7, 8, 9], dtype='uint8')\n",
    "print(a)\n",
    "\n",
    "for _a in a: print(_a)"
   ]
  },
  {
   "cell_type": "markdown",
   "metadata": {},
   "source": [
    "## Upcasting"
   ]
  },
  {
   "cell_type": "markdown",
   "metadata": {},
   "source": [
    "There are some unexpected results in numpy. E.g., it seems that the upcasting happens only *after* the calculation has been carried out. Besides, the sum of a signed and an unsigned character should be an unsigned integer. "
   ]
  },
  {
   "cell_type": "code",
   "execution_count": 235,
   "metadata": {
    "ExecuteTime": {
     "end_time": "2019-09-11T17:11:59.818740Z",
     "start_time": "2019-09-11T17:11:59.804800Z"
    }
   },
   "outputs": [
    {
     "data": {
      "text/plain": [
       "array([145], dtype=int16)"
      ]
     },
     "execution_count": 235,
     "metadata": {},
     "output_type": "execute_result"
    }
   ],
   "source": [
    "a = array([200], dtype=int8)\n",
    "b = array([201], dtype=uint8)\n",
    "a + b"
   ]
  },
  {
   "cell_type": "markdown",
   "metadata": {},
   "source": [
    "When in an operation the `dtype` of two arrays is different, the result's `dtype` will be decided by the following upcasting rules: \n",
    "\n",
    "1. Operations with two `ndarray`s of the same `dtype` preserve their `dtype`, even when the results overflow.\n",
    "\n",
    "2. if either of the operands is a float, the results is also a float\n",
    "\n",
    "3. \n",
    "    - `uint8` + `int8` => `uint16`, \n",
    "    - `uint8` + `int16` => `uint16`\n",
    "    - `uint8` + `uint16` => `uint16`\n",
    "    \n",
    "    - `int8` + `int16` => `int16`\n",
    "    - `int8` + `uint16` => `uint16`\n",
    "\n",
    "    - `uint16` + `int16` => `float`\n",
    "    \n",
    "4. When the right hand side of a binary operator is a micropython variable, `mp_obj_int`, or `mp_obj_float`, then the result will be promoted to `dtype` `float`. This is necessary, because a micropython integer can be 31 bites wide.\n",
    "\n",
    "Note that the rules of `numpy` are not very consistent: while upcasting is meant to preserve the accuracy of the computation, the sum of an `int8`, and a `uint8` is an `int16`. \n",
    "\n",
    "`numpy` is also inconsistent in how it represents `dtype`: as an argument, it is denoted by the constants `int8`, `uint8`, etc., while a string will be returned, if the user asks for the type of an array.\n",
    "\n",
    "The upcasting rules are stipulated in a single C function, `upcasting()`. "
   ]
  },
  {
   "cell_type": "markdown",
   "metadata": {},
   "source": [
    "## Binary operations\n",
    "\n",
    "In the standard binary operations, the operands are either two `ndarray`s or an `ndarray`, and a number. From the C standpoint, these operations are probably the most difficult: the problem is that two operands, each with 5 possible C types are added, multiplied, subtracted, or divided, hence making the number of possible combinations large. In order to mitigate the situation, intermediate results are stored in a float, i.e., numbers of the `ndarray` are read out as floats, the operation is carried out on the floats, and then this float is converted to the type dictated by the upcasting rules. \n",
    "\n",
    "Depending upon, when exactly the type conversions take place, execution speed can be traded for storage place. If one is willing to have a float intermediate array (at the expense of RAM), then the `for` loops can be made more efficient, because one does not have to dispatch the read-out function in each iteration."
   ]
  },
  {
   "cell_type": "code",
   "execution_count": 753,
   "metadata": {
    "ExecuteTime": {
     "end_time": "2019-09-18T04:48:58.664232Z",
     "start_time": "2019-09-18T04:48:58.642129Z"
    },
    "scrolled": true
   },
   "outputs": [
    {
     "name": "stdout",
     "output_type": "stream",
     "text": [
      "ndarray([2.0, 4.0, 6.0], dtype=float)\n",
      "ndarray([5.0, 10.0, 15.0], dtype=float)\n",
      "\n",
      "\n"
     ]
    }
   ],
   "source": [
    "%%micropython\n",
    "\n",
    "from ulab import ndarray, float\n",
    "\n",
    "a = ndarray([1, 2, 3], dtype=float)\n",
    "print(a + a)\n",
    "print(a * 5.0)"
   ]
  },
  {
   "cell_type": "markdown",
   "metadata": {},
   "source": [
    "### Simple running weighted average"
   ]
  },
  {
   "cell_type": "code",
   "execution_count": 751,
   "metadata": {
    "ExecuteTime": {
     "end_time": "2019-09-17T20:25:30.818005Z",
     "start_time": "2019-09-17T20:25:30.795281Z"
    }
   },
   "outputs": [
    {
     "name": "stdout",
     "output_type": "stream",
     "text": [
      "2.0\n",
      "3.6\n",
      "4.8\n",
      "5.6\n",
      "6.0\n",
      "\n",
      "\n"
     ]
    }
   ],
   "source": [
    "%%micropython\n",
    "\n",
    "from ulab import ndarray, mean, roll\n",
    "\n",
    "weight = ndarray([1, 2, 3, 4, 5])\n",
    "samples = ndarray([0]*5)\n",
    "for i in range(5):\n",
    "    samples[-1] = 2\n",
    "    print(mean(samples*weight))\n",
    "    roll(samples, 1)"
   ]
  },
  {
   "cell_type": "markdown",
   "metadata": {},
   "source": [
    "## Unary operators\n",
    "\n",
    "At the moment, only `len` is implemented, which returns the number of elements for one-dimensional arrays, and the length of the first axis for matrices. One should consider other possibilities."
   ]
  },
  {
   "cell_type": "markdown",
   "metadata": {},
   "source": [
    "## ndarray.h"
   ]
  },
  {
   "cell_type": "code",
   "execution_count": 531,
   "metadata": {
    "ExecuteTime": {
     "end_time": "2019-09-13T14:22:57.834826Z",
     "start_time": "2019-09-13T14:22:57.824713Z"
    }
   },
   "outputs": [
    {
     "name": "stdout",
     "output_type": "stream",
     "text": [
      "written 1644 bytes to ndarray.h\n"
     ]
    }
   ],
   "source": [
    "%%ccode ndarray.h\n",
    "\n",
    "#ifndef _NDARRAY_\n",
    "#define _NDARRAY_\n",
    "\n",
    "#include \"py/objarray.h\" // this can in the future be dropped\n",
    "#include \"py/binary.h\"   // this can in the future be dropped\n",
    "#include \"py/objstr.h\"\n",
    "\n",
    "#define PRINT_MAX  10\n",
    "\n",
    "\n",
    "const mp_obj_type_t ulab_ndarray_type;\n",
    "\n",
    "\n",
    "enum NDARRAY_TYPE {\n",
    "    NDARRAY_UINT8 = 'b',\n",
    "    NDARRAY_INT8 = 'B',\n",
    "    NDARRAY_UINT16 = 'i', \n",
    "    NDARRAY_INT16 = 'I',\n",
    "    NDARRAY_FLOAT = 'f',\n",
    "};\n",
    "\n",
    "typedef struct _ndarray_obj_t {\n",
    "    mp_obj_base_t base;\n",
    "    size_t m, n;\n",
    "    size_t len;\n",
    "    mp_obj_array_t *data;\n",
    "    size_t bytes;\n",
    "} ndarray_obj_t;\n",
    "\n",
    "mp_obj_t mp_obj_new_ndarray_iterator(mp_obj_t , size_t , mp_obj_iter_buf_t *);\n",
    "\n",
    "float ndarray_get_float_value(void *, uint8_t , size_t );\n",
    "void ndarray_print_row(const mp_print_t *, mp_obj_array_t *, size_t , size_t );\n",
    "void ndarray_print(const mp_print_t *, mp_obj_t , mp_print_kind_t );\n",
    "void ndarray_assign_elements(mp_obj_array_t *, mp_obj_t , uint8_t , size_t *);\n",
    "ndarray_obj_t *create_new_ndarray(size_t , size_t , uint8_t );\n",
    "\n",
    "mp_obj_t ndarray_copy(mp_obj_t );\n",
    "mp_obj_t ndarray_make_new(const mp_obj_type_t *, size_t , size_t , const mp_obj_t *);\n",
    "mp_obj_t ndarray_subscr(mp_obj_t , mp_obj_t , mp_obj_t );\n",
    "mp_obj_t ndarray_getiter(mp_obj_t , mp_obj_iter_buf_t *);\n",
    "mp_obj_t ndarray_binary_op(mp_binary_op_t , mp_obj_t , mp_obj_t );\n",
    "mp_obj_t ndarray_unary_op(mp_unary_op_t , mp_obj_t );\n",
    "\n",
    "mp_obj_t ndarray_shape(mp_obj_t );\n",
    "mp_obj_t ndarray_size(mp_obj_t , mp_obj_t );\n",
    "mp_obj_t ndarray_rawsize(mp_obj_t );\n",
    "\n",
    "#endif"
   ]
  },
  {
   "cell_type": "markdown",
   "metadata": {},
   "source": [
    "## ndarray.c"
   ]
  },
  {
   "cell_type": "code",
   "execution_count": 744,
   "metadata": {
    "ExecuteTime": {
     "end_time": "2019-09-17T20:22:39.601114Z",
     "start_time": "2019-09-17T20:22:39.588700Z"
    }
   },
   "outputs": [
    {
     "name": "stdout",
     "output_type": "stream",
     "text": [
      "written 25983 bytes to ndarray.c\n"
     ]
    }
   ],
   "source": [
    "%%ccode ndarray.c\n",
    "\n",
    "#include <math.h>\n",
    "#include <stdio.h>\n",
    "#include <stdlib.h>\n",
    "#include <string.h>\n",
    "#include \"py/runtime.h\"\n",
    "#include \"py/binary.h\"\n",
    "#include \"py/obj.h\"\n",
    "#include \"py/objtuple.h\"\n",
    "#include \"ndarray.h\"\n",
    "\n",
    "// This function is copied verbatim from objarray.c\n",
    "STATIC mp_obj_array_t *array_new(char typecode, size_t n) {\n",
    "    int typecode_size = mp_binary_get_size('@', typecode, NULL);\n",
    "    mp_obj_array_t *o = m_new_obj(mp_obj_array_t);\n",
    "    // this step could probably be skipped: we are never going to store a bytearray per se\n",
    "    #if MICROPY_PY_BUILTINS_BYTEARRAY && MICROPY_PY_ARRAY\n",
    "    o->base.type = (typecode == BYTEARRAY_TYPECODE) ? &mp_type_bytearray : &mp_type_array;\n",
    "    #elif MICROPY_PY_BUILTINS_BYTEARRAY\n",
    "    o->base.type = &mp_type_bytearray;\n",
    "    #else\n",
    "    o->base.type = &mp_type_array;\n",
    "    #endif\n",
    "    o->typecode = typecode;\n",
    "    o->free = 0;\n",
    "    o->len = n;\n",
    "    o->items = m_new(byte, typecode_size * o->len);\n",
    "    return o;\n",
    "}\n",
    "\n",
    "float ndarray_get_float_value(void *data, uint8_t typecode, size_t index) {\n",
    "    if(typecode == NDARRAY_UINT8) {\n",
    "        return (float)((uint8_t *)data)[index];\n",
    "    } else if(typecode == NDARRAY_INT8) {\n",
    "        return (float)((int8_t *)data)[index];\n",
    "    } else if(typecode == NDARRAY_UINT16) {\n",
    "        return (float)((uint16_t *)data)[index];\n",
    "    } else if(typecode == NDARRAY_INT16) {\n",
    "        return (float)((int16_t *)data)[index];\n",
    "    } else {\n",
    "        return (float)((float_t *)data)[index];\n",
    "    }\n",
    "}\n",
    "\n",
    "void ndarray_print_row(const mp_print_t *print, mp_obj_array_t *data, size_t n0, size_t n) {\n",
    "    mp_print_str(print, \"[\");\n",
    "    size_t i;\n",
    "    if(n < PRINT_MAX) { // if the array is short, print everything\n",
    "        mp_obj_print_helper(print, mp_binary_get_val_array(data->typecode, data->items, n0), PRINT_REPR);\n",
    "        for(i=1; i<n; i++) {\n",
    "            mp_print_str(print, \", \");\n",
    "            mp_obj_print_helper(print, mp_binary_get_val_array(data->typecode, data->items, n0+i), PRINT_REPR);\n",
    "        }\n",
    "    } else {\n",
    "        mp_obj_print_helper(print, mp_binary_get_val_array(data->typecode, data->items, n0), PRINT_REPR);\n",
    "        for(i=1; i<3; i++) {\n",
    "            mp_print_str(print, \", \");\n",
    "            mp_obj_print_helper(print, mp_binary_get_val_array(data->typecode, data->items, n0+i), PRINT_REPR);\n",
    "        }\n",
    "        mp_printf(print, \", ..., \");\n",
    "        mp_obj_print_helper(print, mp_binary_get_val_array(data->typecode, data->items, n0+n-3), PRINT_REPR);\n",
    "        for(size_t i=1; i<3; i++) {\n",
    "            mp_print_str(print, \", \");\n",
    "            mp_obj_print_helper(print, mp_binary_get_val_array(data->typecode, data->items, n0+n-3+i), PRINT_REPR);\n",
    "        }\n",
    "    }\n",
    "    mp_print_str(print, \"]\");\n",
    "}\n",
    "\n",
    "void ndarray_print(const mp_print_t *print, mp_obj_t self_in, mp_print_kind_t kind) {\n",
    "    (void)kind;\n",
    "    ndarray_obj_t *self = MP_OBJ_TO_PTR(self_in);\n",
    "    mp_print_str(print, \"ndarray(\");\n",
    "    if((self->m == 1) || (self->n == 1)) {\n",
    "        ndarray_print_row(print, self->data, 0, self->data->len);\n",
    "    } else {\n",
    "        // TODO: add vertical ellipses for the case, when self->m > PRINT_MAX\n",
    "        mp_print_str(print, \"[\");\n",
    "        ndarray_print_row(print, self->data, 0, self->n);\n",
    "        for(size_t i=1; i < self->m; i++) {\n",
    "            mp_print_str(print, \",\\n\\t \");\n",
    "            ndarray_print_row(print, self->data, i*self->n, self->n);\n",
    "        }\n",
    "        mp_print_str(print, \"]\");\n",
    "    }\n",
    "    // TODO: print typecode\n",
    "    if(self->data->typecode == NDARRAY_UINT8) {\n",
    "        printf(\", dtype=uint8)\");\n",
    "    } else if(self->data->typecode == NDARRAY_INT8) {\n",
    "        printf(\", dtype=int8)\");\n",
    "    } if(self->data->typecode == NDARRAY_UINT16) {\n",
    "        printf(\", dtype=uint16)\");\n",
    "    } if(self->data->typecode == NDARRAY_INT16) {\n",
    "        printf(\", dtype=int16)\");\n",
    "    } if(self->data->typecode == NDARRAY_FLOAT) {\n",
    "        printf(\", dtype=float)\");\n",
    "    } \n",
    "}\n",
    "\n",
    "void ndarray_assign_elements(mp_obj_array_t *data, mp_obj_t iterable, uint8_t typecode, size_t *idx) {\n",
    "    // assigns a single row in the matrix\n",
    "    mp_obj_t item;\n",
    "    while ((item = mp_iternext(iterable)) != MP_OBJ_STOP_ITERATION) {\n",
    "        mp_binary_set_val_array(typecode, data->items, (*idx)++, item);\n",
    "    }\n",
    "}\n",
    "\n",
    "ndarray_obj_t *create_new_ndarray(size_t m, size_t n, uint8_t typecode) {\n",
    "    // Creates the base ndarray with shape (m, n), and initialises the values to straight 0s\n",
    "    ndarray_obj_t *ndarray = m_new_obj(ndarray_obj_t);\n",
    "    ndarray->base.type = &ulab_ndarray_type;\n",
    "    ndarray->m = m;\n",
    "    ndarray->n = n;\n",
    "    mp_obj_array_t *data = array_new(typecode, m*n);\n",
    "    ndarray->bytes = m * n * mp_binary_get_size('@', typecode, NULL);\n",
    "    // this should set all elements to 0, irrespective of the of the typecode (all bits are zero)\n",
    "    // we could, perhaps, leave this step out, and initialise the array, only, when needed\n",
    "    memset(data->items, 0, ndarray->bytes); \n",
    "    ndarray->data = data;\n",
    "    return ndarray;\n",
    "}\n",
    "\n",
    "mp_obj_t ndarray_copy(mp_obj_t self_in) {\n",
    "    // returns a verbatim (shape and typecode) copy of self_in\n",
    "    ndarray_obj_t *self = MP_OBJ_TO_PTR(self_in);\n",
    "    ndarray_obj_t *out = create_new_ndarray(self->m, self->n, self->data->typecode);\n",
    "    int typecode_size = mp_binary_get_size('@', self->data->typecode, NULL);\n",
    "    memcpy(out->data->items, self->data->items, self->data->len*typecode_size);\n",
    "    return MP_OBJ_FROM_PTR(out);\n",
    "}\n",
    "\n",
    "\n",
    "STATIC uint8_t ndarray_init_helper(size_t n_args, const mp_obj_t *pos_args, mp_map_t *kw_args) {\n",
    "    static const mp_arg_t allowed_args[] = {\n",
    "        { MP_QSTR_oin, MP_ARG_REQUIRED | MP_ARG_OBJ, {.u_rom_obj = MP_ROM_PTR(&mp_const_none_obj)} },\n",
    "        { MP_QSTR_dtype, MP_ARG_KW_ONLY | MP_ARG_INT, {.u_int = NDARRAY_FLOAT } },\n",
    "    };\n",
    "    \n",
    "    mp_arg_val_t args[MP_ARRAY_SIZE(allowed_args)];\n",
    "    mp_arg_parse_all(1, pos_args, kw_args, MP_ARRAY_SIZE(allowed_args), allowed_args, args);\n",
    "    \n",
    "    uint8_t dtype = args[1].u_int;\n",
    "    return dtype;\n",
    "}\n",
    "\n",
    "mp_obj_t ndarray_make_new(const mp_obj_type_t *type, size_t n_args, size_t n_kw, const mp_obj_t *args) {\n",
    "    mp_arg_check_num(n_args, n_kw, 1, 2, true);\n",
    "    mp_map_t kw_args;\n",
    "    mp_map_init_fixed_table(&kw_args, n_kw, args + n_args);\n",
    "    uint8_t dtype = ndarray_init_helper(n_args, args, &kw_args);\n",
    "\n",
    "    \n",
    "    size_t len1, len2=0, i=0;\n",
    "    mp_obj_t len_in = mp_obj_len_maybe(args[0]);\n",
    "    if (len_in == MP_OBJ_NULL) {\n",
    "        mp_raise_ValueError(\"first argument must be an iterable\");\n",
    "    } else {\n",
    "        len1 = MP_OBJ_SMALL_INT_VALUE(len_in);\n",
    "    }\n",
    "\n",
    "    // We have to figure out, whether the first element of the iterable is an iterable itself\n",
    "    // Perhaps, there is a more elegant way of handling this\n",
    "    mp_obj_iter_buf_t iter_buf1;\n",
    "    mp_obj_t item1, iterable1 = mp_getiter(args[0], &iter_buf1);\n",
    "    while ((item1 = mp_iternext(iterable1)) != MP_OBJ_STOP_ITERATION) {\n",
    "        len_in = mp_obj_len_maybe(item1);\n",
    "        if(len_in != MP_OBJ_NULL) { // indeed, this seems to be an iterable\n",
    "            // Next, we have to check, whether all elements in the outer loop have the same length\n",
    "            if(i > 0) {\n",
    "                if(len2 != MP_OBJ_SMALL_INT_VALUE(len_in)) {\n",
    "                    mp_raise_ValueError(\"iterables are not of the same length\");\n",
    "                }\n",
    "            }\n",
    "            len2 = MP_OBJ_SMALL_INT_VALUE(len_in);\n",
    "            i++;\n",
    "        }\n",
    "    }\n",
    "    // By this time, it should be established, what the shape is, so we can now create the array\n",
    "    ndarray_obj_t *self = create_new_ndarray(len1, (len2 == 0) ? 1 : len2, dtype);\n",
    "    iterable1 = mp_getiter(args[0], &iter_buf1);\n",
    "    i = 0;\n",
    "    if(len2 == 0) { // the first argument is a single iterable\n",
    "        ndarray_assign_elements(self->data, iterable1, dtype, &i);\n",
    "    } else {\n",
    "        mp_obj_iter_buf_t iter_buf2;\n",
    "        mp_obj_t iterable2; \n",
    "\n",
    "        while ((item1 = mp_iternext(iterable1)) != MP_OBJ_STOP_ITERATION) {\n",
    "            iterable2 = mp_getiter(item1, &iter_buf2);\n",
    "            ndarray_assign_elements(self->data, iterable2, dtype, &i);\n",
    "        }\n",
    "    }\n",
    "    return MP_OBJ_FROM_PTR(self);\n",
    "}\n",
    "\n",
    "mp_obj_t ndarray_subscr(mp_obj_t self_in, mp_obj_t index, mp_obj_t value) {\n",
    "    // NOTE: this will work only on the flattened array!\n",
    "    ndarray_obj_t *self = MP_OBJ_TO_PTR(self_in);\n",
    "    if (value == MP_OBJ_SENTINEL) { \n",
    "        // simply return the values at index, no assignment\n",
    "        if (MP_OBJ_IS_TYPE(index, &mp_type_slice)) {\n",
    "            mp_bound_slice_t slice;\n",
    "            mp_seq_get_fast_slice_indexes(self->data->len, index, &slice);\n",
    "            // TODO: this won't work with index reversion!!!\n",
    "            size_t len = (slice.stop - slice.start) / slice.step;\n",
    "            ndarray_obj_t *out = create_new_ndarray(1, len, self->data->typecode);\n",
    "            int _sizeof = mp_binary_get_size('@', self->data->typecode, NULL);\n",
    "            uint8_t *indata = (uint8_t *)self->data->items;\n",
    "            uint8_t *outdata = (uint8_t *)out->data->items;\n",
    "            for(size_t i=0; i < len; i++) {\n",
    "                memcpy(outdata+(i*_sizeof), indata+(slice.start+i*slice.step)*_sizeof, _sizeof);\n",
    "            }\n",
    "            return MP_OBJ_FROM_PTR(out);\n",
    "        }\n",
    "        // we have a single index, return either a single number (arrays), or an array (matrices)\n",
    "        int16_t idx = mp_obj_get_int(index);\n",
    "        if(idx < 0) {\n",
    "            idx = self->m > 1 ? self->m + idx : self->n + idx;\n",
    "        }\n",
    "        if(self->m > 1) { // we do have a matrix\n",
    "            if(idx >= self->m) {\n",
    "                mp_raise_ValueError(\"index is out of range\");\n",
    "            }\n",
    "            if(self->n == 1) { // the matrix is actually a column vector\n",
    "                return mp_binary_get_val_array(self->data->typecode, self->data->items, idx);\n",
    "            }\n",
    "            // return an array\n",
    "            ndarray_obj_t *out = create_new_ndarray(1, self->n, self->data->typecode);\n",
    "            int _sizeof = mp_binary_get_size('@', self->data->typecode, NULL);\n",
    "            uint8_t *indata = (uint8_t *)self->data->items;\n",
    "            uint8_t *outdata = (uint8_t *)out->data->items;\n",
    "            memcpy(outdata, &indata[idx*self->n*_sizeof], self->n*_sizeof);\n",
    "            return MP_OBJ_FROM_PTR(out);            \n",
    "        }\n",
    "        // since self->m == 1, we have a flat array, hence, we've got to return a single number\n",
    "        if(idx >= self->n) {\n",
    "            mp_raise_ValueError(\"index is out of range\");\n",
    "        }\n",
    "        return mp_binary_get_val_array(self->data->typecode, self->data->items, idx);\n",
    "    } else { \n",
    "        int16_t idx = mp_obj_get_int(index);\n",
    "        if((self->m == 1) || (self->n == 1)) {\n",
    "            if(idx < 0) {\n",
    "                idx = self->m > 1 ? self->m + idx : self->n + idx;\n",
    "            }\n",
    "            if((idx > self->m) && (idx > self->n)) {\n",
    "                mp_raise_ValueError(\"index is out of range\");                \n",
    "            }\n",
    "            mp_binary_set_val_array(self->data->typecode, self->data->items, idx, value);\n",
    "        } else { // do not deal with assignment, bail out, if the array is two-dimensional\n",
    "            mp_raise_NotImplementedError(\"subcript assignment is not implemented for 2D arrays\");\n",
    "        }\n",
    "    }\n",
    "    return mp_const_none;\n",
    "}\n",
    "\n",
    "// itarray iterator\n",
    "\n",
    "mp_obj_t ndarray_getiter(mp_obj_t o_in, mp_obj_iter_buf_t *iter_buf) {\n",
    "    return mp_obj_new_ndarray_iterator(o_in, 0, iter_buf);\n",
    "}\n",
    "\n",
    "typedef struct _mp_obj_ndarray_it_t {\n",
    "    mp_obj_base_t base;\n",
    "    mp_fun_1_t iternext;\n",
    "    mp_obj_t ndarray;\n",
    "    size_t cur;\n",
    "} mp_obj_ndarray_it_t;\n",
    "\n",
    "mp_obj_t ndarray_iternext(mp_obj_t self_in) {\n",
    "    mp_obj_ndarray_it_t *self = MP_OBJ_TO_PTR(self_in);\n",
    "    ndarray_obj_t *ndarray = MP_OBJ_TO_PTR(self->ndarray);\n",
    "    // TODO: in numpy, ndarrays are iterated with respect to the first axis. \n",
    "    size_t iter_end = 0;\n",
    "    if((ndarray->m == 1) || (ndarray->n ==1)) {\n",
    "        iter_end = ndarray->data->len;\n",
    "    } else {\n",
    "        iter_end = ndarray->m;\n",
    "    }\n",
    "    if(self->cur < iter_end) {\n",
    "        if(ndarray->m == ndarray->data->len) { // we are have a linear array\n",
    "            // read the current value\n",
    "            mp_obj_t value;\n",
    "            value = mp_binary_get_val_array(ndarray->data->typecode, ndarray->data->items, self->cur);\n",
    "            self->cur++;\n",
    "            return value;\n",
    "        } else { // we have a matrix, return the \n",
    "            ndarray_obj_t *value = create_new_ndarray(1, ndarray->n, ndarray->data->typecode);\n",
    "            // copy the memory content here\n",
    "            uint8_t *tmp = (uint8_t *)ndarray->data->items;\n",
    "            size_t strip_size = ndarray->n * mp_binary_get_size('@', ndarray->data->typecode, NULL);\n",
    "            memcpy(value->data->items, &tmp[self->cur*strip_size], strip_size);\n",
    "            self->cur++;\n",
    "            return value;\n",
    "        }\n",
    "    } else {\n",
    "        return MP_OBJ_STOP_ITERATION;\n",
    "    }\n",
    "}\n",
    "\n",
    "mp_obj_t mp_obj_new_ndarray_iterator(mp_obj_t ndarray, size_t cur, mp_obj_iter_buf_t *iter_buf) {\n",
    "    assert(sizeof(mp_obj_ndarray_it_t) <= sizeof(mp_obj_iter_buf_t));\n",
    "    mp_obj_ndarray_it_t *o = (mp_obj_ndarray_it_t*)iter_buf;\n",
    "    o->base.type = &mp_type_polymorph_iter;\n",
    "    o->iternext = ndarray_iternext;\n",
    "    o->ndarray = ndarray;\n",
    "    o->cur = cur;\n",
    "    return MP_OBJ_FROM_PTR(o);\n",
    "}\n",
    "\n",
    "mp_obj_t ndarray_shape(mp_obj_t self_in) {\n",
    "    ndarray_obj_t *self = MP_OBJ_TO_PTR(self_in);\n",
    "    mp_obj_t tuple[2] = {\n",
    "        mp_obj_new_int(self->m),\n",
    "        mp_obj_new_int(self->n)\n",
    "    };\n",
    "    return mp_obj_new_tuple(2, tuple);\n",
    "}\n",
    "\n",
    "mp_obj_t ndarray_size(mp_obj_t self_in, mp_obj_t axis) {\n",
    "    ndarray_obj_t *self = MP_OBJ_TO_PTR(self_in);\n",
    "    uint8_t ax = mp_obj_get_int(axis);\n",
    "    if(ax == 0) {\n",
    "        return mp_obj_new_int(self->data->len);\n",
    "    } else if(ax == 1) {\n",
    "        return mp_obj_new_int(self->m);\n",
    "    } else if(ax == 2) {\n",
    "        return mp_obj_new_int(self->n);\n",
    "    } else {\n",
    "        return mp_const_none;\n",
    "    }\n",
    "}\n",
    "\n",
    "mp_obj_t ndarray_rawsize(mp_obj_t self_in) {\n",
    "    // returns a 5-tuple with the \n",
    "    // \n",
    "    // 1. number of rows\n",
    "    // 2. number of columns\n",
    "    // 3. length of the storage (should be equal to the product of 1. and 2.)\n",
    "    // 4. length of the data storage in bytes\n",
    "    // 5. datum size in bytes\n",
    "    ndarray_obj_t *self = MP_OBJ_TO_PTR(self_in);\n",
    "    mp_obj_tuple_t *tuple = MP_OBJ_TO_PTR(mp_obj_new_tuple(5, NULL));\n",
    "    tuple->items[0] = MP_OBJ_NEW_SMALL_INT(self->m);\n",
    "    tuple->items[1] = MP_OBJ_NEW_SMALL_INT(self->n);\n",
    "    tuple->items[2] = MP_OBJ_NEW_SMALL_INT(self->bytes);\n",
    "    tuple->items[3] = MP_OBJ_NEW_SMALL_INT(self->data->len);\n",
    "    tuple->items[4] = MP_OBJ_NEW_SMALL_INT(mp_binary_get_size('@', self->data->typecode, NULL));\n",
    "    return tuple;\n",
    "}\n",
    "\n",
    "// Binary operations\n",
    "STATIC uint8_t upcasting(uint8_t type_left, uint8_t type_right) {\n",
    "    // returns the upcast typecode\n",
    "    // Now we have to collect 25 cases. Perhaps there is a more elegant solution for this    \n",
    "    if(type_left == type_right) { \n",
    "        // 5 cases\n",
    "        return type_left;\n",
    "    } else if((type_left == NDARRAY_FLOAT) || (type_right == NDARRAY_FLOAT)) { \n",
    "        // 8 cases ('f' AND 'f' has already been accounted for) \n",
    "        return NDARRAY_FLOAT;\n",
    "    } else if(((type_left == NDARRAY_UINT8) && (type_right == NDARRAY_INT8)) || \n",
    "              ((type_left == NDARRAY_INT8) && (type_right == NDARRAY_UINT8)) || \n",
    "              ((type_left == NDARRAY_UINT8) && (type_right == NDARRAY_INT16)) || \n",
    "              ((type_left == NDARRAY_INT16) && (type_right == NDARRAY_UINT8)) || \n",
    "              ((type_left == NDARRAY_UINT8) && (type_right == NDARRAY_UINT16)) ||\n",
    "              ((type_left == NDARRAY_UINT16) && (type_right == NDARRAY_UINT8)) || \n",
    "              ((type_left == NDARRAY_INT8) && (type_right == NDARRAY_UINT16)) ||\n",
    "              ((type_left == NDARRAY_UINT16) && (type_right == NDARRAY_INT8)) ) {\n",
    "        // 8 cases\n",
    "        return NDARRAY_UINT16;\n",
    "    } else if ( ((type_left == NDARRAY_INT8) && (type_right == NDARRAY_INT16)) ||\n",
    "               ((type_left == NDARRAY_INT16) && (type_right == NDARRAY_INT8)) ) {\n",
    "        // 2 cases\n",
    "        return NDARRAY_INT16;\n",
    "    } else if ( ((type_left == NDARRAY_INT16) && (type_right == NDARRAY_UINT16)) ||\n",
    "               ((type_left == NDARRAY_UINT16) && (type_right == NDARRAY_INT16)) ) {\n",
    "        // 2 cases\n",
    "        return NDARRAY_FLOAT;\n",
    "    }\n",
    "    return NDARRAY_FLOAT; // we are never going to reach this statement, but we have to make the compiler happy\n",
    "}\n",
    "\n",
    "mp_obj_t ndarray_binary_op(mp_binary_op_t op, mp_obj_t lhs, mp_obj_t rhs) {\n",
    "    ndarray_obj_t *ol = MP_OBJ_TO_PTR(lhs);\n",
    "    uint8_t typecode;\n",
    "    float value;\n",
    "    // First, the right hand side is a native micropython object, i.e, an integer, or a float\n",
    "    if (mp_obj_is_int(rhs) || mp_obj_is_float(rhs)) {\n",
    "        // we have to split the two cases here...\n",
    "        if(mp_obj_is_int(rhs)) {\n",
    "            typecode = upcasting(ol->data->typecode, NDARRAY_INT16);\n",
    "            value = (float)mp_obj_get_int(rhs);\n",
    "        } else {\n",
    "            typecode = upcasting(ol->data->typecode, NDARRAY_FLOAT);\n",
    "            value = mp_obj_get_float(rhs);\n",
    "        }\n",
    "        if((op == MP_BINARY_OP_ADD) || (op == MP_BINARY_OP_MULTIPLY) || \n",
    "            (op == MP_BINARY_OP_SUBTRACT) || (op == MP_BINARY_OP_TRUE_DIVIDE)) {\n",
    "            ndarray_obj_t *out = create_new_ndarray(ol->m, ol->n, typecode);\n",
    "            if(op == MP_BINARY_OP_SUBTRACT) value *= -1.0;\n",
    "            if(op == MP_BINARY_OP_TRUE_DIVIDE) value = 1.0/value;\n",
    "            if(typecode == NDARRAY_INT16) {\n",
    "                int16_t *outdata = (int16_t *)out->data->items;\n",
    "                if((op == MP_BINARY_OP_ADD) || (op == MP_BINARY_OP_SUBTRACT)) {\n",
    "                    for(size_t i=0; i < ol->data->len; i++) {\n",
    "                        outdata[i] = ndarray_get_float_value(ol->data->items, ol->data->typecode, i) + value;\n",
    "                    }\n",
    "                } else if((op == MP_BINARY_OP_MULTIPLY) || (op == MP_BINARY_OP_TRUE_DIVIDE)) {\n",
    "                    for(size_t i=0; i < ol->data->len; i++) {\n",
    "                        outdata[i] = ndarray_get_float_value(ol->data->items, ol->data->typecode, i) * value;\n",
    "                    }\n",
    "                }\n",
    "            } else if(typecode == NDARRAY_FLOAT) {\n",
    "                float *outdata = (float *)out->data->items;\n",
    "                if((op == MP_BINARY_OP_ADD) || (op == MP_BINARY_OP_SUBTRACT)) {\n",
    "                    for(size_t i=0; i < ol->data->len; i++) {\n",
    "                        outdata[i] = ndarray_get_float_value(ol->data->items, ol->data->typecode, i) + value;\n",
    "                    }\n",
    "                } else if((op == MP_BINARY_OP_MULTIPLY) || (op == MP_BINARY_OP_TRUE_DIVIDE)) {\n",
    "                    for(size_t i=0; i < ol->data->len; i++) {\n",
    "                        outdata[i] = ndarray_get_float_value(ol->data->items, ol->data->typecode, i) * value;\n",
    "                    }\n",
    "                }                    \n",
    "            }\n",
    "            return MP_OBJ_FROM_PTR(out);\n",
    "        } else {\n",
    "            return MP_OBJ_NULL; // op not supported\n",
    "        }\n",
    "    } else if(mp_obj_is_type(rhs, &ulab_ndarray_type)) { // next, the ndarray stuff\n",
    "        ndarray_obj_t *or = MP_OBJ_TO_PTR(rhs);\n",
    "        if((ol->m != or->m) || (ol->n != or->n)) {\n",
    "            mp_raise_ValueError(\"operands could not be broadcast together\");\n",
    "        }\n",
    "        // At this point, the operands should have the same shape\n",
    "        typecode = upcasting(or->data->typecode, ol->data->typecode);\n",
    "        if(op == MP_BINARY_OP_EQUAL) {\n",
    "            // Two arrays are equal, if their shape, typecode, and elements are equal\n",
    "            if((ol->m != or->m) || (ol->n != or->n) || (ol->data->typecode != or->data->typecode)) {\n",
    "                return mp_const_false;\n",
    "            } else {\n",
    "                size_t i = ol->bytes;\n",
    "                uint8_t *l = (uint8_t *)ol->data->items;\n",
    "                uint8_t *r = (uint8_t *)or->data->items;\n",
    "                while(i) { // At this point, we can simply compare the bytes, the type is irrelevant\n",
    "                    if(*l++ != *r++) {\n",
    "                        return mp_const_false;\n",
    "                    }\n",
    "                    i--;\n",
    "                }\n",
    "                return mp_const_true;\n",
    "            }\n",
    "        } else if((op == MP_BINARY_OP_ADD) || (op == MP_BINARY_OP_SUBTRACT) || \n",
    "            (op == MP_BINARY_OP_TRUE_DIVIDE) || (op == MP_BINARY_OP_MULTIPLY)) {\n",
    "            // for in-place operations, we won't need this!!!\n",
    "            typecode = upcasting(or->data->typecode, ol->data->typecode);\n",
    "            ndarray_obj_t *out = create_new_ndarray(ol->m, ol->n, typecode);\n",
    "            if(typecode == NDARRAY_UINT8) {\n",
    "                uint8_t *outdata = (uint8_t *)out->data->items;\n",
    "                for(size_t i=0; i < ol->data->len; i++) {\n",
    "                    value = ndarray_get_float_value(or->data->items, or->data->typecode, i);\n",
    "                    if(op == MP_BINARY_OP_ADD) {\n",
    "                        outdata[i] = ndarray_get_float_value(ol->data->items, ol->data->typecode, i) + value;\n",
    "                    } else if(op == MP_BINARY_OP_SUBTRACT) {\n",
    "                        outdata[i] = ndarray_get_float_value(ol->data->items, ol->data->typecode, i) - value;                            \n",
    "                    } else if(op == MP_BINARY_OP_MULTIPLY) {\n",
    "                        outdata[i] = ndarray_get_float_value(ol->data->items, ol->data->typecode, i) * value;\n",
    "                    } else if(op == MP_BINARY_OP_TRUE_DIVIDE) {\n",
    "                        outdata[i] = ndarray_get_float_value(ol->data->items, ol->data->typecode, i) / value;\n",
    "                    }\n",
    "                }\n",
    "            } else if(typecode == NDARRAY_INT8) {\n",
    "                int8_t *outdata = (int8_t *)out->data->items;\n",
    "                for(size_t i=0; i < ol->data->len; i++) {\n",
    "                    value = ndarray_get_float_value(or->data->items, or->data->typecode, i);\n",
    "                    if(op == MP_BINARY_OP_ADD) {\n",
    "                        outdata[i] = ndarray_get_float_value(ol->data->items, ol->data->typecode, i) + value;\n",
    "                    } else if(op == MP_BINARY_OP_SUBTRACT) {\n",
    "                        outdata[i] = ndarray_get_float_value(ol->data->items, ol->data->typecode, i) - value;                            \n",
    "                    } else if(op == MP_BINARY_OP_MULTIPLY) {\n",
    "                        outdata[i] = ndarray_get_float_value(ol->data->items, ol->data->typecode, i) * value;\n",
    "                    } else if(op == MP_BINARY_OP_TRUE_DIVIDE) {\n",
    "                        outdata[i] = ndarray_get_float_value(ol->data->items, ol->data->typecode, i) / value;\n",
    "                    }\n",
    "                }                    \n",
    "            } else if(typecode == NDARRAY_UINT16) {\n",
    "                uint16_t *outdata = (uint16_t *)out->data->items;\n",
    "                for(size_t i=0; i < ol->data->len; i++) {\n",
    "                    value = ndarray_get_float_value(or->data->items, or->data->typecode, i);\n",
    "                    if(op == MP_BINARY_OP_ADD) {\n",
    "                        outdata[i] = ndarray_get_float_value(ol->data->items, ol->data->typecode, i) + value;\n",
    "                    } else if(op == MP_BINARY_OP_SUBTRACT) {\n",
    "                        outdata[i] = ndarray_get_float_value(ol->data->items, ol->data->typecode, i) - value;                            \n",
    "                    } else if(op == MP_BINARY_OP_MULTIPLY) {\n",
    "                        outdata[i] = ndarray_get_float_value(ol->data->items, ol->data->typecode, i) * value;\n",
    "                    } else if(op == MP_BINARY_OP_TRUE_DIVIDE) {\n",
    "                        outdata[i] = ndarray_get_float_value(ol->data->items, ol->data->typecode, i) / value;\n",
    "                    }\n",
    "                }\n",
    "            } else if(typecode == NDARRAY_INT16) {\n",
    "                int16_t *outdata = (int16_t *)out->data->items;\n",
    "                for(size_t i=0; i < ol->data->len; i++) {\n",
    "                    value = ndarray_get_float_value(or->data->items, or->data->typecode, i);\n",
    "                    if(op == MP_BINARY_OP_ADD) {\n",
    "                        outdata[i] = ndarray_get_float_value(ol->data->items, ol->data->typecode, i) + value;\n",
    "                    } else if(op == MP_BINARY_OP_SUBTRACT) {\n",
    "                        outdata[i] = ndarray_get_float_value(ol->data->items, ol->data->typecode, i) - value;                            \n",
    "                    } else if(op == MP_BINARY_OP_MULTIPLY) {\n",
    "                        outdata[i] = ndarray_get_float_value(ol->data->items, ol->data->typecode, i) * value;\n",
    "                    } else if(op == MP_BINARY_OP_TRUE_DIVIDE) {\n",
    "                        outdata[i] = ndarray_get_float_value(ol->data->items, ol->data->typecode, i) / value;\n",
    "                    }\n",
    "                } \n",
    "            } else if(typecode == NDARRAY_FLOAT) {\n",
    "                float *outdata = (float *)out->data->items;\n",
    "                for(size_t i=0; i < ol->data->len; i++) {\n",
    "                    value = ndarray_get_float_value(or->data->items, or->data->typecode, i);\n",
    "                    if(op == MP_BINARY_OP_ADD) {\n",
    "                        outdata[i] = ndarray_get_float_value(ol->data->items, ol->data->typecode, i) + value;\n",
    "                    } else if(op == MP_BINARY_OP_SUBTRACT) {\n",
    "                        outdata[i] = ndarray_get_float_value(ol->data->items, ol->data->typecode, i) - value;                            \n",
    "                    } else if(op == MP_BINARY_OP_MULTIPLY) {\n",
    "                        outdata[i] = ndarray_get_float_value(ol->data->items, ol->data->typecode, i) * value;\n",
    "                    } else if(op == MP_BINARY_OP_TRUE_DIVIDE) {\n",
    "                        outdata[i] = ndarray_get_float_value(ol->data->items, ol->data->typecode, i) / value;\n",
    "                    }\n",
    "                }\n",
    "            }\n",
    "            return MP_OBJ_FROM_PTR(out);\n",
    "        } else {\n",
    "            return MP_OBJ_NULL; // op not supported                                                        \n",
    "        }\n",
    "    } else {\n",
    "        mp_raise_TypeError(\"wrong operand type on the right hand side\");\n",
    "    }\n",
    "}\n",
    "\n",
    "mp_obj_t ndarray_unary_op(mp_unary_op_t op, mp_obj_t self_in) {\n",
    "    ndarray_obj_t *self = MP_OBJ_TO_PTR(self_in);\n",
    "    switch (op) {\n",
    "        case MP_UNARY_OP_LEN: \n",
    "            if(self->m > 1) {\n",
    "                return mp_obj_new_int(self->m);\n",
    "            } else {\n",
    "                return mp_obj_new_int(self->n);                \n",
    "            }\n",
    "        default: return MP_OBJ_NULL; // operator not supported\n",
    "    }\n",
    "}"
   ]
  },
  {
   "cell_type": "markdown",
   "metadata": {},
   "source": [
    "# Linear algebra\n",
    "\n",
    "This module contains very basic matrix operators, such as transposing, reshaping, and inverting. The actual inversion is factored out into a helper function, so that the routine can be re-used in other modules. Also note that inversion is based on the notion of a *small number* (epsilon). During the computation of the inverse, a number is treated as 0, if its absolute value is smaller than epsilon. This precaution is required, otherwise, one might run into singular matrices. "
   ]
  },
  {
   "cell_type": "markdown",
   "metadata": {},
   "source": [
    "## linalg.h"
   ]
  },
  {
   "cell_type": "code",
   "execution_count": 173,
   "metadata": {
    "ExecuteTime": {
     "end_time": "2019-09-09T15:14:14.211206Z",
     "start_time": "2019-09-09T15:14:14.090399Z"
    }
   },
   "outputs": [
    {
     "name": "stdout",
     "output_type": "stream",
     "text": [
      "written 487 bytes to linalg.h\n"
     ]
    }
   ],
   "source": [
    "%%ccode linalg.h\n",
    "\n",
    "#ifndef _LINALG_\n",
    "#define _LINALG_\n",
    "\n",
    "#include \"ndarray.h\"\n",
    "\n",
    "#define SWAP(t, a, b) { t tmp = a; a = b; b = tmp; }\n",
    "#define epsilon        1e-6\n",
    "\n",
    "mp_obj_t linalg_transpose(mp_obj_t );\n",
    "mp_obj_t linalg_reshape(mp_obj_t , mp_obj_t );\n",
    "mp_obj_t linalg_inv(mp_obj_t );\n",
    "mp_obj_t linalg_dot(mp_obj_t , mp_obj_t );\n",
    "\n",
    "#endif"
   ]
  },
  {
   "cell_type": "markdown",
   "metadata": {},
   "source": [
    "## linalg.c"
   ]
  },
  {
   "cell_type": "code",
   "execution_count": 788,
   "metadata": {
    "ExecuteTime": {
     "end_time": "2019-09-18T15:31:31.831369Z",
     "start_time": "2019-09-18T15:31:31.823721Z"
    }
   },
   "outputs": [
    {
     "name": "stdout",
     "output_type": "stream",
     "text": [
      "written 5791 bytes to linalg.c\n"
     ]
    }
   ],
   "source": [
    "%%ccode linalg.c\n",
    "\n",
    "#include <stdlib.h>\n",
    "#include <string.h>\n",
    "#include \"py/obj.h\"\n",
    "#include \"py/runtime.h\"\n",
    "#include \"py/misc.h\"\n",
    "#include \"linalg.h\"\n",
    "\n",
    "mp_obj_t linalg_transpose(mp_obj_t self_in) {\n",
    "    ndarray_obj_t *self = MP_OBJ_TO_PTR(self_in);\n",
    "    // the size of a single item in the array\n",
    "    uint8_t _sizeof = mp_binary_get_size('@', self->data->typecode, NULL);\n",
    "    \n",
    "    // NOTE: In principle, we could simply specify the stride direction, and then we wouldn't \n",
    "    // even have to shuffle the elements. The downside of that approach is that we would have \n",
    "    // to implement two versions of the matrix multiplication and inversion functions\n",
    "    \n",
    "    // NOTE: \n",
    "    // if the matrices are square, we can simply swap items, but \n",
    "    // generic matrices can't be transposed in place, so we have to \n",
    "    // declare a temporary variable\n",
    "    \n",
    "    // NOTE: \n",
    "    //  In the old matrix, the coordinate (m, n) is m*self->n + n\n",
    "    //  We have to assign this to the coordinate (n, m) in the new \n",
    "    //  matrix, i.e., to n*self->m + m\n",
    "    \n",
    "    // one-dimensional arrays can be transposed by simply swapping the dimensions\n",
    "    if((self->m != 1) && (self->n != 1)) {\n",
    "        uint8_t *c = (uint8_t *)self->data->items;\n",
    "        // self->bytes is the size of the bytearray, irrespective of the typecode\n",
    "        uint8_t *tmp = m_new(uint8_t, self->bytes);\n",
    "        for(size_t m=0; m < self->m; m++) {\n",
    "            for(size_t n=0; n < self->n; n++) {\n",
    "                memcpy(tmp+_sizeof*(n*self->m + m), c+_sizeof*(m*self->n + n), _sizeof);\n",
    "            }\n",
    "        }\n",
    "        memcpy(self->data->items, tmp, self->bytes);\n",
    "        m_del(uint8_t, tmp, self->bytes);\n",
    "    } \n",
    "    SWAP(size_t, self->m, self->n);\n",
    "    return mp_const_none;\n",
    "}\n",
    "\n",
    "mp_obj_t linalg_reshape(mp_obj_t self_in, mp_obj_t shape) {\n",
    "    ndarray_obj_t *self = MP_OBJ_TO_PTR(self_in);\n",
    "    if(!MP_OBJ_IS_TYPE(shape, &mp_type_tuple) || (MP_OBJ_SMALL_INT_VALUE(mp_obj_len_maybe(shape)) != 2)) {\n",
    "        mp_raise_ValueError(\"shape must be a 2-tuple\");\n",
    "    }\n",
    "\n",
    "    mp_obj_iter_buf_t iter_buf;\n",
    "    mp_obj_t item, iterable = mp_getiter(shape, &iter_buf);\n",
    "    uint16_t m, n;\n",
    "    item = mp_iternext(iterable);\n",
    "    m = mp_obj_get_int(item);\n",
    "    item = mp_iternext(iterable);\n",
    "    n = mp_obj_get_int(item);\n",
    "    if(m*n != self->m*self->n) {\n",
    "        // TODO: the proper error message would be \"cannot reshape array of size %d into shape (%d, %d)\"\n",
    "        mp_raise_ValueError(\"cannot reshape array (incompatible input/output shape)\");\n",
    "    }\n",
    "    self->m = m;\n",
    "    self->n = n;\n",
    "    return MP_OBJ_FROM_PTR(self);\n",
    "}\n",
    "\n",
    "ndarray_obj_t *invert_matrix(mp_obj_array_t *data, size_t N) {\n",
    "    // After inversion the matrix is most certainly a float\n",
    "    ndarray_obj_t *tmp = create_new_ndarray(N, N, NDARRAY_FLOAT);\n",
    "    // initially, this is the unit matrix: this is what will be returned a\n",
    "    // after all the transformations\n",
    "    ndarray_obj_t *unitm = create_new_ndarray(N, N, NDARRAY_FLOAT);\n",
    "\n",
    "    float *c = (float *)tmp->data->items;\n",
    "    float *unit = (float *)unitm->data->items;\n",
    "    mp_obj_t elem;\n",
    "    float elemf;\n",
    "    for(size_t m=0; m < N; m++) { // rows first\n",
    "        for(size_t n=0; n < N; n++) { // columns next\n",
    "            // this could, perhaps, be done in single line...\n",
    "            elem = mp_binary_get_val_array(data->typecode, data->items, m*N+n);\n",
    "            elemf = (float)mp_obj_get_float(elem);\n",
    "            memcpy(&c[m*N+n], &elemf, sizeof(float));\n",
    "        }\n",
    "        // initialise the unit matrix\n",
    "        elemf = 1.0;\n",
    "        memcpy(&unit[m*(N+1)], &elemf, sizeof(float));\n",
    "    }\n",
    "    for(size_t m=0; m < N; m++){\n",
    "        // this could be faster with ((c < epsilon) && (c > -epsilon))\n",
    "        if(abs(c[m*(N+1)]) < epsilon) {\n",
    "            // TODO: check what kind of exception numpy raises\n",
    "            mp_raise_ValueError(\"input matrix is singular\");\n",
    "        }\n",
    "        for(size_t n=0; n < N; n++){\n",
    "            if(m != n){\n",
    "                elemf = c[N*n+m] / c[m*(N+1)];\n",
    "                for(size_t k=0; k < N; k++){\n",
    "                    c[N*n+k] -= elemf * c[N*m+k];\n",
    "                    unit[N*n+k] -= elemf * unit[N*m+k];\n",
    "                }\n",
    "            }\n",
    "        }\n",
    "    }\n",
    "    for(size_t m=0; m < N; m++){ \n",
    "        elemf = c[m*(N+1)];\n",
    "        for(size_t n=0; n < N; n++){\n",
    "            c[N*m+n] /= elemf;\n",
    "            unit[N*m+n] /= elemf;\n",
    "        }\n",
    "    }\n",
    "    return unitm;\n",
    "}\n",
    "\n",
    "mp_obj_t linalg_inv(mp_obj_t o_in) {\n",
    "    ndarray_obj_t *o = MP_OBJ_TO_PTR(o_in);\n",
    "    if(!MP_OBJ_IS_TYPE(o_in, &ulab_ndarray_type)) {\n",
    "        mp_raise_TypeError(\"only ndarray objects can be inverted\");\n",
    "    }\n",
    "    if(o->m != o->n) {\n",
    "        mp_raise_ValueError(\"only square matrices can be inverted\");\n",
    "    }\n",
    "    ndarray_obj_t *inverted = invert_matrix(o->data, o->m);\n",
    "    return MP_OBJ_FROM_PTR(inverted);\n",
    "}\n",
    "\n",
    "mp_obj_t linalg_dot(mp_obj_t _m1, mp_obj_t _m2) {\n",
    "    // TODO: should the results be upcast?\n",
    "    ndarray_obj_t *m1 = MP_OBJ_TO_PTR(_m1);\n",
    "    ndarray_obj_t *m2 = MP_OBJ_TO_PTR(_m2);    \n",
    "    if(m1->n != m2->m) {\n",
    "        mp_raise_ValueError(\"matrix dimensions do not match\");\n",
    "    }\n",
    "    ndarray_obj_t *out = create_new_ndarray(m1->m, m2->n, NDARRAY_FLOAT);\n",
    "    float *outdata = (float *)out->data->items;\n",
    "    float sum, v1, v2;\n",
    "    for(size_t i=0; i < m1->n; i++) {\n",
    "        for(size_t j=0; j < m2->m; j++) {\n",
    "            sum = 0.0;\n",
    "            for(size_t k=0; k < m1->m; k++) {\n",
    "                // (j, k) * (k, j)\n",
    "                v1 = ndarray_get_float_value(m1->data->items, m1->data->typecode, i*m1->n+k);\n",
    "                v2 = ndarray_get_float_value(m2->data->items, m2->data->typecode, k*m2->n+j);\n",
    "                sum += v1 * v2;\n",
    "            }\n",
    "            outdata[i*m1->m+j] = sum;\n",
    "        }\n",
    "    }\n",
    "    return MP_OBJ_FROM_PTR(out);\n",
    "}"
   ]
  },
  {
   "cell_type": "markdown",
   "metadata": {},
   "source": [
    "# Vectorising mathematical operations"
   ]
  },
  {
   "cell_type": "markdown",
   "metadata": {},
   "source": [
    "## General comments"
   ]
  },
  {
   "cell_type": "markdown",
   "metadata": {},
   "source": [
    "The following module implements the common mathematical functions for scalars, ndarrays (linear or matrix), and iterables. If the input argument is a scalar, a scalar is returned (i.e., for such arguments, these functions are identical to the functions in the `math` module), while for ndarrays, and iterables, the return value is an ndarray of type `float`. "
   ]
  },
  {
   "cell_type": "code",
   "execution_count": 670,
   "metadata": {
    "ExecuteTime": {
     "end_time": "2019-09-17T19:29:26.118299Z",
     "start_time": "2019-09-17T19:29:26.092929Z"
    },
    "scrolled": true
   },
   "outputs": [
    {
     "name": "stdout",
     "output_type": "stream",
     "text": [
      "ndarray([1.0, 2.718281745910645, 7.389056205749512, 20.08553695678711, 54.59814834594727], dtype=float)\n",
      "7.38905609893065\n",
      "ndarray([2.718281745910645, 7.389056205749512, 20.08553695678711], dtype=float)\n",
      "ndarray([[2.718281745910645, 7.389056205749512, 20.08553695678711],\n",
      "\t [54.59814834594727, 148.4131622314453, 403.4288024902343]], dtype=float)\n",
      "\n",
      "\n"
     ]
    }
   ],
   "source": [
    "%%micropython\n",
    "\n",
    "import ulab\n",
    "\n",
    "a = ulab.ndarray([1, 2, 3])\n",
    "print(ulab.exp(range(5)))\n",
    "print(ulab.exp(2.0))\n",
    "print(ulab.exp(a))\n",
    "a = ulab.ndarray([[1, 2, 3], [4, 5, 6]])\n",
    "print(ulab.exp(a))"
   ]
  },
  {
   "cell_type": "markdown",
   "metadata": {},
   "source": [
    "Note that ndarrays are linear arrays in memory, even if the `shape` of the ndarray is a matrix. This means that we can treat both cases in a *single* loop."
   ]
  },
  {
   "cell_type": "markdown",
   "metadata": {},
   "source": [
    "Since `ndarray`s are iterable, we could treat `ndarray`s, `list`s, `tuples`, and `range`s on the same footing. However, that would mean extra trips to a lot of functions, therefore, reading out the values of the `ndarray` directly is probably significantly faster. "
   ]
  },
  {
   "cell_type": "markdown",
   "metadata": {},
   "source": [
    "## vectorise.h"
   ]
  },
  {
   "cell_type": "code",
   "execution_count": 190,
   "metadata": {
    "ExecuteTime": {
     "end_time": "2019-08-07T18:43:32.861490Z",
     "start_time": "2019-08-07T18:43:32.856781Z"
    }
   },
   "outputs": [
    {
     "name": "stdout",
     "output_type": "stream",
     "text": [
      "written 1082 bytes to vectorise.h\n"
     ]
    }
   ],
   "source": [
    "%%ccode vectorise.h\n",
    "\n",
    "#ifndef _VECTORISE_\n",
    "#define _VECTORISE_\n",
    "\n",
    "#include \"ndarray.h\"\n",
    "\n",
    "mp_obj_t vectorise_acos(mp_obj_t );\n",
    "mp_obj_t vectorise_acosh(mp_obj_t );\n",
    "mp_obj_t vectorise_asin(mp_obj_t );\n",
    "mp_obj_t vectorise_asinh(mp_obj_t );\n",
    "mp_obj_t vectorise_atan(mp_obj_t );\n",
    "mp_obj_t vectorise_atanh(mp_obj_t );\n",
    "mp_obj_t vectorise_ceil(mp_obj_t );\n",
    "mp_obj_t vectorise_cos(mp_obj_t );\n",
    "mp_obj_t vectorise_erf(mp_obj_t );\n",
    "mp_obj_t vectorise_erfc(mp_obj_t );\n",
    "mp_obj_t vectorise_exp(mp_obj_t );\n",
    "mp_obj_t vectorise_expm1(mp_obj_t );\n",
    "mp_obj_t vectorise_floor(mp_obj_t );\n",
    "mp_obj_t vectorise_gamma(mp_obj_t );\n",
    "mp_obj_t vectorise_lgamma(mp_obj_t );\n",
    "mp_obj_t vectorise_log(mp_obj_t );\n",
    "mp_obj_t vectorise_log10(mp_obj_t );\n",
    "mp_obj_t vectorise_log2(mp_obj_t );\n",
    "mp_obj_t vectorise_sin(mp_obj_t );\n",
    "mp_obj_t vectorise_sinh(mp_obj_t );\n",
    "mp_obj_t vectorise_sqrt(mp_obj_t );\n",
    "mp_obj_t vectorise_tan(mp_obj_t );\n",
    "mp_obj_t vectorise_tanh(mp_obj_t );\n",
    "\n",
    "#endif"
   ]
  },
  {
   "cell_type": "markdown",
   "metadata": {},
   "source": [
    "## vectorise.c"
   ]
  },
  {
   "cell_type": "code",
   "execution_count": 798,
   "metadata": {
    "ExecuteTime": {
     "end_time": "2019-08-11T19:05:45.741085Z",
     "start_time": "2019-08-11T19:05:45.728596Z"
    }
   },
   "outputs": [
    {
     "name": "stdout",
     "output_type": "stream",
     "text": [
      "written 2972 bytes to vectorise.c\n"
     ]
    }
   ],
   "source": [
    "%%ccode vectorise.c\n",
    "\n",
    "#include <math.h>\n",
    "#include <stdio.h>\n",
    "#include <stdlib.h>\n",
    "#include \"py/runtime.h\"\n",
    "#include \"py/binary.h\"\n",
    "#include \"py/obj.h\"\n",
    "#include \"py/objarray.h\"\n",
    "#include \"vectorise.h\"\n",
    "\n",
    "#ifndef MP_PI\n",
    "#define MP_PI MICROPY_FLOAT_CONST(3.14159265358979323846)\n",
    "#endif\n",
    "\n",
    "mp_obj_t vectorise_generic_vector(mp_obj_t o_in, mp_float_t (*f)(mp_float_t)) {\n",
    "    // Return a single value, if o_in is not iterable\n",
    "    if(mp_obj_is_float(o_in) || mp_obj_is_integer(o_in)) {\n",
    "            return mp_obj_new_float(f(mp_obj_get_float(o_in)));\n",
    "    }\n",
    "    mp_float_t x;\n",
    "    if(MP_OBJ_IS_TYPE(o_in, &ulab_ndarray_type)) {\n",
    "        ndarray_obj_t *o = MP_OBJ_TO_PTR(o_in);\n",
    "        ndarray_obj_t *out = create_new_ndarray(o->m, o->n, NDARRAY_FLOAT);\n",
    "        float *datain = (float *)o->data->items;\n",
    "        float *dataout = (float *)out->data->items;\n",
    "        for(size_t i=0; i < o->data->len; i++) {\n",
    "            dataout[i] = f(datain[i]);\n",
    "        }\n",
    "        return MP_OBJ_FROM_PTR(out);\n",
    "    } else if(MP_OBJ_IS_TYPE(o_in, &mp_type_tuple) || MP_OBJ_IS_TYPE(o_in, &mp_type_list) || \n",
    "        MP_OBJ_IS_TYPE(o_in, &mp_type_range)) {\n",
    "            mp_obj_array_t *o = MP_OBJ_TO_PTR(o_in);\n",
    "            ndarray_obj_t *out = create_new_ndarray(1, o->len, NDARRAY_FLOAT);\n",
    "            float *dataout = (float *)out->data->items;\n",
    "            mp_obj_iter_buf_t iter_buf;\n",
    "            mp_obj_t item, iterable = mp_getiter(o_in, &iter_buf);\n",
    "            size_t i=0;\n",
    "            while ((item = mp_iternext(iterable)) != MP_OBJ_STOP_ITERATION) {\n",
    "                x = mp_obj_get_float(item);\n",
    "                dataout[i++] = f(x);\n",
    "            }\n",
    "        return MP_OBJ_FROM_PTR(out);\n",
    "    }\n",
    "    return mp_const_none;\n",
    "}\n",
    "\n",
    "\n",
    "#define MATH_FUN_1(py_name, c_name) \\\n",
    "    mp_obj_t vectorise_ ## py_name(mp_obj_t x_obj) { \\\n",
    "        return vectorise_generic_vector(x_obj, MICROPY_FLOAT_C_FUN(c_name)); \\\n",
    "    }\n",
    "\n",
    "// _degrees won't compile for the unix port\n",
    "/*\n",
    "mp_float_t _degreesf(mp_float_t x) {\n",
    "    return(180*x/MP_PI);\n",
    "}\n",
    "\n",
    "MATH_FUN_1(degrees, _degrees);\n",
    "\n",
    "// _radians won't compile for the unix port\n",
    "mp_float_t _radiansf(mp_float_t x) {\n",
    "    return(MP_PI*x/180.0);\n",
    "}\n",
    "\n",
    "MATH_FUN_1(radians, _radians);\n",
    "\n",
    "STATIC mp_float_t _fabsf(mp_float_t x) {\n",
    "    return fabsf(x);\n",
    "}\n",
    "\n",
    "MATH_FUN_1(fabs, _fabs);\n",
    "*/\n",
    "MATH_FUN_1(acos, acos);\n",
    "MATH_FUN_1(acosh, acosh);\n",
    "MATH_FUN_1(asin, asin);\n",
    "MATH_FUN_1(asinh, asinh);\n",
    "MATH_FUN_1(atan, atan);\t\n",
    "MATH_FUN_1(atanh, atanh);\n",
    "MATH_FUN_1(ceil, ceil);\n",
    "MATH_FUN_1(cos, cos);\n",
    "MATH_FUN_1(erf, erf);\n",
    "MATH_FUN_1(erfc, erfc);\n",
    "MATH_FUN_1(exp, exp);\n",
    "MATH_FUN_1(expm1, expm1);\n",
    "MATH_FUN_1(floor, floor);\n",
    "MATH_FUN_1(gamma, tgamma);\n",
    "MATH_FUN_1(lgamma, lgamma);\n",
    "MATH_FUN_1(log, log);\n",
    "MATH_FUN_1(log10, log10);\n",
    "MATH_FUN_1(log2, log2);\n",
    "MATH_FUN_1(sin, sin);\n",
    "MATH_FUN_1(sinh, sinh);\n",
    "MATH_FUN_1(sqrt, sqrt);\n",
    "MATH_FUN_1(tan, tan);\n",
    "MATH_FUN_1(tanh, tanh);"
   ]
  },
  {
   "cell_type": "markdown",
   "metadata": {},
   "source": [
    "# Polynomial fits"
   ]
  },
  {
   "cell_type": "code",
   "execution_count": 800,
   "metadata": {
    "ExecuteTime": {
     "end_time": "2019-08-11T19:06:30.120460Z",
     "start_time": "2019-08-11T19:06:30.103324Z"
    }
   },
   "outputs": [
    {
     "name": "stdout",
     "output_type": "stream",
     "text": [
      "ndarray([4.0, 10.0, 26.0, 58.00000000000001, 112.0])\n",
      "\n",
      "ndarray([0.0, 1.0, 2.0, 3.0, 4.0])\n",
      "\n",
      "ndarray([4.0, 10.0, 26.0, 58.00000000000001, 112.0])\n",
      "\n",
      "\n",
      "\n"
     ]
    }
   ],
   "source": [
    "%%micropython\n",
    "\n",
    "import ulab\n",
    "\n",
    "p = [1, 2, 3, 4]\n",
    "x = [0, 1, 2, 3, 4]\n",
    "\n",
    "print(ulab.polyval(p, x))\n",
    "a = ulab.ndarray(x)\n",
    "print(a)\n",
    "print(ulab.polyval(p, a))"
   ]
  },
  {
   "cell_type": "markdown",
   "metadata": {},
   "source": [
    "## poly.h"
   ]
  },
  {
   "cell_type": "code",
   "execution_count": 754,
   "metadata": {
    "ExecuteTime": {
     "end_time": "2019-08-11T16:57:42.591811Z",
     "start_time": "2019-08-11T16:57:42.583583Z"
    }
   },
   "outputs": [
    {
     "name": "stdout",
     "output_type": "stream",
     "text": [
      "written 264 bytes to poly.h\n"
     ]
    }
   ],
   "source": [
    "%%ccode poly.h\n",
    "\n",
    "#ifndef _POLY_\n",
    "#define _POLY_\n",
    "\n",
    "mp_obj_t poly_polyval(mp_obj_t , mp_obj_t );\n",
    "\n",
    "#endif"
   ]
  },
  {
   "cell_type": "markdown",
   "metadata": {},
   "source": [
    "## poly.c"
   ]
  },
  {
   "cell_type": "code",
   "execution_count": 819,
   "metadata": {
    "ExecuteTime": {
     "end_time": "2019-08-13T15:54:41.869169Z",
     "start_time": "2019-08-13T15:54:41.859638Z"
    }
   },
   "outputs": [
    {
     "name": "stdout",
     "output_type": "stream",
     "text": [
      "written 1524 bytes to poly.c\n"
     ]
    }
   ],
   "source": [
    "%%ccode poly.c\n",
    "\n",
    "#include \"py/runtime.h\"\n",
    "#include \"py/objarray.h\"\n",
    "#include \"ndarray.h\"\n",
    "#include \"poly.h\"\n",
    "\n",
    "mp_obj_t poly_polyval(mp_obj_t o_p, mp_obj_t o_x) {\n",
    "    // TODO: return immediately, if o_p is not an iterable\n",
    "    size_t m, n;\n",
    "    if(MP_OBJ_IS_TYPE(o_x, &ulab_ndarray_type)) {\n",
    "        ndarray_obj_t *ndx = MP_OBJ_TO_PTR(o_x);\n",
    "        m = ndx->m;\n",
    "        n = ndx->n;\n",
    "    } else {\n",
    "        mp_obj_array_t *ix = MP_OBJ_TO_PTR(o_x);\n",
    "        m = 1;\n",
    "        n = ix->len;\n",
    "    }\n",
    "    // polynomials are going to be of float, except, when both \n",
    "    // the coefficients and the independent variable are integers\n",
    "    ndarray_obj_t *out = create_new_ndarray(m, n, NDARRAY_FLOAT);\n",
    "    mp_obj_iter_buf_t x_buf;\n",
    "    mp_obj_t x_item, x_iterable = mp_getiter(o_x, &x_buf);\n",
    "\n",
    "    mp_obj_iter_buf_t p_buf;\n",
    "    mp_obj_t p_item, p_iterable;\n",
    "\n",
    "    size_t i = 0;\n",
    "    mp_float_t x, y;\n",
    "    float *outf = (float *)out->data->items;\n",
    "    while ((x_item = mp_iternext(x_iterable)) != MP_OBJ_STOP_ITERATION) {\n",
    "        x = mp_obj_get_float(x_item);\n",
    "        p_iterable = mp_getiter(o_p, &p_buf);\n",
    "        p_item = mp_iternext(p_iterable);\n",
    "        y = mp_obj_get_float(p_item);\n",
    "        while((p_item = mp_iternext(p_iterable)) != MP_OBJ_STOP_ITERATION) {\n",
    "            y *= x;\n",
    "            y += mp_obj_get_float(p_item);\n",
    "        }\n",
    "        outf[i++] = y;\n",
    "    }\n",
    "    return MP_OBJ_FROM_PTR(out);\n",
    "}"
   ]
  },
  {
   "cell_type": "markdown",
   "metadata": {},
   "source": [
    "# Fast Fourier transform"
   ]
  },
  {
   "cell_type": "markdown",
   "metadata": {},
   "source": [
    "The original idea of the implementation of the fast Fourier transform is taken from Numerical recipes. The main modification is that the present FFT kernel requires two input vectors of float type: one for the real part, and one for the imaginary part, while in Numerical recipes, the real and imaginary parts occupy alternating positions in the same array. \n",
    "\n",
    "However, since `ndarray` cannot hold complex types, it makes sense to starts with two separate vectors. This is especially true for our particular case, since the data are most probably real, coming from an ADC or similar. By separating the real and imaginary parts at the very beginning, we can process *real* data by not providing the imaginary part. \n",
    "\n",
    "Now, the implementation computes the transform in place. This means that RAM space could be saved, if the old data are not required anymore. The problem, however, is that the results are of type float, irrespective of the input type. If one can somehow guarantee that the input type is also float, then the old data can be overwritten. "
   ]
  },
  {
   "cell_type": "markdown",
   "metadata": {},
   "source": [
    "## fft.h"
   ]
  },
  {
   "cell_type": "code",
   "execution_count": 754,
   "metadata": {
    "ExecuteTime": {
     "end_time": "2019-09-18T04:50:55.087275Z",
     "start_time": "2019-09-18T04:50:55.080667Z"
    }
   },
   "outputs": [
    {
     "name": "stdout",
     "output_type": "stream",
     "text": [
      "written 429 bytes to fft.h\n"
     ]
    }
   ],
   "source": [
    "%%ccode fft.h\n",
    "\n",
    "#ifndef _FFT_\n",
    "#define _FFT_\n",
    "\n",
    "#ifndef MP_PI\n",
    "#define MP_PI MICROPY_FLOAT_CONST(3.14159265358979323846)\n",
    "#endif\n",
    "\n",
    "#define SWAP(t, a, b) { t tmp = a; a = b; b = tmp; }\n",
    "\n",
    "mp_obj_t fft_fft(size_t , const mp_obj_t *);\n",
    "mp_obj_t fft_spectrum(mp_obj_t );\n",
    "#endif"
   ]
  },
  {
   "cell_type": "markdown",
   "metadata": {},
   "source": [
    "## fft.c"
   ]
  },
  {
   "cell_type": "code",
   "execution_count": 794,
   "metadata": {
    "ExecuteTime": {
     "end_time": "2019-09-18T17:34:08.434329Z",
     "start_time": "2019-09-18T17:34:08.427512Z"
    }
   },
   "outputs": [
    {
     "name": "stdout",
     "output_type": "stream",
     "text": [
      "written 4808 bytes to fft.c\n"
     ]
    }
   ],
   "source": [
    "%%ccode fft.c\n",
    "\n",
    "#include <math.h>\n",
    "#include <stdio.h>\n",
    "#include <stdlib.h>\n",
    "#include <string.h>\n",
    "#include \"py/runtime.h\"\n",
    "#include \"py/binary.h\"\n",
    "#include \"py/obj.h\"\n",
    "#include \"py/objarray.h\"\n",
    "#include \"ndarray.h\"\n",
    "#include \"fft.h\"\n",
    "\n",
    "void fft_kernel(float *real, float *imag, int n, int isign) {\n",
    "    // This is basically a modification of four1 from Numerical Recipes\n",
    "    // The main difference is that this function takes two arrays, one \n",
    "    // for the real, and one for the imaginary parts. \n",
    "    int j, m, mmax, istep;\n",
    "    float tempr, tempi;\n",
    "    float wtemp, wr, wpr, wpi, wi, theta;\n",
    "\n",
    "    j = 0;\n",
    "    for(int i = 0; i < n; i++) {\n",
    "        if (j > i) {\n",
    "            SWAP(float, real[i], real[j]);\n",
    "            SWAP(float, imag[i], imag[j]);            \n",
    "        }\n",
    "        m = n >> 1;\n",
    "        while (j >= m && m > 0) {\n",
    "            j -= m;\n",
    "            m >>= 1;\n",
    "        }\n",
    "        j += m;\n",
    "    }\n",
    "\n",
    "    mmax = 1;\n",
    "    while (n > mmax) {\n",
    "        istep = mmax << 1;\n",
    "        theta = -1.0*isign*6.28318530717959/istep;\n",
    "        wtemp = sinf(0.5 * theta);\n",
    "        wpr = -2.0 * wtemp * wtemp;\n",
    "        wpi = sinf(theta);\n",
    "        wr = 1.0;\n",
    "        wi = 0.0;\n",
    "        for(m = 0; m < mmax; m++) {\n",
    "            for(int i = m; i < n; i += istep) {\n",
    "                j = i + mmax;\n",
    "                tempr = wr * real[j] - wi * imag[j];\n",
    "                tempi = wr * imag[j] + wi * real[j];\n",
    "                real[j] = real[i] - tempr;\n",
    "                imag[j] = imag[i] - tempi;\n",
    "                real[i] += tempr;\n",
    "                imag[i] += tempi;\n",
    "            }\n",
    "            wtemp = wr;\n",
    "            wr = wr*wpr - wi*wpi + wr;\n",
    "            wi = wi*wpr + wtemp*wpi + wi;\n",
    "        }\n",
    "        mmax = istep;\n",
    "    }\n",
    "}\n",
    "\n",
    "mp_obj_t fft_fft(size_t n_args, const mp_obj_t *args) {\n",
    "    // TODO: return the absolute value, if keyword argument is specified\n",
    "    // TODO: transform the data in place, if keyword argument is specified\n",
    "    if(!MP_OBJ_IS_TYPE(args[0], &ulab_ndarray_type)) {\n",
    "        mp_raise_NotImplementedError(\"FFT is defined for ndarrays only\");\n",
    "    } \n",
    "    if(n_args == 2) {\n",
    "        if(!MP_OBJ_IS_TYPE(args[1], &ulab_ndarray_type)) {\n",
    "            mp_raise_NotImplementedError(\"FFT is defined for ndarrays only\");\n",
    "        }\n",
    "    }\n",
    "    // Check if input is of length of power of 2\n",
    "    ndarray_obj_t *re = MP_OBJ_TO_PTR(args[0]);\n",
    "    uint16_t len = re->data->len;\n",
    "    if((len & (len-1)) != 0) {\n",
    "        mp_raise_ValueError(\"input array length must be power of 2\");\n",
    "    }\n",
    "    \n",
    "    ndarray_obj_t *out_re = create_new_ndarray(1, len, NDARRAY_FLOAT);\n",
    "    float *data_re = (float *)out_re->data->items;\n",
    "    \n",
    "    if(re->data->typecode == NDARRAY_FLOAT) {\n",
    "        memcpy((float *)out_re->data->items, (float *)re->data->items, re->bytes);\n",
    "    } else {\n",
    "        for(size_t i=0; i < len; i++) {\n",
    "            data_re[i] = ndarray_get_float_value(re->data->items, re->data->typecode, i);\n",
    "        }\n",
    "    }\n",
    "    ndarray_obj_t *out_im = create_new_ndarray(1, len, NDARRAY_FLOAT);\n",
    "    float *data_im = (float *)out_im->data->items;\n",
    "\n",
    "    if(n_args == 2) {\n",
    "        ndarray_obj_t *im = MP_OBJ_TO_PTR(args[1]);\n",
    "        if (re->data->len != im->data->len) {\n",
    "            mp_raise_ValueError(\"real and imaginary parts must be of equal length\");\n",
    "        }\n",
    "        if(im->data->typecode == NDARRAY_FLOAT) {\n",
    "            memcpy((float *)out_im->data->items, (float *)im->data->items, im->bytes);\n",
    "        } else {\n",
    "            for(size_t i=0; i < len; i++) {\n",
    "                data_im[i] = ndarray_get_float_value(im->data->items, im->data->typecode, i);\n",
    "            }\n",
    "        }\n",
    "    }    \n",
    "    fft_kernel(data_re, data_im, len, 1);\n",
    "    mp_obj_t tuple[2];\n",
    "    tuple[0] = out_re;\n",
    "    tuple[1] = out_im;\n",
    "    return mp_obj_new_tuple(2, tuple);\n",
    "}\n",
    "\n",
    "mp_obj_t fft_spectrum(mp_obj_t oin) {\n",
    "    // calculates the the spectrum of a single real ndarray in place\n",
    "    if(!MP_OBJ_IS_TYPE(oin, &ulab_ndarray_type)) {\n",
    "        mp_raise_NotImplementedError(\"FFT is defined for ndarrays only\");\n",
    "    }\n",
    "    ndarray_obj_t *re = MP_OBJ_TO_PTR(oin);\n",
    "    uint16_t len = re->data->len;\n",
    "    if((re->m > 1) && (re->n > 1)) {\n",
    "        mp_raise_ValueError(\"input data must be an array\");\n",
    "    }\n",
    "    if((len & (len-1)) != 0) {\n",
    "        mp_raise_ValueError(\"input array length must be power of 2\");\n",
    "    }\n",
    "    if(re->data->typecode != NDARRAY_FLOAT) {\n",
    "        mp_raise_TypeError(\"input array must be of type float\");\n",
    "    }\n",
    "    float *data_re = (float *)re->data->items;\n",
    "    ndarray_obj_t *im = create_new_ndarray(1, len, NDARRAY_FLOAT);\n",
    "    float *data_im = (float *)im->data->items;\n",
    "    fft_kernel(data_re, data_im, len, 1);\n",
    "    for(size_t i=0; i < len; i++) {\n",
    "        data_re[i] = sqrtf(data_re[i]*data_re[i] + data_im[i]*data_im[i]);\n",
    "    }\n",
    "    return mp_const_none;\n",
    "}"
   ]
  },
  {
   "cell_type": "markdown",
   "metadata": {},
   "source": [
    "# Numerical\n",
    "\n",
    "## General comments\n",
    "\n",
    "This section contains miscellaneous functions that did not fit in the other submodules. These include `linspace`, `min/max`, `argmin/argmax`, `sum`, `mean`, `std`. These latter functions work with iterables, or ndarrays. When the ndarray is two-dimensional, an `axis` keyword can be supplied, in which case, the function returns a vector, otherwise a scalar.\n",
    "\n",
    "Since the return values of `mean`, and `std` are most probably floats, these functions return ndarrays of type float, while `min/max` and `clip` do not change the type, and `argmin/argmax` return `uint8`, if the values are smaller than 255, otherwise, `uint16`.\n",
    "\n",
    "### roll\n",
    "\n",
    "Note that at present, arrays are always rolled to the left, even when the user specifies right. The reason for that is inner working of `memcpy`: one can shift contiguous chunks to the left only. If one tries to shift to the right, then the same value will be written into the new array over and over again."
   ]
  },
  {
   "cell_type": "markdown",
   "metadata": {},
   "source": [
    "## Examples"
   ]
  },
  {
   "cell_type": "code",
   "execution_count": 524,
   "metadata": {
    "ExecuteTime": {
     "end_time": "2019-09-13T14:13:13.264274Z",
     "start_time": "2019-09-13T14:13:13.234827Z"
    }
   },
   "outputs": [
    {
     "name": "stdout",
     "output_type": "stream",
     "text": [
      "ndarray([0.0, 1.0, 2.0, ..., 8.0, 9.0, 10.0], dtype=float)\n",
      "6.0\n",
      "ndarray([[1, 2, 3, 4, 5],\n",
      "\t [6, 7, 8, 9, 10],\n",
      "\t [55, 66, 77, 88, 99]], dtype=int8)\n",
      "ndarray([[55, 66, 77, 88, 99],\n",
      "\t [1, 2, 3, 4, 5],\n",
      "\t [6, 7, 8, 9, 10]], dtype=int8)\n",
      "ndarray([[66, 77, 88, 99, 55],\n",
      "\t [2, 3, 4, 5, 1],\n",
      "\t [7, 8, 9, 10, 6]], dtype=int8)\n",
      "\n",
      "\n"
     ]
    }
   ],
   "source": [
    "%%micropython\n",
    "\n",
    "import ulab\n",
    "\n",
    "print(ulab.linspace(0, 10, 11))\n",
    "print(ulab.sum([1, 2, 3]))\n",
    "\n",
    "a = ulab.ndarray([[1, 2, 3, 4, 5], [6, 7, 8, 9, 10], [55, 66, 77, 88, 99]], dtype=ulab.int8)\n",
    "print(a)\n",
    "ulab.roll(a, -1, axis=0)\n",
    "print(a)\n",
    "ulab.roll(a, 1, axis=1)\n",
    "print(a)"
   ]
  },
  {
   "cell_type": "markdown",
   "metadata": {},
   "source": [
    "## numerical.h"
   ]
  },
  {
   "cell_type": "code",
   "execution_count": 16,
   "metadata": {
    "ExecuteTime": {
     "end_time": "2019-09-02T15:06:06.701056Z",
     "start_time": "2019-09-02T15:06:06.679517Z"
    }
   },
   "outputs": [
    {
     "name": "stdout",
     "output_type": "stream",
     "text": [
      "written 825 bytes to numerical.h\n"
     ]
    }
   ],
   "source": [
    "%%ccode numerical.h\n",
    "\n",
    "#ifndef _NUMERICAL_\n",
    "#define _NUMERICAL_\n",
    "\n",
    "#include \"ndarray.h\"\n",
    "\n",
    "mp_obj_t numerical_linspace(mp_obj_t , mp_obj_t , mp_obj_t );\n",
    "mp_obj_t numerical_sum(size_t , const mp_obj_t *, mp_map_t *);\n",
    "mp_obj_t numerical_mean(size_t , const mp_obj_t *, mp_map_t *);\n",
    "mp_obj_t numerical_std(size_t , const mp_obj_t *, mp_map_t *);\n",
    "mp_obj_t numerical_min(size_t , const mp_obj_t *, mp_map_t *);\n",
    "mp_obj_t numerical_max(size_t , const mp_obj_t *, mp_map_t *);\n",
    "mp_obj_t numerical_argmin(size_t , const mp_obj_t *, mp_map_t *);\n",
    "mp_obj_t numerical_argmax(size_t , const mp_obj_t *, mp_map_t *);\n",
    "mp_obj_t numerical_roll(size_t , const mp_obj_t *, mp_map_t *);\n",
    "\n",
    "#endif"
   ]
  },
  {
   "cell_type": "markdown",
   "metadata": {},
   "source": [
    "## numerical.c\n",
    "\n",
    "### Parsing of arguments\n",
    "\n",
    "Since most of these functions operate on matrices along an axis, it might make sense to factor out the parsing of arguments and keyword arguments. The void function `numerical_parse_args` fills in the pointer for the matrix/array, and the axis."
   ]
  },
  {
   "cell_type": "code",
   "execution_count": 780,
   "metadata": {
    "ExecuteTime": {
     "end_time": "2019-09-18T15:16:15.052043Z",
     "start_time": "2019-09-18T15:16:15.042857Z"
    }
   },
   "outputs": [
    {
     "name": "stdout",
     "output_type": "stream",
     "text": [
      "written 14547 bytes to numerical.c\n"
     ]
    }
   ],
   "source": [
    "%%ccode numerical.c\n",
    "\n",
    "#include <math.h>\n",
    "#include <stdlib.h>\n",
    "#include <string.h>\n",
    "#include \"py/obj.h\"\n",
    "#include \"py/runtime.h\"\n",
    "#include \"py/builtin.h\"\n",
    "#include \"py/misc.h\"\n",
    "#include \"numerical.h\"\n",
    "\n",
    "enum NUMERICAL_FUNCTION_TYPE {\n",
    "    NUMERICAL_MIN,\n",
    "    NUMERICAL_MAX,\n",
    "    NUMERICAL_ARGMIN,\n",
    "    NUMERICAL_ARGMAX,\n",
    "    NUMERICAL_SUM,\n",
    "    NUMERICAL_MEAN,\n",
    "    NUMERICAL_STD,\n",
    "};\n",
    "\n",
    "mp_obj_t numerical_linspace(mp_obj_t _start, mp_obj_t _stop, mp_obj_t _len) {\n",
    "    // TODO: accept keyword argument endpoint=True, dtype=...\n",
    "    mp_int_t len = mp_obj_get_int_truncated(_len);\n",
    "    if(len < 2) {\n",
    "        mp_raise_ValueError(\"number of points must be at least 2\");\n",
    "    }\n",
    "    mp_float_t value, step;\n",
    "    value = mp_obj_get_float(_start);\n",
    "    step = (mp_obj_get_float(_stop)-value)/(len-1);\n",
    "    ndarray_obj_t *nd_array = create_new_ndarray(1, len, NDARRAY_FLOAT);\n",
    "    for(size_t i=0; i < len; i++, value += step) {\n",
    "        mp_binary_set_val_array('f', nd_array->data->items, i, mp_obj_new_float(value));\n",
    "    }\n",
    "    return MP_OBJ_FROM_PTR(nd_array);\n",
    "}\n",
    "\n",
    "mp_obj_t numerical_sum_mean_std_array(mp_obj_t oin, uint8_t optype) {\n",
    "    mp_float_t value, sum = 0.0, sq_sum = 0.0;\n",
    "    mp_obj_iter_buf_t iter_buf;\n",
    "    mp_obj_t item, iterable = mp_getiter(oin, &iter_buf);\n",
    "    mp_int_t len = mp_obj_get_int(mp_obj_len(oin));\n",
    "    while ((item = mp_iternext(iterable)) != MP_OBJ_STOP_ITERATION) {\n",
    "        value = mp_obj_get_float(item);\n",
    "        sum += value;\n",
    "        if(optype == NUMERICAL_STD) {\n",
    "            sq_sum += value*value;\n",
    "        }\n",
    "    }\n",
    "    if(optype ==  NUMERICAL_SUM) {\n",
    "        return mp_obj_new_float(sum);\n",
    "    } else if(optype == NUMERICAL_MEAN) {\n",
    "        return mp_obj_new_float(sum/len);\n",
    "    } else {\n",
    "        sum /= len; // this is now the mean!\n",
    "        return mp_obj_new_float(sqrtf((sq_sum/len-sum*sum)));\n",
    "    }\n",
    "}\n",
    "\n",
    "STATIC mp_obj_t numerical_argmin_argmax_array(mp_obj_t o_in, mp_uint_t op, uint8_t type) {\n",
    "    size_t idx = 0, best_idx = 0;\n",
    "    mp_obj_iter_buf_t iter_buf;\n",
    "    mp_obj_t iterable = mp_getiter(o_in, &iter_buf);\n",
    "    mp_obj_t best_obj = MP_OBJ_NULL;\n",
    "    mp_obj_t item;\n",
    "    while ((item = mp_iternext(iterable)) != MP_OBJ_STOP_ITERATION) {\n",
    "        if ((best_obj == MP_OBJ_NULL) || (mp_binary_op(op, item, best_obj) == mp_const_true)) {\n",
    "            best_obj = item;\n",
    "            best_idx = idx;\n",
    "        }\n",
    "        idx++;\n",
    "    }\n",
    "    if((type == NUMERICAL_ARGMIN) || (type == NUMERICAL_ARGMAX)) {\n",
    "        return MP_OBJ_NEW_SMALL_INT(best_idx);\n",
    "    } else {\n",
    "        return best_obj;\n",
    "    }\n",
    "}\n",
    "\n",
    "STATIC size_t numerical_argmin_argmax_single_line(void *data, size_t start, size_t stop, \n",
    "                                                  size_t stride, uint8_t typecode, uint8_t optype) {\n",
    "    size_t best_idx = start;\n",
    "    mp_float_t value, best_value = ndarray_get_float_value(data, typecode, start);\n",
    "    \n",
    "    for(size_t i=start; i < stop; i+=stride) {\n",
    "        value = ndarray_get_float_value(data, typecode, i);\n",
    "        if((optype == NUMERICAL_MIN) || (optype == NUMERICAL_ARGMIN)) {\n",
    "            if(best_value > value) {\n",
    "                best_value = value;\n",
    "                best_idx = i;\n",
    "            }\n",
    "        } else if((optype == NUMERICAL_MAX) || (optype == NUMERICAL_ARGMAX)) {\n",
    "            if(best_value < value) {\n",
    "                best_value = value;\n",
    "                best_idx = i;\n",
    "            }\n",
    "        }\n",
    "    }\n",
    "    return best_idx;\n",
    "}\n",
    "\n",
    "STATIC mp_obj_t numerical_argmin_argmax_matrix(mp_obj_t oin, mp_obj_t axis, uint8_t optype) {\n",
    "    ndarray_obj_t *in = MP_OBJ_TO_PTR(oin);\n",
    "    size_t best_idx;\n",
    "    if((axis == mp_const_none) || (in->m == 1) || (in->n == 1)) { \n",
    "        // return the value for the flattened array\n",
    "        best_idx = numerical_argmin_argmax_single_line(in->data->items, 0, \n",
    "                                                      in->data->len, 1, in->data->typecode, optype);\n",
    "        if((optype == NUMERICAL_ARGMIN) || (optype == NUMERICAL_ARGMAX)) {\n",
    "            return MP_OBJ_NEW_SMALL_INT(best_idx);\n",
    "        } else {\n",
    "            // TODO: do we have to do type conversion here, depending on the type of the input array?\n",
    "            return mp_obj_new_float(ndarray_get_float_value(in->data->items, in->data->typecode, best_idx));\n",
    "        }\n",
    "    } else {\n",
    "        uint8_t _axis = mp_obj_get_int(axis);\n",
    "        size_t m = (_axis == 0) ? 1 : in->m;\n",
    "        size_t n = (_axis == 0) ? in->n : 1;\n",
    "        size_t len = in->data->len;\n",
    "        // TODO: pass in->data->typcode to create_new_ndarray\n",
    "        ndarray_obj_t *out = create_new_ndarray(m, n, NDARRAY_FLOAT);\n",
    "\n",
    "        // TODO: these two cases could probably be combined in a more elegant fashion...\n",
    "        if(_axis == 0) { // vertical\n",
    "            for(size_t i=0; i < n; i++) {\n",
    "                best_idx = numerical_argmin_argmax_single_line(in->data->items, i, len, \n",
    "                                                               n, in->data->typecode, optype);\n",
    "                if((optype == NUMERICAL_ARGMIN) || (optype == NUMERICAL_ARGMAX)) {\n",
    "                    ((float_t *)out->data->items)[i] = (float)best_idx;\n",
    "                } else {\n",
    "                    ((float_t *)out->data->items)[i] = ndarray_get_float_value(in->data->items, in->data->typecode, best_idx);\n",
    "                }\n",
    "            }\n",
    "        } else { // horizontal\n",
    "            for(size_t i=0; i < m; i++) {\n",
    "                best_idx = numerical_argmin_argmax_single_line(in->data->items, i*in->n, \n",
    "                                                               (i+1)*in->n, 1, in->data->typecode, optype);\n",
    "                if((optype == NUMERICAL_ARGMIN) || (optype == NUMERICAL_ARGMAX)) {\n",
    "                    ((float_t *)out->data->items)[i] = (float)best_idx;\n",
    "                } else {\n",
    "                    ((float_t *)out->data->items)[i] = ndarray_get_float_value(in->data->items, in->data->typecode, best_idx);\n",
    "                }\n",
    "\n",
    "            }\n",
    "        }\n",
    "    return MP_OBJ_FROM_PTR(out);\n",
    "    }\n",
    "    return mp_const_none;\n",
    "}\n",
    "\n",
    "STATIC mp_float_t numerical_sum_mean_std_single_line(void *data, size_t start, size_t stop, \n",
    "                                                  size_t stride, uint8_t typecode, uint8_t optype) {\n",
    "    \n",
    "    mp_float_t sum = 0.0, sq_sum = 0.0, value;\n",
    "    size_t len = 0;\n",
    "    for(size_t i=start; i < stop; i+=stride, len++) {\n",
    "        value = ndarray_get_float_value(data, typecode, i);        \n",
    "        sum += value;\n",
    "        if(optype == NUMERICAL_STD) {\n",
    "            sq_sum += value*value;\n",
    "        }\n",
    "    }\n",
    "    if(len == 0) {\n",
    "        mp_raise_ValueError(\"data length is 0!\");\n",
    "    }\n",
    "    if(optype ==  NUMERICAL_SUM) {\n",
    "        return sum;\n",
    "    } else if(optype == NUMERICAL_MEAN) {\n",
    "        return sum/len;\n",
    "    } else {\n",
    "        sum /= len; // this is now the mean!\n",
    "        return sqrtf((sq_sum/len-sum*sum));\n",
    "    }\n",
    "}\n",
    "\n",
    "STATIC mp_obj_t numerical_sum_mean_std_matrix(mp_obj_t oin, mp_obj_t axis, uint8_t optype) {\n",
    "    ndarray_obj_t *in = MP_OBJ_TO_PTR(oin);\n",
    "    if((axis == mp_const_none) || (in->m == 1) || (in->n == 1)) { \n",
    "        // return the value for the flattened array\n",
    "        return mp_obj_new_float(numerical_sum_mean_std_single_line(in->data->items, 0, \n",
    "                                                      in->data->len, 1, in->data->typecode, optype));\n",
    "    } else {\n",
    "        uint8_t _axis = mp_obj_get_int(axis);\n",
    "        size_t m = (_axis == 0) ? 1 : in->m;\n",
    "        size_t n = (_axis == 0) ? in->n : 1;\n",
    "        size_t len = in->data->len;\n",
    "        mp_float_t sms;\n",
    "        // TODO: pass in->data->typcode to create_new_ndarray\n",
    "        ndarray_obj_t *out = create_new_ndarray(m, n, NDARRAY_FLOAT);\n",
    "\n",
    "        // TODO: these two cases could probably be combined in a more elegant fashion...\n",
    "        if(_axis == 0) { // vertical\n",
    "            for(size_t i=0; i < n; i++) {\n",
    "                sms = numerical_sum_mean_std_single_line(in->data->items, i, len, \n",
    "                                                               n, in->data->typecode, optype);\n",
    "                ((float_t *)out->data->items)[i] = sms;\n",
    "            }\n",
    "        } else { // horizontal\n",
    "            for(size_t i=0; i < m; i++) {\n",
    "                sms = numerical_sum_mean_std_single_line(in->data->items, i*in->n, \n",
    "                                                               (i+1)*in->n, 1, in->data->typecode, optype);\n",
    "                ((float_t *)out->data->items)[i] = sms;\n",
    "            }\n",
    "        }\n",
    "    return MP_OBJ_FROM_PTR(out);\n",
    "    }\n",
    "}\n",
    "\n",
    "STATIC mp_obj_t numerical_function(size_t n_args, const mp_obj_t *pos_args, mp_map_t *kw_args, uint8_t type) {\n",
    "    static const mp_arg_t allowed_args[] = {\n",
    "        { MP_QSTR_oin, MP_ARG_REQUIRED | MP_ARG_OBJ, {.u_rom_obj = MP_ROM_PTR(&mp_const_none_obj)} } ,\n",
    "        { MP_QSTR_axis, MP_ARG_KW_ONLY | MP_ARG_OBJ, {.u_rom_obj = MP_ROM_PTR(&mp_const_none_obj)} },\n",
    "    };\n",
    "\n",
    "    mp_arg_val_t args[MP_ARRAY_SIZE(allowed_args)];\n",
    "    mp_arg_parse_all(1, pos_args, kw_args, MP_ARRAY_SIZE(allowed_args), allowed_args, args);\n",
    "    \n",
    "    mp_obj_t oin = args[0].u_obj;\n",
    "    mp_obj_t axis = args[1].u_obj;\n",
    "    if((axis != mp_const_none) && (mp_obj_get_int(axis) != 0) && (mp_obj_get_int(axis) != 1)) {\n",
    "        // this seems to pass with False, and True...\n",
    "        mp_raise_ValueError(\"axis must be None, 0, or 1\");\n",
    "    }\n",
    "    \n",
    "    if(MP_OBJ_IS_TYPE(oin, &mp_type_tuple) || MP_OBJ_IS_TYPE(oin, &mp_type_list) || \n",
    "        MP_OBJ_IS_TYPE(oin, &mp_type_range)) {\n",
    "        switch(type) {\n",
    "            case NUMERICAL_MIN:\n",
    "            case NUMERICAL_ARGMIN:\n",
    "                return numerical_argmin_argmax_array(oin, MP_BINARY_OP_LESS, type);\n",
    "            case NUMERICAL_MAX:\n",
    "            case NUMERICAL_ARGMAX:\n",
    "                return numerical_argmin_argmax_array(oin, MP_BINARY_OP_MORE, type);\n",
    "            case NUMERICAL_SUM:\n",
    "            case NUMERICAL_MEAN:\n",
    "            case NUMERICAL_STD:\n",
    "                return numerical_sum_mean_std_array(oin, type);\n",
    "            default: // we should never reach this point, but whatever\n",
    "                return mp_const_none;\n",
    "        }\n",
    "    } else if(MP_OBJ_IS_TYPE(oin, &ulab_ndarray_type)) {\n",
    "        switch(type) {\n",
    "            case NUMERICAL_MIN:\n",
    "            case NUMERICAL_MAX:\n",
    "            case NUMERICAL_ARGMIN:\n",
    "            case NUMERICAL_ARGMAX:\n",
    "                return numerical_argmin_argmax_matrix(oin, axis, type);\n",
    "            case NUMERICAL_SUM:\n",
    "            case NUMERICAL_MEAN:\n",
    "            case NUMERICAL_STD:\n",
    "                return numerical_sum_mean_std_matrix(oin, axis, type);            \n",
    "            default:\n",
    "                mp_raise_NotImplementedError(\"operation is not implemented on ndarrays\");\n",
    "        }\n",
    "    } else {\n",
    "        mp_raise_TypeError(\"input must be tuple, list, range, or ndarray\");\n",
    "    }\n",
    "    return mp_const_none;\n",
    "}\n",
    "\n",
    "mp_obj_t numerical_min(size_t n_args, const mp_obj_t *pos_args, mp_map_t *kw_args) {\n",
    "    return numerical_function(n_args, pos_args, kw_args, NUMERICAL_MIN);\n",
    "}\n",
    "\n",
    "mp_obj_t numerical_max(size_t n_args, const mp_obj_t *pos_args, mp_map_t *kw_args) {\n",
    "    return numerical_function(n_args, pos_args, kw_args, NUMERICAL_MAX);\n",
    "}\n",
    "\n",
    "mp_obj_t numerical_argmin(size_t n_args, const mp_obj_t *pos_args, mp_map_t *kw_args) {\n",
    "    return numerical_function(n_args, pos_args, kw_args, NUMERICAL_ARGMIN);\n",
    "}\n",
    "\n",
    "mp_obj_t numerical_argmax(size_t n_args, const mp_obj_t *pos_args, mp_map_t *kw_args) {\n",
    "    return numerical_function(n_args, pos_args, kw_args, NUMERICAL_ARGMAX);\n",
    "}\n",
    "\n",
    "mp_obj_t numerical_sum(size_t n_args, const mp_obj_t *pos_args, mp_map_t *kw_args) {\n",
    "    return numerical_function(n_args, pos_args, kw_args, NUMERICAL_SUM);\n",
    "}\n",
    "\n",
    "mp_obj_t numerical_mean(size_t n_args, const mp_obj_t *pos_args, mp_map_t *kw_args) {\n",
    "    return numerical_function(n_args, pos_args, kw_args, NUMERICAL_MEAN);\n",
    "}\n",
    "\n",
    "mp_obj_t numerical_std(size_t n_args, const mp_obj_t *pos_args, mp_map_t *kw_args) {\n",
    "    return numerical_function(n_args, pos_args, kw_args, NUMERICAL_STD);\n",
    "}\n",
    "\n",
    "mp_obj_t numerical_roll(size_t n_args, const mp_obj_t *pos_args, mp_map_t *kw_args) {\n",
    "    static const mp_arg_t allowed_args[] = {\n",
    "        { MP_QSTR_oin, MP_ARG_REQUIRED | MP_ARG_OBJ, {.u_rom_obj = MP_ROM_PTR(&mp_const_none_obj)} },\n",
    "        { MP_QSTR_shift, MP_ARG_REQUIRED | MP_ARG_OBJ, {.u_rom_obj = MP_ROM_PTR(&mp_const_none_obj) } },\n",
    "        { MP_QSTR_axis, MP_ARG_KW_ONLY | MP_ARG_INT, {.u_int = 0} },\n",
    "    };\n",
    "\n",
    "    mp_arg_val_t args[MP_ARRAY_SIZE(allowed_args)];\n",
    "    mp_arg_parse_all(2, pos_args, kw_args, MP_ARRAY_SIZE(allowed_args), allowed_args, args);\n",
    "    \n",
    "    mp_obj_t oin = args[0].u_obj;\n",
    "    int16_t shift = mp_obj_get_int(args[1].u_obj);\n",
    "    int8_t axis = args[2].u_int;\n",
    "    if((axis != 0) && (axis != 1)) {\n",
    "        mp_raise_ValueError(\"axis must be None, 0, or 1\");\n",
    "    }\n",
    "    ndarray_obj_t *in = MP_OBJ_TO_PTR(oin);\n",
    "    uint8_t _sizeof = mp_binary_get_size('@', in->data->typecode, NULL);\n",
    "    size_t len;\n",
    "    int16_t _shift;\n",
    "    uint8_t *data = (uint8_t *)in->data->items;\n",
    "    // TODO: transpose the matrix, if axis == 0\n",
    "    if(shift < 0) {\n",
    "        _shift = -shift;\n",
    "    } else {\n",
    "        _shift = shift;\n",
    "    }\n",
    "    if(axis == 0) {\n",
    "        len = in->m;\n",
    "        // temporary buffer\n",
    "        uint8_t *_data = m_new(uint8_t, _sizeof*len);\n",
    "        \n",
    "        _shift = _shift % len;\n",
    "        if(shift < 0) _shift = len - _shift;\n",
    "        _shift *= _sizeof;\n",
    "        uint8_t *tmp = m_new(uint8_t, _shift);\n",
    "\n",
    "        for(size_t n=0; n < in->n; n++) {\n",
    "            for(size_t m=0; m < len; m++) {\n",
    "                // this loop should fill up the temporary buffer\n",
    "                memcpy(&_data[m*_sizeof], &data[(m*in->n+n)*_sizeof], _sizeof);\n",
    "            }\n",
    "            // now, the actual shift\n",
    "            memcpy(tmp, _data, _shift);\n",
    "            memcpy(_data, &_data[_shift], len*_sizeof-_shift);\n",
    "            memcpy(&_data[len*_sizeof-_shift], tmp, _shift);\n",
    "            for(size_t m=0; m < len; m++) {\n",
    "                // this loop should dump the content of the temporary buffer into data\n",
    "                memcpy(&data[(m*in->n+n)*_sizeof], &_data[m*_sizeof], _sizeof);\n",
    "            }            \n",
    "        }\n",
    "        m_del(uint8_t, tmp, _shift);\n",
    "        return mp_const_none;\n",
    "    }\n",
    "    len = in->n;\n",
    "    if((in->m == 1) || (in->n == 1)) {\n",
    "        len = in->data->len;\n",
    "    }\n",
    "    _shift = _shift % len;\n",
    "    if(shift < 0) _shift = len - _shift;\n",
    "    // TODO: if(shift > len/2), we should move in the opposite direction. That would save RAM\n",
    "    _shift *= _sizeof;\n",
    "    uint8_t *tmp = m_new(uint8_t, _shift);\n",
    "    for(size_t m=0; m < in->m; m++) {\n",
    "        memcpy(tmp, &data[m*len*_sizeof], _shift);\n",
    "        memcpy(&data[m*len*_sizeof], &data[m*len*_sizeof+_shift], len*_sizeof-_shift);\n",
    "        memcpy(&data[(m+1)*len*_sizeof-_shift], tmp, _shift);\n",
    "    }\n",
    "    return mp_const_none;\n",
    "}"
   ]
  },
  {
   "cell_type": "markdown",
   "metadata": {},
   "source": [
    "# ulab module\n",
    "\n",
    "This module simply brings all components together, and does not contain new function definitions."
   ]
  },
  {
   "cell_type": "markdown",
   "metadata": {},
   "source": [
    "## ulab.c"
   ]
  },
  {
   "cell_type": "code",
   "execution_count": 762,
   "metadata": {
    "ExecuteTime": {
     "end_time": "2019-09-18T05:04:14.497307Z",
     "start_time": "2019-09-18T05:04:14.486968Z"
    }
   },
   "outputs": [
    {
     "name": "stdout",
     "output_type": "stream",
     "text": [
      "written 7832 bytes to ulab.c\n"
     ]
    }
   ],
   "source": [
    "%%ccode ulab.c\n",
    "\n",
    "#include <math.h>\n",
    "#include <stdio.h>\n",
    "#include <stdlib.h>\n",
    "#include <string.h>\n",
    "#include \"py/runtime.h\"\n",
    "#include \"py/binary.h\"\n",
    "#include \"py/obj.h\"\n",
    "#include \"py/objarray.h\" // this can in the future be dropped\n",
    "\n",
    "#include \"ndarray.h\"\n",
    "#include \"linalg.h\"\n",
    "#include \"vectorise.h\"\n",
    "#include \"poly.h\"\n",
    "#include \"fft.h\"\n",
    "#include \"numerical.h\"\n",
    "\n",
    "#define ULAB_VERSION 1.0\n",
    "\n",
    "typedef struct _mp_obj_float_t {\n",
    "    mp_obj_base_t base;\n",
    "    mp_float_t value;\n",
    "} mp_obj_float_t;\n",
    "\n",
    "mp_obj_float_t ulab_version = {{&mp_type_float}, ULAB_VERSION};\n",
    "\n",
    "MP_DEFINE_CONST_FUN_OBJ_1(ndarray_shape_obj, ndarray_shape);\n",
    "MP_DEFINE_CONST_FUN_OBJ_2(ndarray_size_obj, ndarray_size);\n",
    "MP_DEFINE_CONST_FUN_OBJ_1(ndarray_rawsize_obj, ndarray_rawsize);\n",
    "\n",
    "MP_DEFINE_CONST_FUN_OBJ_1(linalg_transpose_obj, linalg_transpose);\n",
    "MP_DEFINE_CONST_FUN_OBJ_2(linalg_reshape_obj, linalg_reshape);\n",
    "MP_DEFINE_CONST_FUN_OBJ_1(linalg_inv_obj, linalg_inv);\n",
    "\n",
    "MP_DEFINE_CONST_FUN_OBJ_1(vectorise_acos_obj, vectorise_acos);\n",
    "MP_DEFINE_CONST_FUN_OBJ_1(vectorise_acosh_obj, vectorise_acosh);\n",
    "MP_DEFINE_CONST_FUN_OBJ_1(vectorise_asin_obj, vectorise_asin);\n",
    "MP_DEFINE_CONST_FUN_OBJ_1(vectorise_asinh_obj, vectorise_asinh);\n",
    "MP_DEFINE_CONST_FUN_OBJ_1(vectorise_atan_obj, vectorise_atan);\n",
    "MP_DEFINE_CONST_FUN_OBJ_1(vectorise_atanh_obj, vectorise_atanh);\n",
    "MP_DEFINE_CONST_FUN_OBJ_1(vectorise_ceil_obj, vectorise_ceil);\n",
    "MP_DEFINE_CONST_FUN_OBJ_1(vectorise_cos_obj, vectorise_cos);\n",
    "MP_DEFINE_CONST_FUN_OBJ_1(vectorise_erf_obj, vectorise_erf);\n",
    "MP_DEFINE_CONST_FUN_OBJ_1(vectorise_erfc_obj, vectorise_erfc);\n",
    "MP_DEFINE_CONST_FUN_OBJ_1(vectorise_exp_obj, vectorise_exp);\n",
    "MP_DEFINE_CONST_FUN_OBJ_1(vectorise_expm1_obj, vectorise_expm1);\n",
    "MP_DEFINE_CONST_FUN_OBJ_1(vectorise_floor_obj, vectorise_floor);\n",
    "MP_DEFINE_CONST_FUN_OBJ_1(vectorise_gamma_obj, vectorise_gamma);\n",
    "MP_DEFINE_CONST_FUN_OBJ_1(vectorise_lgamma_obj, vectorise_lgamma);\n",
    "MP_DEFINE_CONST_FUN_OBJ_1(vectorise_log_obj, vectorise_log);\n",
    "MP_DEFINE_CONST_FUN_OBJ_1(vectorise_log10_obj, vectorise_log10);\n",
    "MP_DEFINE_CONST_FUN_OBJ_1(vectorise_log2_obj, vectorise_log2);\n",
    "MP_DEFINE_CONST_FUN_OBJ_1(vectorise_sin_obj, vectorise_sin);\n",
    "MP_DEFINE_CONST_FUN_OBJ_1(vectorise_sinh_obj, vectorise_sinh);\n",
    "MP_DEFINE_CONST_FUN_OBJ_1(vectorise_sqrt_obj, vectorise_sqrt);\n",
    "MP_DEFINE_CONST_FUN_OBJ_1(vectorise_tan_obj, vectorise_tan);\n",
    "MP_DEFINE_CONST_FUN_OBJ_1(vectorise_tanh_obj, vectorise_tanh);\n",
    "\n",
    "MP_DEFINE_CONST_FUN_OBJ_3(numerical_linspace_obj, numerical_linspace);\n",
    "STATIC MP_DEFINE_CONST_FUN_OBJ_KW(numerical_sum_obj, 1, numerical_sum);\n",
    "STATIC MP_DEFINE_CONST_FUN_OBJ_KW(numerical_mean_obj, 1, numerical_mean);\n",
    "STATIC MP_DEFINE_CONST_FUN_OBJ_KW(numerical_std_obj, 1, numerical_std);\n",
    "STATIC MP_DEFINE_CONST_FUN_OBJ_KW(numerical_min_obj, 1, numerical_min);\n",
    "STATIC MP_DEFINE_CONST_FUN_OBJ_KW(numerical_max_obj, 1, numerical_max);\n",
    "STATIC MP_DEFINE_CONST_FUN_OBJ_KW(numerical_argmin_obj, 1, numerical_argmin);\n",
    "STATIC MP_DEFINE_CONST_FUN_OBJ_KW(numerical_argmax_obj, 1, numerical_argmax);\n",
    "STATIC MP_DEFINE_CONST_FUN_OBJ_KW(numerical_roll_obj, 2, numerical_roll);\n",
    "\n",
    "STATIC MP_DEFINE_CONST_FUN_OBJ_2(poly_polyval_obj, poly_polyval);\n",
    "STATIC MP_DEFINE_CONST_FUN_OBJ_VAR_BETWEEN(fft_fft_obj, 1, 2, fft_fft);\n",
    "STATIC MP_DEFINE_CONST_FUN_OBJ_1(fft_spectrum_obj, fft_spectrum);\n",
    "\n",
    "STATIC const mp_rom_map_elem_t ulab_ndarray_locals_dict_table[] = {\n",
    "    { MP_ROM_QSTR(MP_QSTR_shape), MP_ROM_PTR(&ndarray_shape_obj) },\n",
    "    { MP_ROM_QSTR(MP_QSTR_size), MP_ROM_PTR(&ndarray_size_obj) },\n",
    "    { MP_ROM_QSTR(MP_QSTR_rawsize), MP_ROM_PTR(&ndarray_rawsize_obj) },\n",
    "    { MP_ROM_QSTR(MP_QSTR_transpose), MP_ROM_PTR(&linalg_transpose_obj) },\n",
    "    { MP_ROM_QSTR(MP_QSTR_reshape), MP_ROM_PTR(&linalg_reshape_obj) },\n",
    "//    { MP_ROM_QSTR(MP_QSTR_get), MP_ROM_PTR(&ndarray_get_obj) },\n",
    "//    { MP_ROM_QSTR(MP_QSTR_dot), MP_ROM_PTR(&ndarray_dot_obj) },    \n",
    "};\n",
    "\n",
    "STATIC MP_DEFINE_CONST_DICT(ulab_ndarray_locals_dict, ulab_ndarray_locals_dict_table);\n",
    "\n",
    "const mp_obj_type_t ulab_ndarray_type = {\n",
    "    { &mp_type_type },\n",
    "    .name = MP_QSTR_ndarray,\n",
    "    .print = ndarray_print,\n",
    "    .make_new = ndarray_make_new,\n",
    "    .subscr = ndarray_subscr,\n",
    "    .getiter = ndarray_getiter,\n",
    "    .unary_op = ndarray_unary_op,\n",
    "    .binary_op = ndarray_binary_op,\n",
    "    .locals_dict = (mp_obj_dict_t*)&ulab_ndarray_locals_dict,\n",
    "};\n",
    "\n",
    "STATIC const mp_map_elem_t ulab_globals_table[] = {\n",
    "    { MP_OBJ_NEW_QSTR(MP_QSTR___name__), MP_OBJ_NEW_QSTR(MP_QSTR_ulab) },\n",
    "    { MP_ROM_QSTR(MP_QSTR___version__), MP_ROM_PTR(&ulab_version) },\n",
    "    { MP_OBJ_NEW_QSTR(MP_QSTR_ndarray), (mp_obj_t)&ulab_ndarray_type },\n",
    "    { MP_OBJ_NEW_QSTR(MP_QSTR_inv), (mp_obj_t)&linalg_inv_obj },\n",
    "    { MP_OBJ_NEW_QSTR(MP_QSTR_acos), (mp_obj_t)&vectorise_acos_obj },\n",
    "    { MP_OBJ_NEW_QSTR(MP_QSTR_acosh), (mp_obj_t)&vectorise_acosh_obj },\n",
    "    { MP_OBJ_NEW_QSTR(MP_QSTR_asin), (mp_obj_t)&vectorise_asin_obj },\n",
    "    { MP_OBJ_NEW_QSTR(MP_QSTR_asinh), (mp_obj_t)&vectorise_asinh_obj },\n",
    "    { MP_OBJ_NEW_QSTR(MP_QSTR_atan), (mp_obj_t)&vectorise_atan_obj },\n",
    "    { MP_OBJ_NEW_QSTR(MP_QSTR_atanh), (mp_obj_t)&vectorise_atanh_obj },\n",
    "    { MP_OBJ_NEW_QSTR(MP_QSTR_ceil), (mp_obj_t)&vectorise_ceil_obj },\n",
    "    { MP_OBJ_NEW_QSTR(MP_QSTR_cos), (mp_obj_t)&vectorise_cos_obj },\n",
    "    { MP_OBJ_NEW_QSTR(MP_QSTR_erf), (mp_obj_t)&vectorise_erf_obj },\n",
    "    { MP_OBJ_NEW_QSTR(MP_QSTR_erfc), (mp_obj_t)&vectorise_erfc_obj },\n",
    "    { MP_OBJ_NEW_QSTR(MP_QSTR_exp), (mp_obj_t)&vectorise_exp_obj },\n",
    "    { MP_OBJ_NEW_QSTR(MP_QSTR_expm1), (mp_obj_t)&vectorise_expm1_obj },\n",
    "    { MP_OBJ_NEW_QSTR(MP_QSTR_floor), (mp_obj_t)&vectorise_floor_obj },\n",
    "    { MP_OBJ_NEW_QSTR(MP_QSTR_gamma), (mp_obj_t)&vectorise_gamma_obj },\n",
    "    { MP_OBJ_NEW_QSTR(MP_QSTR_lgamma), (mp_obj_t)&vectorise_lgamma_obj },\n",
    "    { MP_OBJ_NEW_QSTR(MP_QSTR_log), (mp_obj_t)&vectorise_log_obj },\n",
    "    { MP_OBJ_NEW_QSTR(MP_QSTR_log10), (mp_obj_t)&vectorise_log10_obj },\n",
    "    { MP_OBJ_NEW_QSTR(MP_QSTR_log2), (mp_obj_t)&vectorise_log2_obj },\n",
    "    { MP_OBJ_NEW_QSTR(MP_QSTR_sin), (mp_obj_t)&vectorise_sin_obj },\n",
    "    { MP_OBJ_NEW_QSTR(MP_QSTR_sinh), (mp_obj_t)&vectorise_sinh_obj },\n",
    "    { MP_OBJ_NEW_QSTR(MP_QSTR_sqrt), (mp_obj_t)&vectorise_sqrt_obj },\n",
    "    { MP_OBJ_NEW_QSTR(MP_QSTR_tan), (mp_obj_t)&vectorise_tan_obj },\n",
    "    { MP_OBJ_NEW_QSTR(MP_QSTR_tanh), (mp_obj_t)&vectorise_tanh_obj },\n",
    "    { MP_OBJ_NEW_QSTR(MP_QSTR_linspace), (mp_obj_t)&numerical_linspace_obj },\n",
    "    { MP_OBJ_NEW_QSTR(MP_QSTR_sum), (mp_obj_t)&numerical_sum_obj },\n",
    "    { MP_OBJ_NEW_QSTR(MP_QSTR_mean), (mp_obj_t)&numerical_mean_obj },\n",
    "    { MP_OBJ_NEW_QSTR(MP_QSTR_std), (mp_obj_t)&numerical_std_obj },\n",
    "    { MP_OBJ_NEW_QSTR(MP_QSTR_min), (mp_obj_t)&numerical_min_obj },\n",
    "    { MP_OBJ_NEW_QSTR(MP_QSTR_max), (mp_obj_t)&numerical_max_obj },\n",
    "    { MP_OBJ_NEW_QSTR(MP_QSTR_argmin), (mp_obj_t)&numerical_argmin_obj },\n",
    "    { MP_OBJ_NEW_QSTR(MP_QSTR_argmax), (mp_obj_t)&numerical_argmax_obj },\n",
    "    { MP_OBJ_NEW_QSTR(MP_QSTR_roll), (mp_obj_t)&numerical_roll_obj },    \n",
    "    { MP_OBJ_NEW_QSTR(MP_QSTR_polyval), (mp_obj_t)&poly_polyval_obj },\n",
    "    { MP_OBJ_NEW_QSTR(MP_QSTR_fft), (mp_obj_t)&fft_fft_obj },\n",
    "    { MP_OBJ_NEW_QSTR(MP_QSTR_spectrum), (mp_obj_t)&fft_spectrum_obj },\n",
    "    // class constants\n",
    "    { MP_ROM_QSTR(MP_QSTR_uint8), MP_ROM_INT(NDARRAY_UINT8) },\n",
    "    { MP_ROM_QSTR(MP_QSTR_int8), MP_ROM_INT(NDARRAY_INT8) },\n",
    "    { MP_ROM_QSTR(MP_QSTR_uint16), MP_ROM_INT(NDARRAY_UINT16) },\n",
    "    { MP_ROM_QSTR(MP_QSTR_int16), MP_ROM_INT(NDARRAY_INT16) },\n",
    "    { MP_ROM_QSTR(MP_QSTR_float), MP_ROM_INT(NDARRAY_FLOAT) },\n",
    "};\n",
    "\n",
    "STATIC MP_DEFINE_CONST_DICT (\n",
    "    mp_module_ulab_globals,\n",
    "    ulab_globals_table\n",
    ");\n",
    "\n",
    "const mp_obj_module_t ulab_user_cmodule = {\n",
    "    .base = { &mp_type_module },\n",
    "    .globals = (mp_obj_dict_t*)&mp_module_ulab_globals,\n",
    "};\n",
    "\n",
    "\n",
    "MP_REGISTER_MODULE(MP_QSTR_ulab, ulab_user_cmodule, MODULE_ULAB_ENABLED);"
   ]
  },
  {
   "cell_type": "markdown",
   "metadata": {},
   "source": [
    "## makefile"
   ]
  },
  {
   "cell_type": "code",
   "execution_count": 647,
   "metadata": {
    "ExecuteTime": {
     "end_time": "2019-09-17T19:17:09.928136Z",
     "start_time": "2019-09-17T19:17:09.913063Z"
    }
   },
   "outputs": [
    {
     "name": "stdout",
     "output_type": "stream",
     "text": [
      "Overwriting ../../../ulab/code/micropython.mk\n"
     ]
    }
   ],
   "source": [
    "%%writefile ../../../ulab/code/micropython.mk\n",
    "\n",
    "USERMODULES_DIR := $(USERMOD_DIR)\n",
    "\n",
    "# Add all C files to SRC_USERMOD.\n",
    "SRC_USERMOD += $(USERMODULES_DIR)/ndarray.c\n",
    "SRC_USERMOD += $(USERMODULES_DIR)/linalg.c\n",
    "SRC_USERMOD += $(USERMODULES_DIR)/vectorise.c\n",
    "SRC_USERMOD += $(USERMODULES_DIR)/poly.c\n",
    "SRC_USERMOD += $(USERMODULES_DIR)/fft.c\n",
    "SRC_USERMOD += $(USERMODULES_DIR)/numerical.c\n",
    "SRC_USERMOD += $(USERMODULES_DIR)/ulab.c\n",
    "\n",
    "# We can add our module folder to include paths if needed\n",
    "# This is not actually needed in this example.\n",
    "CFLAGS_USERMOD += -I$(USERMODULES_DIR)"
   ]
  },
  {
   "cell_type": "markdown",
   "metadata": {},
   "source": [
    "## make"
   ]
  },
  {
   "cell_type": "markdown",
   "metadata": {},
   "source": [
    "### unix port"
   ]
  },
  {
   "cell_type": "code",
   "execution_count": 798,
   "metadata": {
    "ExecuteTime": {
     "end_time": "2019-09-18T17:36:57.304662Z",
     "start_time": "2019-09-18T17:36:33.464224Z"
    },
    "scrolled": false
   },
   "outputs": [
    {
     "name": "stdout",
     "output_type": "stream",
     "text": [
      "Use make V=1 or set BUILD_VERBOSE in your environment to increase build verbosity.\n",
      "rm -f micropython\n",
      "rm -f micropython.map\n",
      "rm -rf build \n",
      "Use make V=1 or set BUILD_VERBOSE in your environment to increase build verbosity.\n",
      "Including User C Module from ../../../ulab/code\n",
      "mkdir -p build/genhdr\n",
      "GEN build/genhdr/mpversion.h\n",
      "GEN build/genhdr/moduledefs.h\n",
      "GEN build/genhdr/qstr.i.last\n",
      "GEN build/genhdr/qstr.split\n",
      "GEN build/genhdr/qstrdefs.collected.h\n",
      "QSTR updated\n",
      "GEN build/genhdr/qstrdefs.generated.h\n",
      "mkdir -p build/build/\n",
      "mkdir -p build/code/\n",
      "mkdir -p build/extmod/\n",
      "mkdir -p build/lib/axtls/crypto/\n",
      "mkdir -p build/lib/axtls/ssl/\n",
      "mkdir -p build/lib/berkeley-db-1.xx/btree/\n",
      "mkdir -p build/lib/berkeley-db-1.xx/mpool/\n",
      "mkdir -p build/lib/embed/\n",
      "mkdir -p build/lib/mp-readline/\n",
      "mkdir -p build/lib/oofatfs/\n",
      "mkdir -p build/lib/timeutils/\n",
      "mkdir -p build/lib/utils/\n",
      "mkdir -p build/py/\n",
      "CC ../../py/mpstate.c\n",
      "CC ../../py/nlr.c\n",
      "CC ../../py/nlrx86.c\n",
      "CC ../../py/nlrx64.c\n",
      "CC ../../py/nlrthumb.c\n",
      "CC ../../py/nlrxtensa.c\n",
      "CC ../../py/nlrsetjmp.c\n",
      "CC ../../py/malloc.c\n",
      "CC ../../py/gc.c\n",
      "CC ../../py/pystack.c\n",
      "CC ../../py/qstr.c\n",
      "CC ../../py/vstr.c\n",
      "CC ../../py/mpprint.c\n",
      "CC ../../py/unicode.c\n",
      "CC ../../py/mpz.c\n",
      "CC ../../py/reader.c\n",
      "CC ../../py/lexer.c\n",
      "CC ../../py/parse.c\n",
      "CC ../../py/scope.c\n",
      "CC ../../py/compile.c\n",
      "CC ../../py/emitcommon.c\n",
      "CC ../../py/emitbc.c\n",
      "CC ../../py/asmbase.c\n",
      "CC ../../py/asmx64.c\n",
      "CC ../../py/emitnx64.c\n",
      "CC ../../py/asmx86.c\n",
      "CC ../../py/emitnx86.c\n",
      "CC ../../py/asmthumb.c\n",
      "CC ../../py/emitnthumb.c\n",
      "CC ../../py/emitinlinethumb.c\n",
      "CC ../../py/asmarm.c\n",
      "CC ../../py/emitnarm.c\n",
      "CC ../../py/asmxtensa.c\n",
      "CC ../../py/emitnxtensa.c\n",
      "CC ../../py/emitinlinextensa.c\n",
      "CC ../../py/formatfloat.c\n",
      "CC ../../py/parsenumbase.c\n",
      "CC ../../py/parsenum.c\n",
      "CC ../../py/emitglue.c\n",
      "CC ../../py/persistentcode.c\n",
      "CC ../../py/runtime.c\n",
      "CC ../../py/runtime_utils.c\n",
      "CC ../../py/scheduler.c\n",
      "CC ../../py/nativeglue.c\n",
      "CC ../../py/stackctrl.c\n",
      "CC ../../py/argcheck.c\n",
      "CC ../../py/warning.c\n",
      "CC ../../py/map.c\n",
      "CC ../../py/obj.c\n",
      "CC ../../py/objarray.c\n",
      "CC ../../py/objattrtuple.c\n",
      "CC ../../py/objbool.c\n",
      "CC ../../py/objboundmeth.c\n",
      "CC ../../py/objcell.c\n",
      "CC ../../py/objclosure.c\n",
      "CC ../../py/objcomplex.c\n",
      "CC ../../py/objdeque.c\n",
      "CC ../../py/objdict.c\n",
      "CC ../../py/objenumerate.c\n",
      "CC ../../py/objexcept.c\n",
      "CC ../../py/objfilter.c\n",
      "CC ../../py/objfloat.c\n",
      "CC ../../py/objfun.c\n",
      "CC ../../py/objgenerator.c\n",
      "CC ../../py/objgetitemiter.c\n",
      "CC ../../py/objint.c\n",
      "CC ../../py/objint_longlong.c\n",
      "CC ../../py/objint_mpz.c\n",
      "CC ../../py/objlist.c\n",
      "CC ../../py/objmap.c\n",
      "CC ../../py/objmodule.c\n",
      "CC ../../py/objobject.c\n",
      "CC ../../py/objpolyiter.c\n",
      "CC ../../py/objproperty.c\n",
      "CC ../../py/objnone.c\n",
      "CC ../../py/objnamedtuple.c\n",
      "CC ../../py/objrange.c\n",
      "CC ../../py/objreversed.c\n",
      "CC ../../py/objset.c\n",
      "CC ../../py/objsingleton.c\n",
      "CC ../../py/objslice.c\n",
      "CC ../../py/objstr.c\n",
      "CC ../../py/objstrunicode.c\n",
      "CC ../../py/objstringio.c\n",
      "CC ../../py/objtuple.c\n",
      "CC ../../py/objtype.c\n",
      "CC ../../py/objzip.c\n",
      "CC ../../py/opmethods.c\n",
      "CC ../../py/sequence.c\n",
      "CC ../../py/stream.c\n",
      "CC ../../py/binary.c\n",
      "CC ../../py/builtinimport.c\n",
      "CC ../../py/builtinevex.c\n",
      "CC ../../py/builtinhelp.c\n",
      "CC ../../py/modarray.c\n",
      "CC ../../py/modbuiltins.c\n",
      "CC ../../py/modcollections.c\n",
      "CC ../../py/modgc.c\n",
      "CC ../../py/modio.c\n",
      "CC ../../py/modmath.c\n",
      "CC ../../py/modcmath.c\n",
      "CC ../../py/modmicropython.c\n",
      "CC ../../py/modstruct.c\n",
      "CC ../../py/modsys.c\n",
      "CC ../../py/moduerrno.c\n",
      "CC ../../py/modthread.c\n",
      "CC ../../py/vm.c\n",
      "CC ../../py/bc.c\n",
      "CC ../../py/showbc.c\n",
      "CC ../../py/repl.c\n",
      "CC ../../py/smallint.c\n",
      "CC ../../py/frozenmod.c\n",
      "CC ../../extmod/moductypes.c\n",
      "CC ../../extmod/modujson.c\n",
      "CC ../../extmod/modure.c\n",
      "CC ../../extmod/moduzlib.c\n",
      "CC ../../extmod/moduheapq.c\n",
      "CC ../../extmod/modutimeq.c\n",
      "CC ../../extmod/moduhashlib.c\n",
      "CC ../../extmod/moducryptolib.c\n",
      "CC ../../extmod/modubinascii.c\n",
      "CC ../../extmod/virtpin.c\n",
      "CC ../../extmod/machine_mem.c\n",
      "CC ../../extmod/machine_pinbase.c\n",
      "CC ../../extmod/machine_signal.c\n",
      "CC ../../extmod/machine_pulse.c\n",
      "CC ../../extmod/machine_i2c.c\n",
      "CC ../../extmod/machine_spi.c\n",
      "CC ../../extmod/modussl_axtls.c\n",
      "CC ../../extmod/modussl_mbedtls.c\n",
      "CC ../../extmod/modurandom.c\n",
      "CC ../../extmod/moduselect.c\n",
      "CC ../../extmod/moduwebsocket.c\n",
      "CC ../../extmod/modwebrepl.c\n",
      "CC ../../extmod/modframebuf.c\n",
      "CC ../../extmod/vfs.c\n",
      "CC ../../extmod/vfs_reader.c\n",
      "CC ../../extmod/vfs_posix.c\n",
      "CC ../../extmod/vfs_posix_file.c\n",
      "CC ../../extmod/vfs_fat.c\n",
      "CC ../../extmod/vfs_fat_diskio.c\n",
      "CC ../../extmod/vfs_fat_file.c\n",
      "CC ../../extmod/utime_mphal.c\n",
      "CC ../../extmod/uos_dupterm.c\n",
      "CC ../../lib/embed/abort_.c\n",
      "CC ../../lib/utils/printf.c\n",
      "GEN build/frozen.c\n",
      "CC build/frozen.c\n",
      "MPY modules/upip_utarfile.py\n",
      "MPY modules/upip.py\n",
      "GEN build/frozen_mpy.c\n",
      "CC build/frozen_mpy.c\n",
      "CC main.c\n",
      "CC gccollect.c\n",
      "CC unix_mphal.c\n",
      "CC mpthreadport.c\n",
      "CC input.c\n",
      "CC file.c\n",
      "CC modmachine.c\n",
      "CC modos.c\n",
      "CC moduos_vfs.c\n",
      "CC modtime.c\n",
      "CC moduselect.c\n",
      "CC alloc.c\n",
      "CC coverage.c\n",
      "CC fatfs_port.c\n",
      "CC ../../../ulab/code/ndarray.c\n",
      "CC ../../../ulab/code/linalg.c\n",
      "CC ../../../ulab/code/vectorise.c\n",
      "CC ../../../ulab/code/poly.c\n",
      "CC ../../../ulab/code/fft.c\n",
      "CC ../../../ulab/code/numerical.c\n",
      "CC ../../../ulab/code/ulab.c\n",
      "CC ../../lib/axtls/ssl/asn1.c\n",
      "CC ../../lib/axtls/ssl/loader.c\n",
      "CC ../../lib/axtls/ssl/tls1.c\n",
      "CC ../../lib/axtls/ssl/tls1_svr.c\n",
      "CC ../../lib/axtls/ssl/tls1_clnt.c\n",
      "CC ../../lib/axtls/ssl/x509.c\n",
      "CC ../../lib/axtls/crypto/aes.c\n",
      "CC ../../lib/axtls/crypto/bigint.c\n",
      "CC ../../lib/axtls/crypto/crypto_misc.c\n",
      "CC ../../lib/axtls/crypto/hmac.c\n",
      "CC ../../lib/axtls/crypto/md5.c\n",
      "CC ../../lib/axtls/crypto/rsa.c\n",
      "CC ../../lib/axtls/crypto/sha1.c\n",
      "CC ../../extmod/modbtree.c\n",
      "CC ../../lib/berkeley-db-1.xx/btree/bt_close.c\n",
      "CC ../../lib/berkeley-db-1.xx/btree/bt_conv.c\n",
      "CC ../../lib/berkeley-db-1.xx/btree/bt_debug.c\n",
      "CC ../../lib/berkeley-db-1.xx/btree/bt_delete.c\n",
      "CC ../../lib/berkeley-db-1.xx/btree/bt_get.c\n",
      "CC ../../lib/berkeley-db-1.xx/btree/bt_open.c\n",
      "CC ../../lib/berkeley-db-1.xx/btree/bt_overflow.c\n",
      "CC ../../lib/berkeley-db-1.xx/btree/bt_page.c\n",
      "CC ../../lib/berkeley-db-1.xx/btree/bt_put.c\n",
      "CC ../../lib/berkeley-db-1.xx/btree/bt_search.c\n",
      "CC ../../lib/berkeley-db-1.xx/btree/bt_seq.c\n",
      "CC ../../lib/berkeley-db-1.xx/btree/bt_split.c\n",
      "CC ../../lib/berkeley-db-1.xx/btree/bt_utils.c\n",
      "CC ../../lib/berkeley-db-1.xx/mpool/mpool.c\n",
      "CC modtermios.c\n",
      "CC modusocket.c\n",
      "CC modffi.c\n",
      "CC ../../lib/mp-readline/readline.c\n",
      "CC ../../lib/timeutils/timeutils.c\n",
      "CC ../../lib/oofatfs/ff.c\n",
      "CC ../../lib/oofatfs/ffunicode.c\n",
      "LINK micropython\n",
      "   text\t   data\t    bss\t    dec\t    hex\tfilename\n",
      "   2085\t   6862\t      0\t   8947\t   22f3\tbuild/build/frozen_mpy.o\n",
      "      2\t      0\t      0\t      2\t      2\tbuild/build/frozen.o\n",
      " 458268\t  57312\t   2104\t 517684\t  7e634\tmicropython\n"
     ]
    }
   ],
   "source": [
    "!make clean\n",
    "!make USER_C_MODULES=../../../ulab all"
   ]
  },
  {
   "cell_type": "markdown",
   "metadata": {},
   "source": [
    "### stm32 port"
   ]
  },
  {
   "cell_type": "code",
   "execution_count": 800,
   "metadata": {
    "ExecuteTime": {
     "end_time": "2019-09-18T17:38:00.368643Z",
     "start_time": "2019-09-18T17:38:00.360798Z"
    }
   },
   "outputs": [
    {
     "data": {
      "text/plain": [
       "'/home/v923z/sandbox/micropython/v1.11/micropython/ports/unix'"
      ]
     },
     "execution_count": 800,
     "metadata": {},
     "output_type": "execute_result"
    }
   ],
   "source": [
    "%pwd ../stm32/"
   ]
  },
  {
   "cell_type": "code",
   "execution_count": 801,
   "metadata": {
    "ExecuteTime": {
     "end_time": "2019-09-18T17:38:07.035749Z",
     "start_time": "2019-09-18T17:38:06.659873Z"
    }
   },
   "outputs": [
    {
     "name": "stdout",
     "output_type": "stream",
     "text": [
      "Use make V=1 or set BUILD_VERBOSE in your environment to increase build verbosity.\r\n",
      "Including User C Module from ../../../ulab/code\r\n"
     ]
    }
   ],
   "source": [
    "!make BOARD=PYBV11 CROSS_COMPILE=../../../../compiler/bin/arm-none-eabi- USER_C_MODULES=../../../ulab all"
   ]
  },
  {
   "cell_type": "code",
   "execution_count": 797,
   "metadata": {
    "ExecuteTime": {
     "end_time": "2019-09-18T17:35:32.357970Z",
     "start_time": "2019-09-18T17:35:32.339166Z"
    }
   },
   "outputs": [
    {
     "name": "stdout",
     "output_type": "stream",
     "text": [
      "ndarray([1.0, 2.0, 3.0, 4.0, 1.0, 2.0, 3.0, 4.0], dtype=float)\n",
      "ndarray([0.0, 0.0, 0.0, 0.0, 0.0, 0.0, 0.0, 0.0], dtype=float)\n",
      "ndarray([20.0, 0.0, -3.999999761581421, 0.0, -4.0, 0.0, -4.0, 0.0], dtype=float)\n",
      "ndarray([0.0, 0.0, 3.999999523162842, 0.0, 0.0, 0.0, -3.999999523162842, 0.0], dtype=float)\n",
      "\n",
      "\n"
     ]
    }
   ],
   "source": [
    "%%micropython\n",
    "\n",
    "import ulab\n",
    "\n",
    "a = ulab.ndarray([1, 2, 3, 4, 1, 2, 3, 4], dtype=ulab.float)\n",
    "b = ulab.ndarray([0]*8, dtype=ulab.float)\n",
    "\n",
    "print(a)\n",
    "print(b)\n",
    "c, d = ulab.fft(a, b)\n",
    "print(c)\n",
    "print(d)"
   ]
  },
  {
   "cell_type": "code",
   "execution_count": 578,
   "metadata": {
    "ExecuteTime": {
     "end_time": "2019-09-17T15:22:46.772377Z",
     "start_time": "2019-09-17T15:22:46.755986Z"
    }
   },
   "outputs": [
    {
     "data": {
      "text/plain": [
       "array([20.+0.j,  0.+0.j, -4.+4.j,  0.+0.j, -4.+0.j,  0.+0.j, -4.-4.j,\n",
       "        0.+0.j])"
      ]
     },
     "execution_count": 578,
     "metadata": {},
     "output_type": "execute_result"
    }
   ],
   "source": [
    "a = array([1, 2, 3, 4]*2)\n",
    "b = array([0]*8)\n",
    "fft.fft(a + 1j*b)"
   ]
  },
  {
   "cell_type": "code",
   "execution_count": 668,
   "metadata": {
    "ExecuteTime": {
     "end_time": "2019-09-17T19:27:03.058928Z",
     "start_time": "2019-09-17T19:27:03.035802Z"
    }
   },
   "outputs": [
    {
     "name": "stdout",
     "output_type": "stream",
     "text": [
      "ndarray([1.0, 2.0, 3.0, 4.0, 1.0, 2.0, 3.0, 4.0], dtype=float)\n",
      "ndarray([20.0, 0.0, -3.999999761581421, 0.0, -4.0, 0.0, -4.0, 0.0], dtype=float)\n",
      "ndarray([0.0, 0.0, 3.999999523162842, 0.0, 0.0, 0.0, -3.999999523162842, 0.0], dtype=float)\n",
      "\n",
      "\n"
     ]
    }
   ],
   "source": [
    "%%micropython\n",
    "\n",
    "import ulab\n",
    "\n",
    "a = ulab.ndarray([1, 2, 3, 4, 1, 2, 3, 4], dtype=ulab.float)\n",
    "\n",
    "print(a)\n",
    "c, d = ulab.fft(a)\n",
    "print(c)\n",
    "print(d)"
   ]
  },
  {
   "cell_type": "code",
   "execution_count": 535,
   "metadata": {
    "ExecuteTime": {
     "end_time": "2019-09-13T14:23:50.060582Z",
     "start_time": "2019-09-13T14:23:50.042159Z"
    }
   },
   "outputs": [
    {
     "name": "stdout",
     "output_type": "stream",
     "text": [
      "3\n",
      "5\n",
      "\n",
      "\n"
     ]
    }
   ],
   "source": [
    "%%micropython\n",
    "\n",
    "import ulab\n",
    "\n",
    "a = ulab.ndarray([[1, 2, 3, 4, 5], [6, 7, 8, 9, 10], [55, 66, 77, 88, 99]], dtype=ulab.int8)\n",
    "print(len(a))\n",
    "a = ulab.ndarray([1, 2, 3, 4, 5], dtype=ulab.int8)\n",
    "print(len(a))"
   ]
  },
  {
   "cell_type": "code",
   "execution_count": 386,
   "metadata": {
    "ExecuteTime": {
     "end_time": "2019-09-12T16:14:35.837484Z",
     "start_time": "2019-09-12T16:14:35.821880Z"
    }
   },
   "outputs": [
    {
     "name": "stdout",
     "output_type": "stream",
     "text": [
      "ndarray([2.0, 4.0, 6.0, 8.0], dtype=float)\n",
      "ndarray([5.400000095367432, 6.400000095367432, 7.400000095367432, 8.399999618530273], dtype=float)\n",
      "ndarray([3.0, 6.0, 9.0, 12.0], dtype=float)\n",
      "ndarray([0.5, 1.0, 1.5, 2.0], dtype=float)\n",
      "\n",
      "\n"
     ]
    }
   ],
   "source": [
    "%%micropython\n",
    "\n",
    "import ulab\n",
    "\n",
    "a = ulab.ndarray([1, 2, 3, 4], dtype=ulab.uint8)\n",
    "b = ulab.ndarray([1, 2, 3, 4], dtype=ulab.float)\n",
    "print(a+b)\n",
    "print(a+4.4)\n",
    "print(a*3.0)\n",
    "print(a/2.0)"
   ]
  },
  {
   "cell_type": "code",
   "execution_count": 691,
   "metadata": {
    "ExecuteTime": {
     "end_time": "2019-08-11T15:01:45.449640Z",
     "start_time": "2019-08-11T15:01:45.427197Z"
    }
   },
   "outputs": [
    {
     "name": "stdout",
     "output_type": "stream",
     "text": [
      "11.0\n",
      "ndarray([2.0, 6.0])\n",
      "\n",
      "4.0\n",
      "24.0\n",
      "2.160246849060059\n",
      "\n",
      "\n"
     ]
    }
   ],
   "source": [
    "%%micropython\n",
    "\n",
    "import ulab\n",
    "a = ulab.ndarray([11, 2, 3, 4])\n",
    "print(ulab.max(a))\n",
    "# print(ulab.min([1, 2, 3, 4]))\n",
    "print(ulab.mean(ulab.ndarray([[1, 2, 3], [5, 6, 7]]), axis=1))\n",
    "print(ulab.mean(ulab.ndarray([[1, 2, 3], [5, 6, 7]])))\n",
    "print(ulab.sum(ulab.ndarray([[1, 2, 3], [5, 6, 7]])))\n",
    "print(ulab.std(ulab.ndarray([[1, 2, 3], [5, 6, 7]])))"
   ]
  },
  {
   "cell_type": "code",
   "execution_count": 692,
   "metadata": {
    "ExecuteTime": {
     "end_time": "2019-08-11T15:01:48.467400Z",
     "start_time": "2019-08-11T15:01:48.445476Z"
    }
   },
   "outputs": [
    {
     "name": "stdout",
     "output_type": "stream",
     "text": [
      "ndarray([1.47062885761261, nan])\n",
      "\n",
      "ndarray([1.105170965194702, 9.02501392364502])\n",
      "\n",
      "4.5\n",
      "28.86606979370118\n",
      "\n",
      "\n"
     ]
    }
   ],
   "source": [
    "%%micropython\n",
    "\n",
    "import ulab\n",
    "\n",
    "print(ulab.acos([0.1, 2.2]))\n",
    "print(ulab.exp([0.1, 2.2]))\n",
    "# print(ulab.sum(ulab.ndarray([[1, 2, 3], [5, 6, 7]]), axis=2))\n",
    "print(ulab.mean(range(10)))\n",
    "# print(ulab.mean(ulab.ndarray([[1, 2, 3], [5, 6, 7]]), axis=2))\n",
    "print(ulab.std(range(100)))"
   ]
  },
  {
   "cell_type": "code",
   "execution_count": 438,
   "metadata": {
    "ExecuteTime": {
     "end_time": "2019-08-10T11:06:24.789115Z",
     "start_time": "2019-08-10T11:06:24.780613Z"
    }
   },
   "outputs": [
    {
     "data": {
      "text/plain": [
       "28.86607004772212"
      ]
     },
     "execution_count": 438,
     "metadata": {},
     "output_type": "execute_result"
    }
   ],
   "source": [
    "std(range(100))"
   ]
  },
  {
   "cell_type": "code",
   "execution_count": 1,
   "metadata": {
    "ExecuteTime": {
     "end_time": "2019-08-31T16:57:06.676116Z",
     "start_time": "2019-08-31T16:57:06.667070Z"
    }
   },
   "outputs": [
    {
     "name": "stderr",
     "output_type": "stream",
     "text": [
      "UsageError: Cell magic `%%micropython` not found.\n"
     ]
    }
   ],
   "source": [
    "%%micropython\n",
    "\n",
    "import ulab\n",
    "a = ulab.ndarray([[1, 2, 3], [5, 6, 7]])\n",
    "print(a)\n",
    "print(a.shape())\n",
    "print(a.size(1))\n",
    "a.transpose()\n",
    "print(a.shape())\n",
    "a.reshape((1, 6))\n",
    "print(a)\n",
    "print(a.shape())"
   ]
  }
 ],
 "metadata": {
  "kernelspec": {
   "display_name": "Python 3",
   "language": "python",
   "name": "python3"
  },
  "toc": {
   "base_numbering": 1,
   "nav_menu": {},
   "number_sections": true,
   "sideBar": true,
   "skip_h1_title": false,
   "title_cell": "Table of Contents",
   "title_sidebar": "Contents",
   "toc_cell": false,
   "toc_position": {
    "height": "calc(100% - 180px)",
    "left": "10px",
    "top": "150px",
    "width": "382.797px"
   },
   "toc_section_display": true,
   "toc_window_display": true
  },
  "varInspector": {
   "cols": {
    "lenName": 16,
    "lenType": 16,
    "lenVar": 40
   },
   "kernels_config": {
    "python": {
     "delete_cmd_postfix": "",
     "delete_cmd_prefix": "del ",
     "library": "var_list.py",
     "varRefreshCmd": "print(var_dic_list())"
    },
    "r": {
     "delete_cmd_postfix": ") ",
     "delete_cmd_prefix": "rm(",
     "library": "var_list.r",
     "varRefreshCmd": "cat(var_dic_list()) "
    }
   },
   "types_to_exclude": [
    "module",
    "function",
    "builtin_function_or_method",
    "instance",
    "_Feature"
   ],
   "window_display": false
  }
 },
 "nbformat": 4,
 "nbformat_minor": 2
}
