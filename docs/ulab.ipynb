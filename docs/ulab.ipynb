{
 "cells": [
  {
   "cell_type": "code",
   "execution_count": 74,
   "metadata": {
    "ExecuteTime": {
     "end_time": "2019-09-05T20:04:29.380047Z",
     "start_time": "2019-09-05T20:04:29.368161Z"
    }
   },
   "outputs": [
    {
     "name": "stdout",
     "output_type": "stream",
     "text": [
      "Populating the interactive namespace from numpy and matplotlib\n"
     ]
    }
   ],
   "source": [
    "%pylab inline"
   ]
  },
  {
   "cell_type": "code",
   "execution_count": 73,
   "metadata": {
    "ExecuteTime": {
     "end_time": "2019-09-05T20:04:09.292282Z",
     "start_time": "2019-09-05T20:04:09.284612Z"
    }
   },
   "outputs": [
    {
     "data": {
      "text/plain": [
       "array([2., 3., 4.])"
      ]
     },
     "execution_count": 73,
     "metadata": {},
     "output_type": "execute_result"
    }
   ],
   "source": [
    "array([1, 2, 3]) + 1.0"
   ]
  },
  {
   "cell_type": "markdown",
   "metadata": {},
   "source": [
    "# Introduction"
   ]
  },
  {
   "cell_type": "markdown",
   "metadata": {},
   "source": [
    "ulab is a C module for micropython. The aim was to implement a small subset of numpy. We chose those functions and methods that might be useful in the context of a microcontroller. This means low-level data processing of linear (array) and two-dimensional (matrix) data.\n",
    "\n",
    "The main points of ulab are \n",
    "\n",
    "- compact, iterable and slicable container of numerical data in 1, and 2 dimensions (arrays and matrices). In addition, these containers support all the relevant unary and binary operators (e.g., `len`, `bool`, ==, +, *, etc.)\n",
    "- vectorised computations on micropython iterables and numerical arrays/matrices\n",
    "- basic linear algebra routines (like matrix inversion, matrix reshaping, and transposition)\n",
    "- polynomial first to numerical data\n",
    "- fast Fourier transforms\n",
    "\n",
    "Each section of the implementation part kicks out with a short discussion on what can be done with the module, and what are the tripping points at the C level. I hope that these musings can be used as a starting point for further discussion on the code."
   ]
  },
  {
   "cell_type": "markdown",
   "metadata": {},
   "source": [
    "# Environmental settings and magic commands\n",
    "\n",
    "The C source code, as well as the documentation (mainly verbose comments on certain aspects of the implementation) is contained in this notebook. The code is exported to separate C files in /usermod/ulab/, and then compiled from this notebook. However, I would like to stress that the compilation does not require a jupyter notebook. It can be done from the command line. \n",
    "\n",
    "Testing is done on the unix and stm32 ports of micropython, also directly from the notebook. This is why this section contains a couple of magic functions."
   ]
  },
  {
   "cell_type": "code",
   "execution_count": 1,
   "metadata": {
    "ExecuteTime": {
     "end_time": "2019-09-03T15:00:02.087061Z",
     "start_time": "2019-09-03T15:00:02.059071Z"
    }
   },
   "outputs": [
    {
     "name": "stdout",
     "output_type": "stream",
     "text": [
      "/home/v923z/sandbox/micropython/v1.11/micropython/ports/unix\n"
     ]
    }
   ],
   "source": [
    "%cd ../../micropython/ports/unix/"
   ]
  },
  {
   "cell_type": "code",
   "execution_count": 2,
   "metadata": {
    "ExecuteTime": {
     "end_time": "2019-09-03T15:00:10.875662Z",
     "start_time": "2019-09-03T15:00:10.861474Z"
    }
   },
   "outputs": [],
   "source": [
    "from IPython.core.magic import Magics, magics_class, line_cell_magic\n",
    "from IPython.core.magic import cell_magic, register_cell_magic, register_line_magic\n",
    "import subprocess\n",
    "import os"
   ]
  },
  {
   "cell_type": "code",
   "execution_count": 3,
   "metadata": {
    "ExecuteTime": {
     "end_time": "2019-09-03T15:00:12.785514Z",
     "start_time": "2019-09-03T15:00:12.771460Z"
    }
   },
   "outputs": [],
   "source": [
    "@register_cell_magic\n",
    "def micropython(line, cell):\n",
    "    with open('/dev/shm/micropython.py', 'w') as fout:\n",
    "        fout.write(cell)\n",
    "    proc = subprocess.Popen([\"./micropython\", \"/dev/shm/micropython.py\"], \n",
    "                            stdout=subprocess.PIPE, stderr=subprocess.PIPE)\n",
    "    print(proc.stdout.read().decode(\"utf-8\"))\n",
    "    print(proc.stderr.read().decode(\"utf-8\"))\n",
    "    return None"
   ]
  },
  {
   "cell_type": "code",
   "execution_count": 4,
   "metadata": {
    "ExecuteTime": {
     "end_time": "2019-09-03T15:00:27.346977Z",
     "start_time": "2019-09-03T15:00:27.335266Z"
    }
   },
   "outputs": [
    {
     "data": {
      "application/javascript": [
       "\n",
       "    (function () {\n",
       "        var defaults = IPython.CodeCell.config_defaults || IPython.CodeCell.options_default;\n",
       "        defaults.highlight_modes['magic_text/x-csrc'] = {'reg':[/^\\s*%%ccode/]};\n",
       "    })();\n",
       "    "
      ]
     },
     "metadata": {},
     "output_type": "display_data"
    },
    {
     "data": {
      "application/javascript": [
       "\n",
       "    (function () {\n",
       "        var defaults = IPython.CodeCell.config_defaults || IPython.CodeCell.options_default;\n",
       "        defaults.highlight_modes['magic_text/x-csrc'] = {'reg':[/^\\s*%%makefile/]};\n",
       "    })();\n",
       "    "
      ]
     },
     "metadata": {},
     "output_type": "display_data"
    }
   ],
   "source": [
    "import IPython\n",
    "\n",
    "js = \"\"\"\n",
    "    (function () {\n",
    "        var defaults = IPython.CodeCell.config_defaults || IPython.CodeCell.options_default;\n",
    "        defaults.highlight_modes['magic_text/x-csrc'] = {'reg':[/^\\\\s*%%ccode/]};\n",
    "    })();\n",
    "    \"\"\"\n",
    "IPython.core.display.display_javascript(js, raw=True)\n",
    "\n",
    "js = \"\"\"\n",
    "    (function () {\n",
    "        var defaults = IPython.CodeCell.config_defaults || IPython.CodeCell.options_default;\n",
    "        defaults.highlight_modes['magic_text/x-csrc'] = {'reg':[/^\\\\s*%%makefile/]};\n",
    "    })();\n",
    "    \"\"\"\n",
    "IPython.core.display.display_javascript(js, raw=True)"
   ]
  },
  {
   "cell_type": "code",
   "execution_count": 5,
   "metadata": {
    "ExecuteTime": {
     "end_time": "2019-09-03T15:00:29.097503Z",
     "start_time": "2019-09-03T15:00:29.086095Z"
    }
   },
   "outputs": [],
   "source": [
    "@magics_class\n",
    "class MyMagics(Magics):\n",
    "        \n",
    "    @cell_magic\n",
    "    def ccode(self, line, cell):\n",
    "        copyright = \"\"\"/*\n",
    " * This file is part of the micropython-ulab project, \n",
    " *\n",
    " * https://github.com/v923z/micropython-ulab\n",
    " *\n",
    " * The MIT License (MIT)\n",
    " *\n",
    " * Copyright (c) 2019 Zoltán Vörös\n",
    "*/\n",
    "    \"\"\"\n",
    "        if line:\n",
    "            with open('../../../ulab/code/'+line, 'w') as cout:\n",
    "                cout.write(copyright)\n",
    "                cout.write(cell)\n",
    "            print('written %d bytes to %s'%(len(copyright) + len(cell), line))\n",
    "            return None\n",
    "\n",
    "ip = get_ipython()\n",
    "ip.register_magics(MyMagics)"
   ]
  },
  {
   "cell_type": "markdown",
   "metadata": {},
   "source": [
    "# Compiling the module\n",
    "\n",
    "Detailed instructions on how to set up and compile a C module can be found in chapter 2 of https://micropython-usermod.readthedocs.io/en/latest/. \n",
    "\n",
    "First, on the command line, you should clone both the micropython, and the `ulab` repositories: \n",
    "\n",
    "```bash\n",
    "git clone https://github.com/micropython/micropython.git\n",
    "```\n",
    "Then navigate to your micropython folder, and run \n",
    "\n",
    "```bash\n",
    "git clone https://github.com/v923z/micropython-ulab.git ulab\n",
    "```\n",
    "\n",
    "Finally, in the `mpconfigport.h` header file of the port that you want to compile for, you have to define the variable `MODULE_ULAB_ENABLED`\n",
    "\n",
    "```make\n",
    "#define MODULE_ULAB_ENABLED (1)\n",
    "```\n",
    "\n",
    "At this point, you should be able to run make in the port's root folder:\n",
    "\n",
    "```bash\n",
    "make USER_C_MODULES=../../../ulab all\n",
    "```"
   ]
  },
  {
   "cell_type": "markdown",
   "metadata": {},
   "source": [
    "# The ndarray type"
   ]
  },
  {
   "cell_type": "markdown",
   "metadata": {},
   "source": [
    "## General comments\n",
    "\n",
    "ndarrays are efficient containers of numerical data of the same type (i.e., integers or floats). In addition to storing the actual data, the type definition has three additional members (on top of the `base` type). Namely, two `size_t` objects, `m`, and `n`, which give the dimensions of the matrix (obviously, if the ndarray is meant to be linear, either `m`, or `n` is equal to 1), as well as the byte size, `bytes`, i.e., the number of bytes consumed by the data container. `bytes` is equal to `m*n` for `byte` types (`uint8`, and `int8`), to `m*n*2` for integers (`uint16`, and `int16`), and `m*n*4` for floats. \n",
    "\n",
    "The type definition is \n",
    "\n",
    "```c\n",
    "typedef struct _ndarray_obj_t {\n",
    "    mp_obj_base_t base;\n",
    "    size_t m, n;\n",
    "    mp_obj_array_t *data;\n",
    "    size_t bytes;\n",
    "} ndarray_obj_t;\n",
    "```\n",
    "\n",
    "**NOTE: with a little bit of extra effort, mp_obj_array_t can be replaced by a single void array. We should, perhaps, consider the pros and cons of that. One patent advantage is that we could get rid of the verbatim copy of array_new function in ndarray.c. On the other hand, objarray.c facilities couldn't be used anymore.**"
   ]
  },
  {
   "cell_type": "markdown",
   "metadata": {},
   "source": [
    "Most of the functions in ndarray.c are internal (i.e., not exposed to the python interpreter). Exception to this rule are the `shape`, `size`, and `rawsize` functions. This latter one is not standard in numpy, and is meant to return the total number of bytes used by the container. Since the RAM of a microcontroller is limited, I deemed this to be a reasonable addition for optimisation purposes, but could later be removed, if it turns out to be of no interest."
   ]
  },
  {
   "cell_type": "markdown",
   "metadata": {},
   "source": [
    "## Initialisation\n",
    "\n",
    "An ndarray can be initialised by passing an iterable (linear arrays), or an iterable of iterables (matrices) into the constructor as"
   ]
  },
  {
   "cell_type": "code",
   "execution_count": 205,
   "metadata": {
    "ExecuteTime": {
     "end_time": "2019-08-07T19:42:05.874414Z",
     "start_time": "2019-08-07T19:42:05.853846Z"
    }
   },
   "outputs": [
    {
     "name": "stdout",
     "output_type": "stream",
     "text": [
      "ndarray([1.0, 2.0, 3.0, 4.0])\n",
      "\n",
      "ndarray([[1.0, 2.0, 3.0, 4.0],\n",
      "\t [2.0, 3.0, 4.0, 5.0]])\n",
      "\n",
      "ndarray([[0.0, 1.0, 2.0, ..., 7.0, 8.0, 9.0],\n",
      "\t [0.0, 1.0, 2.0, ..., 7.0, 8.0, 9.0]])\n",
      "\n",
      "\n",
      "\n"
     ]
    }
   ],
   "source": [
    "%%micropython\n",
    "\n",
    "from ulab import ndarray\n",
    "\n",
    "a = ndarray([1, 2, 3, 4])\n",
    "print(a)\n",
    "a = ndarray([[1, 2, 3, 4], [2, 3, 4, 5]])\n",
    "print(a)\n",
    "a = ndarray([range(10), range(10)])\n",
    "print(a)"
   ]
  },
  {
   "cell_type": "markdown",
   "metadata": {},
   "source": [
    "In addition, the constructor can take a keyword argument, dtype, that will force type conversion."
   ]
  },
  {
   "cell_type": "markdown",
   "metadata": {},
   "source": [
    "## Slicing and subscriptions\n",
    "\n",
    "Slicing and subscription works only on the flattened array. This has to do with the fact that slices can be given only in the form `myobject[1:10:2]`, and slice objects cannot be separated by commas, i.e., this won't be interpreted:\n",
    "\n",
    "```python\n",
    "myobject[1:10:2, 3:10:3]\n",
    "```\n",
    "\n",
    "This is something that should be sorted out in the future. As a temporary solution, we will have a special `getter` and `setter` method (see later) that handles this issue."
   ]
  },
  {
   "cell_type": "markdown",
   "metadata": {},
   "source": [
    "## Iterators\n",
    "\n",
    "Flattened `ndarray` objects can be iterated on:"
   ]
  },
  {
   "cell_type": "code",
   "execution_count": 746,
   "metadata": {
    "ExecuteTime": {
     "end_time": "2019-08-11T16:37:48.301972Z",
     "start_time": "2019-08-11T16:37:48.275062Z"
    }
   },
   "outputs": [
    {
     "name": "stdout",
     "output_type": "stream",
     "text": [
      "1.0\n",
      "2.0\n",
      "3.0\n",
      "4.0\n",
      "6.0\n",
      "7.0\n",
      "8.0\n",
      "9.0\n",
      "\n",
      "\n"
     ]
    }
   ],
   "source": [
    "%%micropython\n",
    "\n",
    "from ulab import ndarray\n",
    "\n",
    "a = ndarray([[1, 2, 3, 4], [6, 7, 8, 9]])\n",
    "\n",
    "for _a in a: print(_a)"
   ]
  },
  {
   "cell_type": "markdown",
   "metadata": {},
   "source": [
    "## ndarray.h"
   ]
  },
  {
   "cell_type": "code",
   "execution_count": 54,
   "metadata": {
    "ExecuteTime": {
     "end_time": "2019-09-05T19:48:52.953296Z",
     "start_time": "2019-09-05T19:48:52.946225Z"
    }
   },
   "outputs": [
    {
     "name": "stdout",
     "output_type": "stream",
     "text": [
      "written 1522 bytes to ndarray.h\n"
     ]
    }
   ],
   "source": [
    "%%ccode ndarray.h\n",
    "\n",
    "#ifndef _NDARRAY_\n",
    "#define _NDARRAY_\n",
    "\n",
    "#include \"py/objarray.h\" // this can in the future be dropped\n",
    "#include \"py/binary.h\"   // this can in the future be dropped\n",
    "#include \"py/objstr.h\"\n",
    "\n",
    "#define PRINT_MAX  10\n",
    "\n",
    "\n",
    "const mp_obj_type_t ulab_ndarray_type;\n",
    "\n",
    "\n",
    "enum NDARRAY_TYPE {\n",
    "    NDARRAY_UINT8 = 'b',\n",
    "    NDARRAY_INT8 = 'B',\n",
    "    NDARRAY_UINT16 = 'i', \n",
    "    NDARRAY_INT16 = 'I',\n",
    "    NDARRAY_FLOAT = 'f',\n",
    "};\n",
    "\n",
    "typedef struct _ndarray_obj_t {\n",
    "    mp_obj_base_t base;\n",
    "    size_t m, n;\n",
    "    size_t len;\n",
    "    mp_obj_array_t *data;\n",
    "    size_t bytes;\n",
    "} ndarray_obj_t;\n",
    "\n",
    "mp_obj_t mp_obj_new_ndarray_iterator(mp_obj_t , size_t , mp_obj_iter_buf_t *);\n",
    "\n",
    "float ndarray_get_float_value(void *, uint8_t , size_t );\n",
    "void ndarray_print_row(const mp_print_t *, mp_obj_array_t *, size_t , size_t );\n",
    "void ndarray_print(const mp_print_t *, mp_obj_t , mp_print_kind_t );\n",
    "void ndarray_assign_elements(mp_obj_array_t *, mp_obj_t , uint8_t , size_t *);\n",
    "ndarray_obj_t *create_new_ndarray(size_t , size_t , uint8_t );\n",
    "mp_obj_t ndarray_copy(mp_obj_t );\n",
    "mp_obj_t ndarray_make_new(const mp_obj_type_t *, size_t , size_t , const mp_obj_t *);\n",
    "mp_obj_t ndarray_subscr(mp_obj_t , mp_obj_t , mp_obj_t );\n",
    "mp_obj_t ndarray_getiter(mp_obj_t , mp_obj_iter_buf_t *);\n",
    "\n",
    "mp_obj_t ndarray_shape(mp_obj_t );\n",
    "mp_obj_t ndarray_size(mp_obj_t , mp_obj_t );\n",
    "mp_obj_t ndarray_rawsize(mp_obj_t );\n",
    "\n",
    "#endif"
   ]
  },
  {
   "cell_type": "markdown",
   "metadata": {},
   "source": [
    "## ndarray.c"
   ]
  },
  {
   "cell_type": "code",
   "execution_count": 163,
   "metadata": {
    "ExecuteTime": {
     "end_time": "2019-09-06T18:22:16.257859Z",
     "start_time": "2019-09-06T18:22:16.232985Z"
    }
   },
   "outputs": [
    {
     "name": "stdout",
     "output_type": "stream",
     "text": [
      "written 18547 bytes to ndarray.c\n"
     ]
    }
   ],
   "source": [
    "%%ccode ndarray.c\n",
    "\n",
    "#include <math.h>\n",
    "#include <stdio.h>\n",
    "#include <stdlib.h>\n",
    "#include <string.h>\n",
    "#include \"py/runtime.h\"\n",
    "#include \"py/binary.h\"\n",
    "#include \"py/obj.h\"\n",
    "#include \"py/objtuple.h\"\n",
    "#include \"ndarray.h\"\n",
    "\n",
    "// This function is copied verbatim from objarray.c\n",
    "STATIC mp_obj_array_t *array_new(char typecode, size_t n) {\n",
    "    int typecode_size = mp_binary_get_size('@', typecode, NULL);\n",
    "    mp_obj_array_t *o = m_new_obj(mp_obj_array_t);\n",
    "    // this step could probably be skipped: we are never going to store a bytearray per se\n",
    "    #if MICROPY_PY_BUILTINS_BYTEARRAY && MICROPY_PY_ARRAY\n",
    "    o->base.type = (typecode == BYTEARRAY_TYPECODE) ? &mp_type_bytearray : &mp_type_array;\n",
    "    #elif MICROPY_PY_BUILTINS_BYTEARRAY\n",
    "    o->base.type = &mp_type_bytearray;\n",
    "    #else\n",
    "    o->base.type = &mp_type_array;\n",
    "    #endif\n",
    "    o->typecode = typecode;\n",
    "    o->free = 0;\n",
    "    o->len = n;\n",
    "    o->items = m_new(byte, typecode_size * o->len);\n",
    "    return o;\n",
    "}\n",
    "\n",
    "float ndarray_get_float_value(void *data, uint8_t typecode, size_t index) {\n",
    "    if(typecode == NDARRAY_UINT8) {\n",
    "        return (float)((uint8_t *)data)[index];\n",
    "    } else if(typecode == NDARRAY_INT8) {\n",
    "        return (float)((int8_t *)data)[index];\n",
    "    } else if(typecode == NDARRAY_UINT16) {\n",
    "        return (float)((uint16_t *)data)[index];\n",
    "    } else if(typecode == NDARRAY_INT16) {\n",
    "        return (float)((int16_t *)data)[index];\n",
    "    } else {\n",
    "        return (float)((float_t *)data)[index];\n",
    "    }\n",
    "}\n",
    "\n",
    "void ndarray_print_row(const mp_print_t *print, mp_obj_array_t *data, size_t n0, size_t n) {\n",
    "    mp_print_str(print, \"[\");\n",
    "    size_t i;\n",
    "    if(n < PRINT_MAX) { // if the array is short, print everything\n",
    "        mp_obj_print_helper(print, mp_binary_get_val_array(data->typecode, data->items, n0), PRINT_REPR);\n",
    "        for(i=1; i<n; i++) {\n",
    "            mp_print_str(print, \", \");\n",
    "            mp_obj_print_helper(print, mp_binary_get_val_array(data->typecode, data->items, n0+i), PRINT_REPR);\n",
    "        }\n",
    "    } else {\n",
    "        mp_obj_print_helper(print, mp_binary_get_val_array(data->typecode, data->items, n0), PRINT_REPR);\n",
    "        for(i=1; i<3; i++) {\n",
    "            mp_print_str(print, \", \");\n",
    "            mp_obj_print_helper(print, mp_binary_get_val_array(data->typecode, data->items, n0+i), PRINT_REPR);\n",
    "        }\n",
    "        mp_printf(print, \", ..., \");\n",
    "        mp_obj_print_helper(print, mp_binary_get_val_array(data->typecode, data->items, n0+n-3), PRINT_REPR);\n",
    "        for(size_t i=1; i<3; i++) {\n",
    "            mp_print_str(print, \", \");\n",
    "            mp_obj_print_helper(print, mp_binary_get_val_array(data->typecode, data->items, n0+n-3+i), PRINT_REPR);\n",
    "        }\n",
    "    }\n",
    "    mp_print_str(print, \"]\");\n",
    "}\n",
    "\n",
    "void ndarray_print(const mp_print_t *print, mp_obj_t self_in, mp_print_kind_t kind) {\n",
    "    (void)kind;\n",
    "    ndarray_obj_t *self = MP_OBJ_TO_PTR(self_in);\n",
    "    mp_print_str(print, \"ndarray(\");\n",
    "    if((self->m == 1) || (self->n == 1)) {\n",
    "        ndarray_print_row(print, self->data, 0, self->data->len);\n",
    "    } else {\n",
    "        // TODO: add vertical ellipses for the case, when self->m > PRINT_MAX\n",
    "        mp_print_str(print, \"[\");\n",
    "        ndarray_print_row(print, self->data, 0, self->n);\n",
    "        for(size_t i=1; i < self->m; i++) {\n",
    "            mp_print_str(print, \",\\n\\t \");\n",
    "            ndarray_print_row(print, self->data, i*self->n, self->n);\n",
    "        }\n",
    "        mp_print_str(print, \"]\");\n",
    "    }\n",
    "    // TODO: print typecode\n",
    "    if(self->data->typecode == NDARRAY_UINT8) {\n",
    "        printf(\", dtype='uint8')\\n\");\n",
    "    } else if(self->data->typecode == NDARRAY_INT8) {\n",
    "        printf(\", dtype='int8')\\n\");\n",
    "    } if(self->data->typecode == NDARRAY_UINT16) {\n",
    "        printf(\", dtype='uint16')\\n\");\n",
    "    } if(self->data->typecode == NDARRAY_INT16) {\n",
    "        printf(\", dtype='int16')\\n\");\n",
    "    } if(self->data->typecode == NDARRAY_FLOAT) {\n",
    "        printf(\", dtype='float')\\n\");\n",
    "    } \n",
    "}\n",
    "\n",
    "void ndarray_assign_elements(mp_obj_array_t *data, mp_obj_t iterable, uint8_t typecode, size_t *idx) {\n",
    "    // assigns a single row in the matrix\n",
    "    mp_obj_t item;\n",
    "    while ((item = mp_iternext(iterable)) != MP_OBJ_STOP_ITERATION) {\n",
    "        mp_binary_set_val_array(typecode, data->items, (*idx)++, item);\n",
    "    }\n",
    "}\n",
    "\n",
    "ndarray_obj_t *create_new_ndarray(size_t m, size_t n, uint8_t typecode) {\n",
    "    // Creates the base ndarray with shape (m, n), and initialises the values to straight 0s\n",
    "    ndarray_obj_t *ndarray = m_new_obj(ndarray_obj_t);\n",
    "    ndarray->base.type = &ulab_ndarray_type;\n",
    "    ndarray->m = m;\n",
    "    ndarray->n = n;\n",
    "    mp_obj_array_t *data = array_new(typecode, m*n);\n",
    "    ndarray->bytes = m * n * mp_binary_get_size('@', typecode, NULL);\n",
    "    // this should set all elements to 0, irrespective of the of the typecode (all bits are zero)\n",
    "    // we could, perhaps, leave this step out, and initialise the array, only, when needed\n",
    "    memset(data->items, 0, ndarray->bytes); \n",
    "    ndarray->data = data;\n",
    "    return ndarray;\n",
    "}\n",
    "\n",
    "mp_obj_t ndarray_copy(mp_obj_t self_in) {\n",
    "    // returns a verbatim (shape and typecode) copy of self_in\n",
    "    ndarray_obj_t *self = MP_OBJ_TO_PTR(self_in);\n",
    "    ndarray_obj_t *out = create_new_ndarray(self->m, self->n, self->data->typecode);\n",
    "    int typecode_size = mp_binary_get_size('@', self->data->typecode, NULL);\n",
    "    memcpy(out->data->items, self->data->items, self->data->len*typecode_size);\n",
    "    return MP_OBJ_FROM_PTR(out);\n",
    "}\n",
    "\n",
    "STATIC uint8_t ndarray_init_helper(size_t n_args, const mp_obj_t *pos_args, mp_map_t *kw_args) {\n",
    "    static const mp_arg_t allowed_args[] = {\n",
    "        { MP_QSTR__array_arr, MP_ARG_REQUIRED | MP_ARG_OBJ, {.u_rom_obj = MP_ROM_PTR(&mp_const_none_obj)}},\n",
    "        { MP_QSTR_dtype, MP_ARG_KW_ONLY | MP_ARG_OBJ, {.u_rom_obj = MP_ROM_QSTR(MP_QSTR_float)} },\n",
    "    };\n",
    "\n",
    "    mp_arg_val_t args[MP_ARRAY_SIZE(allowed_args)];\n",
    "    mp_arg_parse_all(n_args, pos_args, kw_args, MP_ARRAY_SIZE(allowed_args), allowed_args, args);    \n",
    "    GET_STR_DATA_LEN(args[1].u_rom_obj, str, str_len);\n",
    "    if(memcmp(str, \"uint8\", 5) == 0) {\n",
    "        return NDARRAY_UINT8;\n",
    "    } else if(memcmp(str, \"uint16\", 6) == 0) {\n",
    "        return NDARRAY_UINT16;\n",
    "    } else if(memcmp(str, \"int8\", 4) == 0) {\n",
    "        return NDARRAY_INT8;\n",
    "    } else if(memcmp(str, \"int16\", 5) == 0) {\n",
    "        return NDARRAY_INT16;\n",
    "    }\n",
    "    return NDARRAY_FLOAT;\n",
    "}\n",
    "\n",
    "mp_obj_t ndarray_make_new(const mp_obj_type_t *type, size_t n_args, size_t n_kw, const mp_obj_t *args) {\n",
    "    mp_arg_check_num(n_args, n_kw, 1, 2, true);\n",
    "    mp_map_t kw_args;\n",
    "    mp_map_init_fixed_table(&kw_args, n_kw, args + n_args);\n",
    "    uint8_t dtype = ndarray_init_helper(n_args, args, &kw_args);\n",
    "    \n",
    "    size_t len1, len2=0, i=0;\n",
    "    mp_obj_t len_in = mp_obj_len_maybe(args[0]);\n",
    "    if (len_in == MP_OBJ_NULL) {\n",
    "        mp_raise_ValueError(\"first argument must be an iterable\");\n",
    "    } else {\n",
    "        len1 = MP_OBJ_SMALL_INT_VALUE(len_in);\n",
    "    }\n",
    "\n",
    "    // We have to figure out, whether the first element of the iterable is an iterable itself\n",
    "    // Perhaps, there is a more elegant way of handling this\n",
    "    mp_obj_iter_buf_t iter_buf1;\n",
    "    mp_obj_t item1, iterable1 = mp_getiter(args[0], &iter_buf1);\n",
    "    while ((item1 = mp_iternext(iterable1)) != MP_OBJ_STOP_ITERATION) {\n",
    "        len_in = mp_obj_len_maybe(item1);\n",
    "        if(len_in != MP_OBJ_NULL) { // indeed, this seems to be an iterable\n",
    "            // Next, we have to check, whether all elements in the outer loop have the same length\n",
    "            if(i > 0) {\n",
    "                if(len2 != MP_OBJ_SMALL_INT_VALUE(len_in)) {\n",
    "                    mp_raise_ValueError(\"iterables are not of the same length\");\n",
    "                }\n",
    "            }\n",
    "            len2 = MP_OBJ_SMALL_INT_VALUE(len_in);\n",
    "            i++;\n",
    "        }\n",
    "    }\n",
    "    // By this time, it should be established, what the shape is, so we can now create the array\n",
    "    // set the typecode to float, if the format specifier is missing\n",
    "    ndarray_obj_t *self = create_new_ndarray(len1, (len2 == 0) ? 1 : len2, dtype);\n",
    "    iterable1 = mp_getiter(args[0], &iter_buf1);\n",
    "    i = 0;\n",
    "    if(len2 == 0) { // the first argument is a single iterable\n",
    "        ndarray_assign_elements(self->data, iterable1, dtype, &i);\n",
    "    } else {\n",
    "        mp_obj_iter_buf_t iter_buf2;\n",
    "        mp_obj_t iterable2; \n",
    "\n",
    "        while ((item1 = mp_iternext(iterable1)) != MP_OBJ_STOP_ITERATION) {\n",
    "            iterable2 = mp_getiter(item1, &iter_buf2);\n",
    "            ndarray_assign_elements(self->data, iterable2, dtype, &i);\n",
    "        }\n",
    "    }\n",
    "    return MP_OBJ_FROM_PTR(self);\n",
    "}\n",
    "\n",
    "mp_obj_t ndarray_subscr(mp_obj_t self_in, mp_obj_t index, mp_obj_t value) {\n",
    "    // NOTE: this will work only on the flattened array!\n",
    "    ndarray_obj_t *self = MP_OBJ_TO_PTR(self_in);\n",
    "    if (value == MP_OBJ_SENTINEL) { \n",
    "        // simply return the values at index, no assignment\n",
    "#if MICROPY_PY_BUILTINS_SLICE\n",
    "        if (MP_OBJ_IS_TYPE(index, &mp_type_slice)) {\n",
    "            mp_bound_slice_t slice;\n",
    "            mp_seq_get_fast_slice_indexes(self->data->len, index, &slice);\n",
    "            // TODO: this won't work with index reversion!!!\n",
    "            size_t len = (slice.stop - slice.start) / slice.step;\n",
    "            ndarray_obj_t *out = create_new_ndarray(1, len, self->data->typecode);\n",
    "            int _sizeof = mp_binary_get_size('@', self->data->typecode, NULL);\n",
    "            uint8_t *indata = (uint8_t *)self->data->items;\n",
    "            uint8_t *outdata = (uint8_t *)out->data->items;\n",
    "            for(size_t i=0; i < len; i++) {\n",
    "                memcpy(outdata+(i*_sizeof), indata+(slice.start+i*slice.step)*_sizeof, _sizeof);\n",
    "            }\n",
    "            return MP_OBJ_FROM_PTR(out);\n",
    "        }\n",
    "#endif\n",
    "        // we have a single index, return a single number\n",
    "        size_t idx = mp_obj_get_int(index);\n",
    "        switch(self->data->typecode) {\n",
    "            case NDARRAY_UINT8:\n",
    "                return MP_OBJ_NEW_SMALL_INT(((uint8_t *)self->data->items)[idx]);\n",
    "            case NDARRAY_INT8:\n",
    "                return MP_OBJ_NEW_SMALL_INT(((int8_t *)self->data->items)[idx]);\n",
    "            case NDARRAY_UINT16:\n",
    "                return MP_OBJ_NEW_SMALL_INT(((uint16_t *)self->data->items)[idx]);\n",
    "            case NDARRAY_INT16:\n",
    "                return MP_OBJ_NEW_SMALL_INT(((int16_t *)self->data->items)[idx]);\n",
    "            case NDARRAY_FLOAT:\n",
    "                return mp_obj_new_float(((float_t *)self->data->items)[idx]);\n",
    "        }\n",
    "    } else { // do not deal with assignment, bail out\n",
    "        mp_raise_NotImplementedError(\"subcript assignment is not implemented for ndarrays\");\n",
    "    }\n",
    "    return mp_const_none;\n",
    "}\n",
    "\n",
    "// itarray iterator\n",
    "\n",
    "mp_obj_t ndarray_getiter(mp_obj_t o_in, mp_obj_iter_buf_t *iter_buf) {\n",
    "    return mp_obj_new_ndarray_iterator(o_in, 0, iter_buf);\n",
    "}\n",
    "\n",
    "typedef struct _mp_obj_ndarray_it_t {\n",
    "    mp_obj_base_t base;\n",
    "    mp_fun_1_t iternext;\n",
    "    mp_obj_t ndarray;\n",
    "    size_t cur;\n",
    "} mp_obj_ndarray_it_t;\n",
    "\n",
    "mp_obj_t ndarray_iternext(mp_obj_t self_in) {\n",
    "    mp_obj_ndarray_it_t *self = MP_OBJ_TO_PTR(self_in);\n",
    "    ndarray_obj_t *ndarray = MP_OBJ_TO_PTR(self->ndarray);\n",
    "    // TODO: in numpy, ndarrays are iterated with respect to the first axis. \n",
    "    size_t iter_end = 0;\n",
    "    if((ndarray->m == 1) || (ndarray->n ==1)) {\n",
    "        iter_end = ndarray->data->len;\n",
    "    } else {\n",
    "        iter_end = ndarray->m;\n",
    "    }\n",
    "    if(self->cur < iter_end) {\n",
    "        if(ndarray->m == ndarray->data->len) { // we are have a linear array\n",
    "            // read the current value\n",
    "            mp_obj_t value;\n",
    "            value = mp_binary_get_val_array(ndarray->data->typecode, ndarray->data->items, self->cur);\n",
    "            self->cur++;\n",
    "            return value;\n",
    "        } else { // we have a matrix, return the \n",
    "            ndarray_obj_t *value = create_new_ndarray(1, ndarray->n, ndarray->data->typecode);\n",
    "            // copy the memory content here\n",
    "            uint8_t *tmp = (uint8_t *)ndarray->data->items;\n",
    "            size_t strip_size = ndarray->n * mp_binary_get_size('@', ndarray->data->typecode, NULL);\n",
    "            memcpy(value->data->items, &tmp[self->cur*strip_size], strip_size);\n",
    "            self->cur++;\n",
    "            return value;\n",
    "        }\n",
    "    } else {\n",
    "        return MP_OBJ_STOP_ITERATION;\n",
    "    }\n",
    "}\n",
    "\n",
    "mp_obj_t mp_obj_new_ndarray_iterator(mp_obj_t ndarray, size_t cur, mp_obj_iter_buf_t *iter_buf) {\n",
    "    assert(sizeof(mp_obj_ndarray_it_t) <= sizeof(mp_obj_iter_buf_t));\n",
    "    mp_obj_ndarray_it_t *o = (mp_obj_ndarray_it_t*)iter_buf;\n",
    "    o->base.type = &mp_type_polymorph_iter;\n",
    "    o->iternext = ndarray_iternext;\n",
    "    o->ndarray = ndarray;\n",
    "    o->cur = cur;\n",
    "    return MP_OBJ_FROM_PTR(o);\n",
    "}\n",
    "\n",
    "mp_obj_t ndarray_shape(mp_obj_t self_in) {\n",
    "    ndarray_obj_t *self = MP_OBJ_TO_PTR(self_in);\n",
    "    mp_obj_t tuple[2] = {\n",
    "        mp_obj_new_int(self->m),\n",
    "        mp_obj_new_int(self->n)\n",
    "    };\n",
    "    return mp_obj_new_tuple(2, tuple);\n",
    "}\n",
    "\n",
    "mp_obj_t ndarray_size(mp_obj_t self_in, mp_obj_t axis) {\n",
    "    ndarray_obj_t *self = MP_OBJ_TO_PTR(self_in);\n",
    "    uint8_t ax = mp_obj_get_int(axis);\n",
    "    if(ax == 0) {\n",
    "        return mp_obj_new_int(self->data->len);\n",
    "    } else if(ax == 1) {\n",
    "        return mp_obj_new_int(self->m);\n",
    "    } else if(ax == 2) {\n",
    "        return mp_obj_new_int(self->n);\n",
    "    } else {\n",
    "        return mp_const_none;\n",
    "    }\n",
    "}\n",
    "\n",
    "mp_obj_t ndarray_rawsize(mp_obj_t self_in) {\n",
    "    // returns a 5-tuple with the \n",
    "    // \n",
    "    // 1. number of rows\n",
    "    // 2. number of columns\n",
    "    // 3. length of the storage (should be equal to the product of 1. and 2.)\n",
    "    // 4. length of the data storage in bytes\n",
    "    // 5. datum size in bytes\n",
    "    ndarray_obj_t *self = MP_OBJ_TO_PTR(self_in);\n",
    "    mp_obj_tuple_t *tuple = MP_OBJ_TO_PTR(mp_obj_new_tuple(5, NULL));\n",
    "    tuple->items[0] = MP_OBJ_NEW_SMALL_INT(self->m);\n",
    "    tuple->items[1] = MP_OBJ_NEW_SMALL_INT(self->n);\n",
    "    tuple->items[2] = MP_OBJ_NEW_SMALL_INT(self->bytes);\n",
    "    tuple->items[3] = MP_OBJ_NEW_SMALL_INT(self->data->len);\n",
    "    tuple->items[4] = MP_OBJ_NEW_SMALL_INT(mp_binary_get_size('@', self->data->typecode, NULL));\n",
    "    return tuple;\n",
    "}\n",
    "\n",
    "// Binary operations\n",
    "/*\n",
    "STATIC uint8_t upcasting(ndarray_obj_t lhs, ndarray_obj_t rhs) {\n",
    "    // returns the upcast typecode\n",
    "    // what we have to establish is, whether either of sides has a type code that is \n",
    "    // 'larger' than the other side\n",
    "    uint8_t typecode_l, typecode_r;\n",
    "    switch(lhs->data->typecode) {\n",
    "        case 'b':\n",
    "            typecode_l = (0x01 << 0);\n",
    "        case 'B':\n",
    "            typecode_l = (0x01 << 1);\n",
    "        case 'i':\n",
    "            typecode_l = (0x01 << 2);\n",
    "        case 'I':\n",
    "            typecode_l = (0x01 << 3);\n",
    "        case 'f':\n",
    "            typecode_l = (0x01 << 4);\n",
    "    }\n",
    "    switch(rhs->data->typecode) {\n",
    "        case 'b':\n",
    "            typecode_r = (0x01 << 0);\n",
    "        case 'B':\n",
    "            typecode_r = (0x01 << 1);\n",
    "        case 'i':\n",
    "            typecode_r = (0x01 << 2);\n",
    "        case 'I':\n",
    "            typecode_r = (0x01 << 3);\n",
    "        case 'f':\n",
    "            typecode_r = (0x01 << 4);\n",
    "    }\n",
    "    // Now we have to collect 25 cases \n",
    "    if((typecode_l | typecode_r) == (0x01 << 0)) { // 2 cases\n",
    "        return 'b';\n",
    "    } else if((typecode_l | typecode_r) == (0x01 << 1)) { // 2 cases\n",
    "        return 'B';\n",
    "    } else if((typecode_l | typecode_r) == (0x01 << 2)) { // 2 casaes\n",
    "        return 'i';\n",
    "    } else if((typecode_l | typecode_r) == (0x01 << 3)) { // 2 cases\n",
    "        return 'I';\n",
    "    } else if((typecode_l | typecode_r) >= (0x01 << 4)) { // 10 cases\n",
    "        return 'f';\n",
    "    } else if((typecode_l | typecode_r) == ((0x01 << 0) | (0x01 << 1)) {\n",
    "        return 'i';\n",
    "    }\n",
    "}\n",
    "\n",
    "mp_obj_t ulab_ndarray_binary_op_helper(mp_binary_op_t op, mp_obj_t lhs, mp_obj_t rhs) {\n",
    "    // TODO: support scalar operations\n",
    "    if (MP_OBJ_IS_TYPE(rhs, &mp_type_int) || MP_OBJ_IS_TYPE(rhs, &mp_type_float)) {\n",
    "        return MP_OBJ_NULL; // op not supported\n",
    "    } else if(MP_OBJ_IS_TYPE(rhs, &ulab_ndarray_type)) {\n",
    "        // At this point, the operands should have the same shape\n",
    "        ndarray_obj_t *ol = MP_OBJ_TO_PTR(lhs);\n",
    "        ndarray_obj_t *or = MP_OBJ_TO_PTR(rhs);\n",
    "        ndarray_obj_t *array;\n",
    "        if((ol->m != or->m) || (ol->n != or->n)) {\n",
    "            mp_raise_ValueError(\"operands could not be broadcast together\");\n",
    "        }\n",
    "        // do not convert types, if they are identical\n",
    "        // do not convert either, if the left hand side is a float\n",
    "        if((ol->data->typecode == or->data->typecode) || ol->data->typecode == NDARRAY_FLOAT) {\n",
    "            array = ulab_ndarray_copy(ol);\n",
    "        } else {\n",
    "            // the types are not equal, we have to do some conversion here\n",
    "            if(or->data->typecode == NDARRAY_FLOAT) {\n",
    "                array = ulab_ndarray_copy(ol);\n",
    "            } else if((ol->data->typecode == NDARRAY_INT16) || (or->data->typecode == NDARRAY_INT16)) {\n",
    "                array = create_new_ndarray(ol->m, ol->n, NDARRAY_INT16);\n",
    "            } else if((ol->data->typecode == NDARRAY_UINT16) || (or->data->typecode == NDARRAY_UINT16)) {\n",
    "                array = create_new_ndarray(ol->m, ol->n, NDARRAY_INT16);\n",
    "            }\n",
    "        }\n",
    "        switch(op) {\n",
    "            case MP_BINARY_OP_ADD:\n",
    "                for(size_t i=0; i < ol->data->len; i++) {\n",
    "\n",
    "                }\n",
    "                return MP_OBJ_FROM_PTR(array);\n",
    "                break;\n",
    "            default:\n",
    "                break;\n",
    "        }\n",
    "\n",
    "    }\n",
    "}\n",
    "\n",
    "STATIC mp_obj_t ulab_ndarray_binary_op(mp_binary_op_t op, mp_obj_t lhs, mp_obj_t rhs) {\n",
    "    ndarray_obj_t *ol = MP_OBJ_TO_PTR(lhs);\n",
    "    ndarray_obj_t *or = MP_OBJ_TO_PTR(rhs);\n",
    "\n",
    "    // for in-place operations, we won't need this!!!\n",
    "    ndarray_obj_t *array = ulab_ndarray_copy(ol);    \n",
    "    switch (op) {\n",
    "        case MP_BINARY_OP_EQUAL:\n",
    "            if(!MP_OBJ_IS_TYPE(rhs, &ulab_ndarray_type)) {\n",
    "                return mp_const_false;\n",
    "            } else {\n",
    "                // Two arrays are equal, if their shape, typecode, and elements are equal\n",
    "                if((ol->m != or->m) || (ol->n != or->n) || (ol->data->typecode != or->data->typecode)) {\n",
    "                    return mp_const_false;\n",
    "                } else {\n",
    "                    size_t i = ol->bytes;\n",
    "                    uint8_t *l = (uint8_t *)ol->data->items;\n",
    "                    uint8_t *r = (uint8_t *)or->data->items;\n",
    "                    while(i) { // At this point, we can simply compare the bytes, the types is irrelevant\n",
    "                        if(*l++ != *r++) {\n",
    "                            return mp_const_false;\n",
    "                        }\n",
    "                        i--;\n",
    "                    }\n",
    "                    return mp_const_true;\n",
    "                }\n",
    "            }\n",
    "            break;\n",
    "        case MP_BINARY_OP_ADD:\n",
    "        case MP_BINARY_OP_MULTIPLY: \n",
    "            return MP_OBJ_FROM_PTR(array);\n",
    "            break;\n",
    "\n",
    "        default:\n",
    "            return MP_OBJ_NULL; // op not supported\n",
    "    }\n",
    "    }\n",
    "*/"
   ]
  },
  {
   "cell_type": "markdown",
   "metadata": {},
   "source": [
    "# Linear algebra\n",
    "\n",
    "This module contains very basic matrix operators, such as transposing, reshaping, and inverting. The actual inversion is factored out into a helper function, so that the routine can be re-used in other modules. Also note that inversion is based on the notion of a *small number* (epsilon). During the computation of the inverse, a number is treated as 0, if its absolute value is smaller than epsilon. This precaution is required, otherwise, one might run into singular matrices. "
   ]
  },
  {
   "cell_type": "markdown",
   "metadata": {},
   "source": [
    "## linalg.h"
   ]
  },
  {
   "cell_type": "code",
   "execution_count": 786,
   "metadata": {
    "ExecuteTime": {
     "end_time": "2019-08-11T17:47:20.913255Z",
     "start_time": "2019-08-11T17:47:20.853670Z"
    }
   },
   "outputs": [
    {
     "name": "stdout",
     "output_type": "stream",
     "text": [
      "written 492 bytes to linalg.h\n"
     ]
    }
   ],
   "source": [
    "%%ccode linalg.h\n",
    "\n",
    "#ifndef _LINALG_\n",
    "#define _LINALG_\n",
    "\n",
    "#include \"ndarray.h\"\n",
    "\n",
    "#define SWAP(t, a, b) { t tmp = a; a = b; b = tmp; }\n",
    "#define epsilon        1e-6\n",
    "\n",
    "mp_obj_t linalg_transpose(mp_obj_t );\n",
    "mp_obj_t linalg_reshape(mp_obj_t , mp_obj_t );\n",
    "mp_obj_t linalg_inv(mp_obj_t );\n",
    "mp_obj_t linalg_multiply(mp_obj_t , mp_obj_t );\n",
    "\n",
    "#endif"
   ]
  },
  {
   "cell_type": "markdown",
   "metadata": {},
   "source": [
    "## linalg.c"
   ]
  },
  {
   "cell_type": "code",
   "execution_count": 440,
   "metadata": {
    "ExecuteTime": {
     "end_time": "2019-08-10T14:39:08.590595Z",
     "start_time": "2019-08-10T14:39:08.553692Z"
    }
   },
   "outputs": [
    {
     "name": "stdout",
     "output_type": "stream",
     "text": [
      "written 4818 bytes to linalg.c\n"
     ]
    }
   ],
   "source": [
    "%%ccode linalg.c\n",
    "\n",
    "#include <stdlib.h>\n",
    "#include <string.h>\n",
    "#include \"py/obj.h\"\n",
    "#include \"py/runtime.h\"\n",
    "#include \"linalg.h\"\n",
    "\n",
    "mp_obj_t linalg_transpose(mp_obj_t self_in) {\n",
    "    ndarray_obj_t *self = MP_OBJ_TO_PTR(self_in);\n",
    "    // the size of a single item in the array\n",
    "    uint8_t _sizeof = mp_binary_get_size('@', self->data->typecode, NULL);\n",
    "    \n",
    "    // NOTE: In principle, we could simply specify the stride direction, and then we wouldn't \n",
    "    // even have to shuffle the elements. The downside of that approach is that we would have \n",
    "    // to implement two versions of the matrix multiplication and inversion functions\n",
    "    \n",
    "    // NOTE: \n",
    "    // if the matrices are square, we can simply swap items, but \n",
    "    // generic matrices can't be transposed in place, so we have to \n",
    "    // declare a temporary variable\n",
    "    \n",
    "    // NOTE: \n",
    "    //  In the old matrix, the coordinate (m, n) is m*self->n + n\n",
    "    //  We have to assign this to the coordinate (n, m) in the new \n",
    "    //  matrix, i.e., to n*self->m + m\n",
    "    \n",
    "    // one-dimensional arrays can be transposed by simply swapping the dimensions\n",
    "    if((self->m != 1) && (self->n != 1)) {\n",
    "        uint8_t *c = (uint8_t *)self->data->items;\n",
    "        // self->bytes is the size of the bytearray, irrespective of the typecode\n",
    "        uint8_t *tmp = (uint8_t *)malloc(self->bytes);\n",
    "        for(size_t m=0; m < self->m; m++) {\n",
    "            for(size_t n=0; n < self->n; n++) {\n",
    "                memcpy(tmp+_sizeof*(n*self->m + m), c+_sizeof*(m*self->n + n), _sizeof);\n",
    "            }\n",
    "        }\n",
    "        memcpy(self->data->items, tmp, self->bytes);\n",
    "        free(tmp);\n",
    "    } \n",
    "    SWAP(size_t, self->m, self->n);\n",
    "    return mp_const_none;\n",
    "}\n",
    "\n",
    "mp_obj_t linalg_reshape(mp_obj_t self_in, mp_obj_t shape) {\n",
    "    ndarray_obj_t *self = MP_OBJ_TO_PTR(self_in);\n",
    "    if(!MP_OBJ_IS_TYPE(shape, &mp_type_tuple) || (MP_OBJ_SMALL_INT_VALUE(mp_obj_len_maybe(shape)) != 2)) {\n",
    "        mp_raise_ValueError(\"shape must be a 2-tuple\");\n",
    "    }\n",
    "\n",
    "    mp_obj_iter_buf_t iter_buf;\n",
    "    mp_obj_t item, iterable = mp_getiter(shape, &iter_buf);\n",
    "    uint16_t m, n;\n",
    "    item = mp_iternext(iterable);\n",
    "    m = mp_obj_get_int(item);\n",
    "    item = mp_iternext(iterable);\n",
    "    n = mp_obj_get_int(item);\n",
    "    if(m*n != self->m*self->n) {\n",
    "        // TODO: the proper error message would be \"cannot reshape array of size %d into shape (%d, %d)\"\n",
    "        mp_raise_ValueError(\"cannot reshape array (incompatible input/output shape)\");\n",
    "    }\n",
    "    self->m = m;\n",
    "    self->n = n;\n",
    "    return MP_OBJ_FROM_PTR(self);\n",
    "}\n",
    "\n",
    "ndarray_obj_t *invert_matrix(mp_obj_array_t *data, size_t N) {\n",
    "    // After inversion the matrix is most certainly a float\n",
    "    ndarray_obj_t *tmp = create_new_ndarray(N, N, NDARRAY_FLOAT);\n",
    "    // initially, this is the unit matrix: this is what will be returned a\n",
    "    // after all the transformations\n",
    "    ndarray_obj_t *unitm = create_new_ndarray(N, N, NDARRAY_FLOAT);\n",
    "\n",
    "    float *c = (float *)tmp->data->items;\n",
    "    float *unit = (float *)unitm->data->items;\n",
    "    mp_obj_t elem;\n",
    "    float elemf;\n",
    "    for(size_t m=0; m < N; m++) { // rows first\n",
    "        for(size_t n=0; n < N; n++) { // columns next\n",
    "            // this could, perhaps, be done in single line...\n",
    "            elem = mp_binary_get_val_array(data->typecode, data->items, m*N+n);\n",
    "            elemf = (float)mp_obj_get_float(elem);\n",
    "            memcpy(&c[m*N+n], &elemf, sizeof(float));\n",
    "        }\n",
    "        // initialise the unit matrix\n",
    "        elemf = 1.0;\n",
    "        memcpy(&unit[m*(N+1)], &elemf, sizeof(float));\n",
    "    }\n",
    "    for(size_t m=0; m < N; m++){\n",
    "        // this could be faster with ((c < epsilon) && (c > -epsilon))\n",
    "        if(abs(c[m*(N+1)]) < epsilon) {\n",
    "            // TODO: check what kind of exception numpy raises\n",
    "            mp_raise_ValueError(\"input matrix is singular\");\n",
    "        }\n",
    "        for(size_t n=0; n < N; n++){\n",
    "            if(m != n){\n",
    "                elemf = c[N*n+m] / c[m*(N+1)];\n",
    "                for(size_t k=0; k < N; k++){\n",
    "                    c[N*n+k] -= elemf * c[N*m+k];\n",
    "                    unit[N*n+k] -= elemf * unit[N*m+k];\n",
    "                }\n",
    "            }\n",
    "        }\n",
    "    }\n",
    "    for(size_t m=0; m < N; m++){ \n",
    "        elemf = c[m*(N+1)];\n",
    "        for(size_t n=0; n < N; n++){\n",
    "            c[N*m+n] /= elemf;\n",
    "            unit[N*m+n] /= elemf;\n",
    "        }\n",
    "    }\n",
    "    return unitm;\n",
    "}\n",
    "\n",
    "mp_obj_t linalg_inv(mp_obj_t o_in) {\n",
    "    ndarray_obj_t *o = MP_OBJ_TO_PTR(o_in);\n",
    "    if(!MP_OBJ_IS_TYPE(o_in, &ulab_ndarray_type)) {\n",
    "        mp_raise_TypeError(\"only ndarray objects can be inverted\");\n",
    "    }\n",
    "    if(o->m != o->n) {\n",
    "        mp_raise_ValueError(\"only square matrices can be inverted\");\n",
    "    }\n",
    "    ndarray_obj_t *inverted = invert_matrix(o->data, o->m);\n",
    "    return MP_OBJ_FROM_PTR(inverted);\n",
    "}\n",
    "\n",
    "mp_obj_t linalg_multiply(mp_obj_t _m1, mp_obj_t _m2) {\n",
    "    ndarray_obj_t *m1 = MP_OBJ_TO_PTR(_m1);\n",
    "    ndarray_obj_t *m2 = MP_OBJ_TO_PTR(_m2);    \n",
    "    if(m1->n != m2->m) {\n",
    "        mp_raise_ValueError(\"matrix dimensions do not match\");\n",
    "    }\n",
    "    ndarray_obj_t *out = create_new_ndarray(m1->m, m2->n, NDARRAY_FLOAT);\n",
    "    float sum;\n",
    "    for(size_t i=0; i < m1->n; i++) {\n",
    "        for(size_t j=0; j < m2->m; j++) {\n",
    "            for(size_t k=0; k < m1->m; k++) {\n",
    "                sum += m1->data->items[i*m1->n+k]*m2->data->items[k*m2->n+j];\n",
    "            }\n",
    "            mp_set_out->data->items\n",
    "        }\n",
    "    }\n",
    "    return MP_OBJ_FROM_PTR(out);    \n",
    "}"
   ]
  },
  {
   "cell_type": "markdown",
   "metadata": {},
   "source": [
    "# Vectorising mathematical operations"
   ]
  },
  {
   "cell_type": "markdown",
   "metadata": {},
   "source": [
    "## General comments"
   ]
  },
  {
   "cell_type": "markdown",
   "metadata": {},
   "source": [
    "The following module implements the common mathematical functions for scalars, ndarrays (linear or matrix), and iterables. If the input argument is a scalar, a scalar is returned (i.e., for such arguments, these functions are identical to the functions in the `math` module), while for ndarrays, and iterables, the return value is an ndarray of type `float`. "
   ]
  },
  {
   "cell_type": "code",
   "execution_count": 797,
   "metadata": {
    "ExecuteTime": {
     "end_time": "2019-08-11T19:01:10.900539Z",
     "start_time": "2019-08-11T19:01:10.873060Z"
    },
    "scrolled": true
   },
   "outputs": [
    {
     "name": "stdout",
     "output_type": "stream",
     "text": [
      "ndarray([1.0, 2.718281745910645, 7.389056205749512, 20.08553695678711, 54.59814834594727])\n",
      "\n",
      "7.38905609893065\n",
      "ndarray([2.718281745910645, 7.389056205749512, 20.08553695678711])\n",
      "\n",
      "\n",
      "\n"
     ]
    }
   ],
   "source": [
    "%%micropython\n",
    "\n",
    "import ulab\n",
    "\n",
    "a = ulab.ndarray([1, 2, 3])\n",
    "print(ulab.exp(range(5)))\n",
    "print(ulab.exp(2.0))\n",
    "print(ulab.exp(a))"
   ]
  },
  {
   "cell_type": "markdown",
   "metadata": {},
   "source": [
    "Note that ndarrays are linear arrays in memory, even if the `shape` of the ndarray is a matrix. This means that we can treat both cases in a *single* loop."
   ]
  },
  {
   "cell_type": "markdown",
   "metadata": {},
   "source": [
    "Since `ndarray`s are iterable, we could treat `ndarray`s, `list`s, `tuples`, and `range`s on the same footing. However, that would mean extra trips to a lot of functions, therefore, reading out the values of the `ndarray` directly is probably significantly faster. "
   ]
  },
  {
   "cell_type": "markdown",
   "metadata": {},
   "source": [
    "## vectorise.h"
   ]
  },
  {
   "cell_type": "code",
   "execution_count": 190,
   "metadata": {
    "ExecuteTime": {
     "end_time": "2019-08-07T18:43:32.861490Z",
     "start_time": "2019-08-07T18:43:32.856781Z"
    }
   },
   "outputs": [
    {
     "name": "stdout",
     "output_type": "stream",
     "text": [
      "written 1082 bytes to vectorise.h\n"
     ]
    }
   ],
   "source": [
    "%%ccode vectorise.h\n",
    "\n",
    "#ifndef _VECTORISE_\n",
    "#define _VECTORISE_\n",
    "\n",
    "#include \"ndarray.h\"\n",
    "\n",
    "mp_obj_t vectorise_acos(mp_obj_t );\n",
    "mp_obj_t vectorise_acosh(mp_obj_t );\n",
    "mp_obj_t vectorise_asin(mp_obj_t );\n",
    "mp_obj_t vectorise_asinh(mp_obj_t );\n",
    "mp_obj_t vectorise_atan(mp_obj_t );\n",
    "mp_obj_t vectorise_atanh(mp_obj_t );\n",
    "mp_obj_t vectorise_ceil(mp_obj_t );\n",
    "mp_obj_t vectorise_cos(mp_obj_t );\n",
    "mp_obj_t vectorise_erf(mp_obj_t );\n",
    "mp_obj_t vectorise_erfc(mp_obj_t );\n",
    "mp_obj_t vectorise_exp(mp_obj_t );\n",
    "mp_obj_t vectorise_expm1(mp_obj_t );\n",
    "mp_obj_t vectorise_floor(mp_obj_t );\n",
    "mp_obj_t vectorise_gamma(mp_obj_t );\n",
    "mp_obj_t vectorise_lgamma(mp_obj_t );\n",
    "mp_obj_t vectorise_log(mp_obj_t );\n",
    "mp_obj_t vectorise_log10(mp_obj_t );\n",
    "mp_obj_t vectorise_log2(mp_obj_t );\n",
    "mp_obj_t vectorise_sin(mp_obj_t );\n",
    "mp_obj_t vectorise_sinh(mp_obj_t );\n",
    "mp_obj_t vectorise_sqrt(mp_obj_t );\n",
    "mp_obj_t vectorise_tan(mp_obj_t );\n",
    "mp_obj_t vectorise_tanh(mp_obj_t );\n",
    "\n",
    "#endif"
   ]
  },
  {
   "cell_type": "markdown",
   "metadata": {},
   "source": [
    "## vectorise.c"
   ]
  },
  {
   "cell_type": "code",
   "execution_count": 798,
   "metadata": {
    "ExecuteTime": {
     "end_time": "2019-08-11T19:05:45.741085Z",
     "start_time": "2019-08-11T19:05:45.728596Z"
    }
   },
   "outputs": [
    {
     "name": "stdout",
     "output_type": "stream",
     "text": [
      "written 2972 bytes to vectorise.c\n"
     ]
    }
   ],
   "source": [
    "%%ccode vectorise.c\n",
    "\n",
    "#include <math.h>\n",
    "#include <stdio.h>\n",
    "#include <stdlib.h>\n",
    "#include <complex.h>\n",
    "#include \"py/runtime.h\"\n",
    "#include \"py/binary.h\"\n",
    "#include \"py/obj.h\"\n",
    "#include \"py/objarray.h\"\n",
    "#include \"vectorise.h\"\n",
    "\n",
    "#ifndef MP_PI\n",
    "#define MP_PI MICROPY_FLOAT_CONST(3.14159265358979323846)\n",
    "#endif\n",
    "\n",
    "mp_obj_t vectorise_generic_vector(mp_obj_t o_in, mp_float_t (*f)(mp_float_t)) {\n",
    "    // Return a single value, if o_in is not iterable\n",
    "    if(mp_obj_is_float(o_in) || mp_obj_is_integer(o_in)) {\n",
    "            return mp_obj_new_float(f(mp_obj_get_float(o_in)));\n",
    "    }\n",
    "    mp_float_t x;\n",
    "    if(MP_OBJ_IS_TYPE(o_in, &ulab_ndarray_type)) {\n",
    "        ndarray_obj_t *o = MP_OBJ_TO_PTR(o_in);\n",
    "        ndarray_obj_t *out = create_new_ndarray(o->m, o->n, NDARRAY_FLOAT);\n",
    "        float *datain = (float *)o->data->items;\n",
    "        float *dataout = (float *)out->data->items;\n",
    "        for(size_t i=0; i < o->data->len; i++) {\n",
    "            dataout[i] = f(datain[i]);\n",
    "        }\n",
    "        return MP_OBJ_FROM_PTR(out);\n",
    "    } else if(MP_OBJ_IS_TYPE(o_in, &mp_type_tuple) || MP_OBJ_IS_TYPE(o_in, &mp_type_list) || \n",
    "        MP_OBJ_IS_TYPE(o_in, &mp_type_range)) {\n",
    "            mp_obj_array_t *o = MP_OBJ_TO_PTR(o_in);\n",
    "            ndarray_obj_t *out = create_new_ndarray(1, o->len, NDARRAY_FLOAT);\n",
    "            float *dataout = (float *)out->data->items;\n",
    "            mp_obj_iter_buf_t iter_buf;\n",
    "            mp_obj_t item, iterable = mp_getiter(o_in, &iter_buf);\n",
    "            size_t i=0;\n",
    "            while ((item = mp_iternext(iterable)) != MP_OBJ_STOP_ITERATION) {\n",
    "                x = mp_obj_get_float(item);\n",
    "                dataout[i++] = f(x);\n",
    "            }\n",
    "        return MP_OBJ_FROM_PTR(out);\n",
    "    }\n",
    "    return mp_const_none;\n",
    "}\n",
    "\n",
    "\n",
    "#define MATH_FUN_1(py_name, c_name) \\\n",
    "    mp_obj_t vectorise_ ## py_name(mp_obj_t x_obj) { \\\n",
    "        return vectorise_generic_vector(x_obj, MICROPY_FLOAT_C_FUN(c_name)); \\\n",
    "    }\n",
    "\n",
    "// _degrees won't compile for the unix port\n",
    "/*\n",
    "mp_float_t _degreesf(mp_float_t x) {\n",
    "    return(180*x/MP_PI);\n",
    "}\n",
    "\n",
    "MATH_FUN_1(degrees, _degrees);\n",
    "\n",
    "// _radians won't compile for the unix port\n",
    "mp_float_t _radiansf(mp_float_t x) {\n",
    "    return(MP_PI*x/180.0);\n",
    "}\n",
    "\n",
    "MATH_FUN_1(radians, _radians);\n",
    "\n",
    "STATIC mp_float_t _fabsf(mp_float_t x) {\n",
    "    return fabsf(x);\n",
    "}\n",
    "\n",
    "MATH_FUN_1(fabs, _fabs);\n",
    "*/\n",
    "MATH_FUN_1(acos, acos);\n",
    "MATH_FUN_1(acosh, acosh);\n",
    "MATH_FUN_1(asin, asin);\n",
    "MATH_FUN_1(asinh, asinh);\n",
    "MATH_FUN_1(atan, atan);\t\n",
    "MATH_FUN_1(atanh, atanh);\n",
    "MATH_FUN_1(ceil, ceil);\n",
    "MATH_FUN_1(cos, cos);\n",
    "MATH_FUN_1(erf, erf);\n",
    "MATH_FUN_1(erfc, erfc);\n",
    "MATH_FUN_1(exp, exp);\n",
    "MATH_FUN_1(expm1, expm1);\n",
    "MATH_FUN_1(floor, floor);\n",
    "MATH_FUN_1(gamma, tgamma);\n",
    "MATH_FUN_1(lgamma, lgamma);\n",
    "MATH_FUN_1(log, log);\n",
    "MATH_FUN_1(log10, log10);\n",
    "MATH_FUN_1(log2, log2);\n",
    "MATH_FUN_1(sin, sin);\n",
    "MATH_FUN_1(sinh, sinh);\n",
    "MATH_FUN_1(sqrt, sqrt);\n",
    "MATH_FUN_1(tan, tan);\n",
    "MATH_FUN_1(tanh, tanh);"
   ]
  },
  {
   "cell_type": "markdown",
   "metadata": {},
   "source": [
    "# Polynomial fits"
   ]
  },
  {
   "cell_type": "code",
   "execution_count": 800,
   "metadata": {
    "ExecuteTime": {
     "end_time": "2019-08-11T19:06:30.120460Z",
     "start_time": "2019-08-11T19:06:30.103324Z"
    }
   },
   "outputs": [
    {
     "name": "stdout",
     "output_type": "stream",
     "text": [
      "ndarray([4.0, 10.0, 26.0, 58.00000000000001, 112.0])\n",
      "\n",
      "ndarray([0.0, 1.0, 2.0, 3.0, 4.0])\n",
      "\n",
      "ndarray([4.0, 10.0, 26.0, 58.00000000000001, 112.0])\n",
      "\n",
      "\n",
      "\n"
     ]
    }
   ],
   "source": [
    "%%micropython\n",
    "\n",
    "import ulab\n",
    "\n",
    "p = [1, 2, 3, 4]\n",
    "x = [0, 1, 2, 3, 4]\n",
    "\n",
    "print(ulab.polyval(p, x))\n",
    "a = ulab.ndarray(x)\n",
    "print(a)\n",
    "print(ulab.polyval(p, a))"
   ]
  },
  {
   "cell_type": "markdown",
   "metadata": {},
   "source": [
    "## poly.h"
   ]
  },
  {
   "cell_type": "code",
   "execution_count": 754,
   "metadata": {
    "ExecuteTime": {
     "end_time": "2019-08-11T16:57:42.591811Z",
     "start_time": "2019-08-11T16:57:42.583583Z"
    }
   },
   "outputs": [
    {
     "name": "stdout",
     "output_type": "stream",
     "text": [
      "written 264 bytes to poly.h\n"
     ]
    }
   ],
   "source": [
    "%%ccode poly.h\n",
    "\n",
    "#ifndef _POLY_\n",
    "#define _POLY_\n",
    "\n",
    "mp_obj_t poly_polyval(mp_obj_t , mp_obj_t );\n",
    "\n",
    "#endif"
   ]
  },
  {
   "cell_type": "markdown",
   "metadata": {},
   "source": [
    "## poly.c"
   ]
  },
  {
   "cell_type": "code",
   "execution_count": 819,
   "metadata": {
    "ExecuteTime": {
     "end_time": "2019-08-13T15:54:41.869169Z",
     "start_time": "2019-08-13T15:54:41.859638Z"
    }
   },
   "outputs": [
    {
     "name": "stdout",
     "output_type": "stream",
     "text": [
      "written 1524 bytes to poly.c\n"
     ]
    }
   ],
   "source": [
    "%%ccode poly.c\n",
    "\n",
    "#include \"py/runtime.h\"\n",
    "#include \"py/objarray.h\"\n",
    "#include \"ndarray.h\"\n",
    "#include \"poly.h\"\n",
    "\n",
    "mp_obj_t poly_polyval(mp_obj_t o_p, mp_obj_t o_x) {\n",
    "    // TODO: return immediately, if o_p is not an iterable\n",
    "    size_t m, n;\n",
    "    if(MP_OBJ_IS_TYPE(o_x, &ulab_ndarray_type)) {\n",
    "        ndarray_obj_t *ndx = MP_OBJ_TO_PTR(o_x);\n",
    "        m = ndx->m;\n",
    "        n = ndx->n;\n",
    "    } else {\n",
    "        mp_obj_array_t *ix = MP_OBJ_TO_PTR(o_x);\n",
    "        m = 1;\n",
    "        n = ix->len;\n",
    "    }\n",
    "    // polynomials are going to be of float, except, when both \n",
    "    // the coefficients and the independent variable are integers\n",
    "    ndarray_obj_t *out = create_new_ndarray(m, n, NDARRAY_FLOAT);\n",
    "    mp_obj_iter_buf_t x_buf;\n",
    "    mp_obj_t x_item, x_iterable = mp_getiter(o_x, &x_buf);\n",
    "\n",
    "    mp_obj_iter_buf_t p_buf;\n",
    "    mp_obj_t p_item, p_iterable;\n",
    "\n",
    "    size_t i = 0;\n",
    "    mp_float_t x, y;\n",
    "    float *outf = (float *)out->data->items;\n",
    "    while ((x_item = mp_iternext(x_iterable)) != MP_OBJ_STOP_ITERATION) {\n",
    "        x = mp_obj_get_float(x_item);\n",
    "        p_iterable = mp_getiter(o_p, &p_buf);\n",
    "        p_item = mp_iternext(p_iterable);\n",
    "        y = mp_obj_get_float(p_item);\n",
    "        while((p_item = mp_iternext(p_iterable)) != MP_OBJ_STOP_ITERATION) {\n",
    "            y *= x;\n",
    "            y += mp_obj_get_float(p_item);\n",
    "        }\n",
    "        outf[i++] = y;\n",
    "    }\n",
    "    return MP_OBJ_FROM_PTR(out);\n",
    "}"
   ]
  },
  {
   "cell_type": "markdown",
   "metadata": {},
   "source": [
    "# Fast Fourier transform"
   ]
  },
  {
   "cell_type": "code",
   "execution_count": 830,
   "metadata": {
    "ExecuteTime": {
     "end_time": "2019-08-13T16:08:05.440498Z",
     "start_time": "2019-08-13T16:08:05.420513Z"
    }
   },
   "outputs": [
    {
     "name": "stdout",
     "output_type": "stream",
     "text": [
      "(ndarray([164982.0, -14252.443359375, -142.0067901611328, 14252.4453125, -164690.0, 14252.443359375, -141.9932098388672, -14252.4453125])\n",
      ", ndarray([0.0, 15031.0322265625, -155236.0, 15103.0283203125, 0.0, -15103.0322265625, 155236.0, -15031.0283203125])\n",
      ")\n",
      "\n",
      "\n"
     ]
    }
   ],
   "source": [
    "%%micropython\n",
    "\n",
    "import ulab\n",
    "\n",
    "print(ulab.fft([1, 2, 3, 4]*2, [0]*8))"
   ]
  },
  {
   "cell_type": "markdown",
   "metadata": {},
   "source": [
    "## fft.h"
   ]
  },
  {
   "cell_type": "code",
   "execution_count": 807,
   "metadata": {
    "ExecuteTime": {
     "end_time": "2019-08-13T15:51:48.045717Z",
     "start_time": "2019-08-13T15:51:48.039177Z"
    }
   },
   "outputs": [
    {
     "name": "stdout",
     "output_type": "stream",
     "text": [
      "written 389 bytes to fft.h\n"
     ]
    }
   ],
   "source": [
    "%%ccode fft.h\n",
    "\n",
    "#ifndef _FFT_\n",
    "#define _FFT_\n",
    "\n",
    "#ifndef MP_PI\n",
    "#define MP_PI MICROPY_FLOAT_CONST(3.14159265358979323846)\n",
    "#endif\n",
    "\n",
    "#include <complex.h>\n",
    "typedef float complex complex_t;\n",
    "\n",
    "mp_obj_t fft_fft(mp_obj_t, mp_obj_t);\n",
    "#endif"
   ]
  },
  {
   "cell_type": "markdown",
   "metadata": {},
   "source": [
    "## fft.c"
   ]
  },
  {
   "cell_type": "code",
   "execution_count": 823,
   "metadata": {
    "ExecuteTime": {
     "end_time": "2019-08-13T16:06:12.928063Z",
     "start_time": "2019-08-13T16:06:12.917442Z"
    }
   },
   "outputs": [
    {
     "name": "stdout",
     "output_type": "stream",
     "text": [
      "written 3153 bytes to fft.c\n"
     ]
    }
   ],
   "source": [
    "%%ccode fft.c\n",
    "\n",
    "#include <math.h>\n",
    "#include <stdlib.h>\n",
    "#include \"py/runtime.h\"\n",
    "#include \"ndarray.h\"\n",
    "#include \"fft.h\"\n",
    "    \n",
    "STATIC void fft_kernel(complex_t *buffer, complex_t *out, int n, int step) {\n",
    "    // this is the actual FFT kernel that we call recursively\n",
    "    if (step < n) {\n",
    "        // split the input buffer in two\n",
    "        fft_kernel(out, buffer, n, step*2);\n",
    "        fft_kernel(out+step, buffer+step, n, step*2);\n",
    "\n",
    "        for (int i=0; i<n; i+=2*step) {\n",
    "            complex_t twiddle = (cosf(MP_PI*i/n)-I*sinf(MP_PI*i/n)) * out[i+step];\n",
    "            buffer[i/2] = out[i] + twiddle * out[i+step];\n",
    "            buffer[(i+n)/2] = out[i] - twiddle * out[i+step];\n",
    "        }\n",
    "    }\n",
    "}\n",
    "\n",
    "STATIC void fft_real_kernel(float *re, float *im, float *out_re, float *out_im, int n, int step) {\n",
    "    // this is the actual FFT kernel that we call recursively\n",
    "    if (step < n) {\n",
    "        // split the input buffer in two\n",
    "        fft_real_kernel(out_re, out_im, re, im, n, step*2);\n",
    "        fft_real_kernel(out_re+step, out_im+step, re+step, im+step, n, step*2);\n",
    "\n",
    "        float twiddle_re, twiddle_im;\n",
    "        for (int i=0; i<n; i+=2*step) {\n",
    "//            complex_t twiddle = (cosf(MP_PI*i/n)-I*sinf(MP_PI*i/n)) * out[i+step];\n",
    "            twiddle_re = cosf(MP_PI*i/n) * out_re[i+step] + sinf(MP_PI*i/n) * out_im[i+step];\n",
    "            twiddle_im = cosf(MP_PI*i/n) * out_im[i+step] - sinf(MP_PI*i/n) * out_re[i+step];\n",
    "//            buffer[i/2] = out[i] + twiddle * out[i+step];\n",
    "            re[i/2] = out_re[i] + twiddle_re * out_re[i+step] - twiddle_im * out_im[i+step];\n",
    "            im[i/2] = out_im[i] + twiddle_re * out_im[i+step] - twiddle_im * out_re[i+step];\n",
    "            buffer[(i+n)/2] = out[i] - twiddle * out[i+step];\n",
    "            re[(i+n)/2] = out_re[i] - twiddle_re * out_re[i+step] + twiddle_im * out_im[i+step];\n",
    "            im[(i+n)/2] = out_im[i] - twiddle_re * out_im[i+step] - twiddle_im * out_re[i+step];\n",
    "        }\n",
    "    }\n",
    "}\n",
    "\n",
    "mp_obj_t fft_fft(mp_obj_t real, mp_obj_t imag) {\n",
    "    // TODO: return the absolute value, if keyword argument is specified\n",
    "    // TODO: let go of the complex type, for the assignment of values is through reals and imags, anyway\n",
    "    // Check if input is of length of power of 2\n",
    "    mp_obj_array_t *re = MP_OBJ_TO_PTR(real);\n",
    "    if ((re->len & (re->len-1)) != 0) {\n",
    "        mp_raise_ValueError(\"input array length must be power of 2\");\n",
    "    }\n",
    "    mp_obj_array_t *im = MP_OBJ_TO_PTR(imag);\n",
    "    if (re->len != im->len) {\n",
    "        mp_raise_ValueError(\"real and imaginary parts must be of equal length\");\n",
    "    }\n",
    "\n",
    "    complex_t *buffer, *out;\n",
    "    buffer = (complex_t *)malloc(sizeof(complex_t)*re->len);\n",
    "    out = (complex_t *)malloc(sizeof(complex_t)*re->len);\n",
    "    size_t i=0;\n",
    "\n",
    "    if(MP_OBJ_IS_TYPE(re, &ulab_ndarray_type) && MP_OBJ_IS_TYPE(im, &ulab_ndarray_type)) {\n",
    "        ndarray_obj_t *_re = MP_OBJ_TO_PTR(real);\n",
    "        ndarray_obj_t *_im = MP_OBJ_TO_PTR(imag);\n",
    "        for(size_t j=0; j < re->len; j++) {\n",
    "            buffer[i] = out[i] = ndarray_get_float_value(_re->data->items, _re->data->typecode, j) + \n",
    "            I*ndarray_get_float_value(_im->data->items, _im->data->typecode, j);\n",
    "        }\n",
    "    } else {\n",
    "        mp_obj_iter_buf_t re_buf;\n",
    "        mp_obj_t re_item, re_iterable = mp_getiter(real, &re_buf);\n",
    "\n",
    "        mp_obj_iter_buf_t im_buf;\n",
    "        mp_obj_t im_item, im_iterable = mp_getiter(imag, &im_buf);\n",
    "\n",
    "        while ((re_item = mp_iternext(re_iterable)) != MP_OBJ_STOP_ITERATION) {\n",
    "            im_item = mp_iternext(im_iterable);\n",
    "            buffer[i] = out[i] = mp_obj_get_float(re_item) + I*mp_obj_get_float(im_item);\n",
    "            i++;\n",
    "        }\n",
    "    }\n",
    "    fft_kernel(buffer, out, re->len, 1);\n",
    "\n",
    "    complex_t z;\n",
    "    if(1) {\n",
    "        ndarray_obj_t *re_out = create_new_ndarray(1, re->len, NDARRAY_FLOAT);\n",
    "        ndarray_obj_t *im_out = create_new_ndarray(1, im->len, NDARRAY_FLOAT);\n",
    "        float *_re_out = (float *)re_out->data->items;\n",
    "        float *_im_out = (float *)im_out->data->items;        \n",
    "        for(i=0; i<re->len; i++) {\n",
    "            z = buffer[i];\n",
    "            _re_out[i] = creal(z);\n",
    "            _im_out[i] = cimag(z);\n",
    "        }\n",
    "        free(buffer);\n",
    "        mp_obj_t tuple[2];\n",
    "        tuple[0] = re_out;\n",
    "        tuple[1] = im_out;\n",
    "        return mp_obj_new_tuple(2, tuple);\n",
    "    } \n",
    "}"
   ]
  },
  {
   "cell_type": "markdown",
   "metadata": {},
   "source": [
    "# Numerical\n",
    "\n",
    "## General comments\n",
    "\n",
    "This section contains miscellaneous functions that did not fit in the other submodules. These include `linspace`, `logspace`, `min/max`, `argmin/argmax`, `sum`, `mean`, `std`, and `clip`. These latter functions work with iterables, or ndarrays. When the ndarray is two-dimensional, an `axis` keyword can be supplied, in which case, the function returns a vector, otherwise a scalar.\n",
    "\n",
    "Since the return values of `mean`, and `std` are most probably floats, these functions return ndarrays of type float, while `min/max` and `clip` do not change the type, and `argmin/argmax` return `uint8`, if the values are smaller than 255, otherwise, `uint16`."
   ]
  },
  {
   "cell_type": "markdown",
   "metadata": {},
   "source": [
    "## Examples"
   ]
  },
  {
   "cell_type": "code",
   "execution_count": 249,
   "metadata": {
    "ExecuteTime": {
     "end_time": "2019-08-08T05:24:24.356757Z",
     "start_time": "2019-08-08T05:24:24.335597Z"
    }
   },
   "outputs": [
    {
     "name": "stdout",
     "output_type": "stream",
     "text": [
      "ndarray([0.0, 1.0, 2.0, ..., 8.0, 9.0, 10.0])\n",
      "\n",
      "6.0\n",
      "\n",
      "\n"
     ]
    }
   ],
   "source": [
    "%%micropython\n",
    "\n",
    "import ulab\n",
    "\n",
    "print(ulab.linspace(0, 10, 11))\n",
    "print(ulab.sum([1, 2, 3]))"
   ]
  },
  {
   "cell_type": "markdown",
   "metadata": {},
   "source": [
    "## numerical.h"
   ]
  },
  {
   "cell_type": "code",
   "execution_count": 16,
   "metadata": {
    "ExecuteTime": {
     "end_time": "2019-09-02T15:06:06.701056Z",
     "start_time": "2019-09-02T15:06:06.679517Z"
    }
   },
   "outputs": [
    {
     "name": "stdout",
     "output_type": "stream",
     "text": [
      "written 825 bytes to numerical.h\n"
     ]
    }
   ],
   "source": [
    "%%ccode numerical.h\n",
    "\n",
    "#ifndef _NUMERICAL_\n",
    "#define _NUMERICAL_\n",
    "\n",
    "#include \"ndarray.h\"\n",
    "\n",
    "mp_obj_t numerical_linspace(mp_obj_t , mp_obj_t , mp_obj_t );\n",
    "mp_obj_t numerical_sum(size_t , const mp_obj_t *, mp_map_t *);\n",
    "mp_obj_t numerical_mean(size_t , const mp_obj_t *, mp_map_t *);\n",
    "mp_obj_t numerical_std(size_t , const mp_obj_t *, mp_map_t *);\n",
    "mp_obj_t numerical_min(size_t , const mp_obj_t *, mp_map_t *);\n",
    "mp_obj_t numerical_max(size_t , const mp_obj_t *, mp_map_t *);\n",
    "mp_obj_t numerical_argmin(size_t , const mp_obj_t *, mp_map_t *);\n",
    "mp_obj_t numerical_argmax(size_t , const mp_obj_t *, mp_map_t *);\n",
    "mp_obj_t numerical_roll(size_t , const mp_obj_t *, mp_map_t *);\n",
    "\n",
    "#endif"
   ]
  },
  {
   "cell_type": "markdown",
   "metadata": {},
   "source": [
    "## numerical.c\n",
    "\n",
    "### Parsing of arguments\n",
    "\n",
    "Since most of these functions operate on matrices along an axis, it might make sense to factor out the parsing of arguments and keyword arguments. The void function `numerical_parse_args` fills in the pointer for the matrix/array, and the axis."
   ]
  },
  {
   "cell_type": "code",
   "execution_count": 694,
   "metadata": {
    "ExecuteTime": {
     "end_time": "2019-08-11T15:02:29.634941Z",
     "start_time": "2019-08-11T15:02:29.624896Z"
    }
   },
   "outputs": [
    {
     "name": "stdout",
     "output_type": "stream",
     "text": [
      "written 12166 bytes to numerical.c\n"
     ]
    }
   ],
   "source": [
    "%%ccode numerical.c\n",
    "\n",
    "#include <math.h>\n",
    "#include \"py/obj.h\"\n",
    "#include \"py/runtime.h\"\n",
    "#include \"py/builtin.h\"\n",
    "#include \"numerical.h\"\n",
    "\n",
    "enum NUMERICAL_FUNCTION_TYPE {\n",
    "    NUMERICAL_MIN,\n",
    "    NUMERICAL_MAX,\n",
    "    NUMERICAL_ARGMIN,\n",
    "    NUMERICAL_ARGMAX,\n",
    "    NUMERICAL_SUM,\n",
    "    NUMERICAL_MEAN,\n",
    "    NUMERICAL_STD,\n",
    "    NUMERICAL_ROLL,\n",
    "};\n",
    "\n",
    "mp_obj_t numerical_linspace(mp_obj_t _start, mp_obj_t _stop, mp_obj_t _len) {\n",
    "    // TODO: accept keyword argument endpoint=True\n",
    "    mp_int_t len = mp_obj_get_int_truncated(_len);\n",
    "    if(len < 2) {\n",
    "        mp_raise_ValueError(\"number of points must be at least 2\");\n",
    "    }\n",
    "    mp_float_t value, step;\n",
    "    value = mp_obj_get_float(_start);\n",
    "    step = (mp_obj_get_float(_stop)-value)/(len-1);\n",
    "    ndarray_obj_t *nd_array = create_new_ndarray(1, len, NDARRAY_FLOAT);\n",
    "    for(size_t i=0; i < len; i++, value += step) {\n",
    "        mp_binary_set_val_array('f', nd_array->data->items, i, mp_obj_new_float(value));\n",
    "    }\n",
    "    return MP_OBJ_FROM_PTR(nd_array);\n",
    "}\n",
    "\n",
    "mp_obj_t numerical_sum_mean_std_array(mp_obj_t oin, uint8_t optype) {\n",
    "    mp_float_t value, sum = 0.0, sq_sum = 0.0;\n",
    "    mp_obj_iter_buf_t iter_buf;\n",
    "    mp_obj_t item, iterable = mp_getiter(oin, &iter_buf);\n",
    "    mp_int_t len = mp_obj_get_int(mp_obj_len(oin));\n",
    "    while ((item = mp_iternext(iterable)) != MP_OBJ_STOP_ITERATION) {\n",
    "        value = mp_obj_get_float(item);\n",
    "        sum += value;\n",
    "        if(optype == NUMERICAL_STD) {\n",
    "            sq_sum += value*value;\n",
    "        }\n",
    "    }\n",
    "    if(optype ==  NUMERICAL_SUM) {\n",
    "        return mp_obj_new_float(sum);\n",
    "    } else if(optype == NUMERICAL_MEAN) {\n",
    "        return mp_obj_new_float(sum/len);\n",
    "    } else {\n",
    "        sum /= len; // this is now the mean!\n",
    "        return mp_obj_new_float(sqrtf((sq_sum/len-sum*sum)));\n",
    "    }\n",
    "}\n",
    "\n",
    "STATIC mp_obj_t numerical_argmin_argmax_array(mp_obj_t o_in, mp_uint_t op, uint8_t type) {\n",
    "    size_t idx = 0, best_idx = 0;\n",
    "    mp_obj_iter_buf_t iter_buf;\n",
    "    mp_obj_t iterable = mp_getiter(o_in, &iter_buf);\n",
    "    mp_obj_t best_obj = MP_OBJ_NULL;\n",
    "    mp_obj_t item;\n",
    "    while ((item = mp_iternext(iterable)) != MP_OBJ_STOP_ITERATION) {\n",
    "        if ((best_obj == MP_OBJ_NULL) || (mp_binary_op(op, item, best_obj) == mp_const_true)) {\n",
    "            best_obj = item;\n",
    "            best_idx = idx;\n",
    "        }\n",
    "        idx++;\n",
    "    }\n",
    "    if((type == NUMERICAL_ARGMIN) || (type == NUMERICAL_ARGMAX)) {\n",
    "        return MP_OBJ_NEW_SMALL_INT(best_idx);\n",
    "    } else {\n",
    "        return best_obj;\n",
    "    }\n",
    "}\n",
    "\n",
    "STATIC size_t numerical_argmin_argmax_single_line(void *data, size_t start, size_t stop, \n",
    "                                                  size_t stride, uint8_t typecode, uint8_t optype) {\n",
    "    size_t best_idx = start;\n",
    "    mp_float_t value, best_value = ndarray_get_float_value(data, typecode, start);\n",
    "    \n",
    "    for(size_t i=start; i < stop; i+=stride) {\n",
    "        value = ndarray_get_float_value(data, typecode, i);\n",
    "        if((optype == NUMERICAL_MIN) || (optype == NUMERICAL_ARGMIN)) {\n",
    "            if(best_value > value) {\n",
    "                best_value = value;\n",
    "                best_idx = i;\n",
    "            }\n",
    "        } else if((optype == NUMERICAL_MAX) || (optype == NUMERICAL_ARGMAX)) {\n",
    "            if(best_value < value) {\n",
    "                best_value = value;\n",
    "                best_idx = i;\n",
    "            }\n",
    "        }\n",
    "    }\n",
    "    return best_idx;\n",
    "}\n",
    "\n",
    "STATIC mp_obj_t numerical_argmin_argmax_matrix(mp_obj_t oin, mp_obj_t axis, uint8_t optype) {\n",
    "    ndarray_obj_t *in = MP_OBJ_TO_PTR(oin);\n",
    "    size_t best_idx;\n",
    "    if((axis == mp_const_none) || (in->m == 1) || (in->n == 1)) { \n",
    "        // return the value for the flattened array\n",
    "        best_idx = numerical_argmin_argmax_single_line(in->data->items, 0, \n",
    "                                                      in->data->len, 1, in->data->typecode, optype);\n",
    "        if((optype == NUMERICAL_ARGMIN) || (optype == NUMERICAL_ARGMAX)) {\n",
    "            return MP_OBJ_NEW_SMALL_INT(best_idx);\n",
    "        } else {\n",
    "            // TODO: do we have to do type conversion here, depending on the type of the input array?\n",
    "            return mp_obj_new_float(ndarray_get_float_value(in->data->items, in->data->typecode, best_idx));\n",
    "        }\n",
    "    } else {\n",
    "        uint8_t _axis = mp_obj_get_int(axis);\n",
    "        size_t m = (_axis == 0) ? 1 : in->m;\n",
    "        size_t n = (_axis == 0) ? in->n : 1;\n",
    "        size_t len = in->data->len;\n",
    "        // TODO: pass in->data->typcode to create_new_ndarray\n",
    "        ndarray_obj_t *out = create_new_ndarray(m, n, NDARRAY_FLOAT);\n",
    "\n",
    "        // TODO: these two cases could probably be combined in a more elegant fashion...\n",
    "        if(_axis == 0) { // vertical\n",
    "            for(size_t i=0; i < n; i++) {\n",
    "                best_idx = numerical_argmin_argmax_single_line(in->data->items, i, len, \n",
    "                                                               n, in->data->typecode, optype);\n",
    "                if((optype == NUMERICAL_ARGMIN) || (optype == NUMERICAL_ARGMAX)) {\n",
    "                    ((float_t *)out->data->items)[i] = (float)best_idx;\n",
    "                } else {\n",
    "                    ((float_t *)out->data->items)[i] = ndarray_get_float_value(in->data->items, in->data->typecode, best_idx);\n",
    "                }\n",
    "            }\n",
    "        } else { // horizontal\n",
    "            for(size_t i=0; i < m; i++) {\n",
    "                best_idx = numerical_argmin_argmax_single_line(in->data->items, i*in->n, \n",
    "                                                               (i+1)*in->n, 1, in->data->typecode, optype);\n",
    "                if((optype == NUMERICAL_ARGMIN) || (optype == NUMERICAL_ARGMAX)) {\n",
    "                    ((float_t *)out->data->items)[i] = (float)best_idx;\n",
    "                } else {\n",
    "                    ((float_t *)out->data->items)[i] = ndarray_get_float_value(in->data->items, in->data->typecode, best_idx);\n",
    "                }\n",
    "\n",
    "            }\n",
    "        }\n",
    "    return MP_OBJ_FROM_PTR(out);\n",
    "    }\n",
    "    return mp_const_none;\n",
    "}\n",
    "\n",
    "STATIC mp_float_t numerical_sum_mean_std_single_line(void *data, size_t start, size_t stop, \n",
    "                                                  size_t stride, uint8_t typecode, uint8_t optype) {\n",
    "    \n",
    "    mp_float_t sum = 0.0, sq_sum = 0.0, value;\n",
    "    size_t len = 0;\n",
    "    for(size_t i=start; i < stop; i+=stride, len++) {\n",
    "        value = ndarray_get_float_value(data, typecode, i);        \n",
    "        sum += value;\n",
    "        if(optype == NUMERICAL_STD) {\n",
    "            sq_sum += value*value;\n",
    "        }\n",
    "    }\n",
    "    if(len == 0) {\n",
    "        mp_raise_ValueError(\"data length is 0!\");\n",
    "    }\n",
    "    if(optype ==  NUMERICAL_SUM) {\n",
    "        return sum;\n",
    "    } else if(optype == NUMERICAL_MEAN) {\n",
    "        return sum/len;\n",
    "    } else {\n",
    "        sum /= len; // this is now the mean!\n",
    "        return sqrtf((sq_sum/len-sum*sum));\n",
    "    }\n",
    "}\n",
    "\n",
    "STATIC mp_obj_t numerical_sum_mean_std_matrix(mp_obj_t oin, mp_obj_t axis, uint8_t optype) {\n",
    "    ndarray_obj_t *in = MP_OBJ_TO_PTR(oin);\n",
    "    if((axis == mp_const_none) || (in->m == 1) || (in->n == 1)) { \n",
    "        // return the value for the flattened array\n",
    "        return mp_obj_new_float(numerical_sum_mean_std_single_line(in->data->items, 0, \n",
    "                                                      in->data->len, 1, in->data->typecode, optype));\n",
    "    } else {\n",
    "        uint8_t _axis = mp_obj_get_int(axis);\n",
    "        size_t m = (_axis == 0) ? 1 : in->m;\n",
    "        size_t n = (_axis == 0) ? in->n : 1;\n",
    "        size_t len = in->data->len;\n",
    "        mp_float_t sms;\n",
    "        // TODO: pass in->data->typcode to create_new_ndarray\n",
    "        ndarray_obj_t *out = create_new_ndarray(m, n, NDARRAY_FLOAT);\n",
    "\n",
    "        // TODO: these two cases could probably be combined in a more elegant fashion...\n",
    "        if(_axis == 0) { // vertical\n",
    "            for(size_t i=0; i < n; i++) {\n",
    "                sms = numerical_sum_mean_std_single_line(in->data->items, i, len, \n",
    "                                                               n, in->data->typecode, optype);\n",
    "                ((float_t *)out->data->items)[i] = sms;\n",
    "            }\n",
    "        } else { // horizontal\n",
    "            for(size_t i=0; i < m; i++) {\n",
    "                sms = numerical_sum_mean_std_single_line(in->data->items, i*in->n, \n",
    "                                                               (i+1)*in->n, 1, in->data->typecode, optype);\n",
    "                ((float_t *)out->data->items)[i] = sms;\n",
    "            }\n",
    "        }\n",
    "    return MP_OBJ_FROM_PTR(out);\n",
    "    }\n",
    "}\n",
    "\n",
    "STATIC mp_obj_t numerical_function(size_t n_args, const mp_obj_t *pos_args, mp_map_t *kw_args, uint8_t type) {\n",
    "    static const mp_arg_t allowed_args[] = {\n",
    "        { MP_QSTR_oin, MP_ARG_REQUIRED | MP_ARG_OBJ, {.u_rom_obj = MP_ROM_PTR(&mp_const_none_obj)} } ,\n",
    "        { MP_QSTR_axis, MP_ARG_KW_ONLY | MP_ARG_OBJ, {.u_rom_obj = MP_ROM_PTR(&mp_const_none_obj)} },\n",
    "    };\n",
    "\n",
    "    mp_arg_val_t args[MP_ARRAY_SIZE(allowed_args)];\n",
    "    mp_arg_parse_all(1, pos_args, kw_args, MP_ARRAY_SIZE(allowed_args), allowed_args, args);\n",
    "    \n",
    "    mp_obj_t oin = args[0].u_obj;\n",
    "    mp_obj_t axis = args[1].u_obj;\n",
    "    if((axis != mp_const_none) && (mp_obj_get_int(axis) != 0) && (mp_obj_get_int(axis) != 1)) {\n",
    "        // this seems to pass with False, and True...\n",
    "        mp_raise_ValueError(\"axis must be None, 0, or 1\");\n",
    "    }\n",
    "    \n",
    "    if(MP_OBJ_IS_TYPE(oin, &mp_type_tuple) || MP_OBJ_IS_TYPE(oin, &mp_type_list) || \n",
    "        MP_OBJ_IS_TYPE(oin, &mp_type_range)) {\n",
    "        switch(type) {\n",
    "            case NUMERICAL_MIN:\n",
    "            case NUMERICAL_ARGMIN:\n",
    "                return numerical_argmin_argmax_array(oin, MP_BINARY_OP_LESS, type);\n",
    "            case NUMERICAL_MAX:\n",
    "            case NUMERICAL_ARGMAX:\n",
    "                return numerical_argmin_argmax_array(oin, MP_BINARY_OP_MORE, type);\n",
    "            case NUMERICAL_SUM:\n",
    "            case NUMERICAL_MEAN:\n",
    "            case NUMERICAL_STD:\n",
    "                return numerical_sum_mean_std_array(oin, type);\n",
    "            default: // we should never reach this point, but whatever\n",
    "                return mp_const_none;\n",
    "        }\n",
    "    } else if(MP_OBJ_IS_TYPE(oin, &ulab_ndarray_type)) {\n",
    "        switch(type) {\n",
    "            case NUMERICAL_MIN:\n",
    "            case NUMERICAL_MAX:\n",
    "            case NUMERICAL_ARGMIN:\n",
    "            case NUMERICAL_ARGMAX:\n",
    "                return numerical_argmin_argmax_matrix(oin, axis, type);\n",
    "            case NUMERICAL_SUM:\n",
    "            case NUMERICAL_MEAN:\n",
    "            case NUMERICAL_STD:\n",
    "                return numerical_sum_mean_std_matrix(oin, axis, type);            \n",
    "            default:\n",
    "                mp_raise_NotImplementedError(\"operation is not implemented on ndarrays\");\n",
    "        }\n",
    "    } else {\n",
    "        mp_raise_TypeError(\"input must be tuple, list, range, or ndarray\");\n",
    "    }\n",
    "    return mp_const_none;\n",
    "}\n",
    "\n",
    "mp_obj_t numerical_min(size_t n_args, const mp_obj_t *pos_args, mp_map_t *kw_args) {\n",
    "    return numerical_function(n_args, pos_args, kw_args, NUMERICAL_MIN);\n",
    "}\n",
    "\n",
    "mp_obj_t numerical_max(size_t n_args, const mp_obj_t *pos_args, mp_map_t *kw_args) {\n",
    "    return numerical_function(n_args, pos_args, kw_args, NUMERICAL_MAX);\n",
    "}\n",
    "\n",
    "mp_obj_t numerical_argmin(size_t n_args, const mp_obj_t *pos_args, mp_map_t *kw_args) {\n",
    "    return numerical_function(n_args, pos_args, kw_args, NUMERICAL_ARGMIN);\n",
    "}\n",
    "\n",
    "mp_obj_t numerical_argmax(size_t n_args, const mp_obj_t *pos_args, mp_map_t *kw_args) {\n",
    "    return numerical_function(n_args, pos_args, kw_args, NUMERICAL_ARGMAX);\n",
    "}\n",
    "\n",
    "mp_obj_t numerical_sum(size_t n_args, const mp_obj_t *pos_args, mp_map_t *kw_args) {\n",
    "    return numerical_function(n_args, pos_args, kw_args, NUMERICAL_SUM);\n",
    "}\n",
    "\n",
    "mp_obj_t numerical_mean(size_t n_args, const mp_obj_t *pos_args, mp_map_t *kw_args) {\n",
    "    return numerical_function(n_args, pos_args, kw_args, NUMERICAL_MEAN);\n",
    "}\n",
    "\n",
    "mp_obj_t numerical_std(size_t n_args, const mp_obj_t *pos_args, mp_map_t *kw_args) {\n",
    "    return numerical_function(n_args, pos_args, kw_args, NUMERICAL_STD);\n",
    "}"
   ]
  },
  {
   "cell_type": "markdown",
   "metadata": {},
   "source": [
    "# ulab module\n",
    "\n",
    "This module simply brings all components together, and does not contain new function definitions."
   ]
  },
  {
   "cell_type": "markdown",
   "metadata": {},
   "source": [
    "## ulab.c"
   ]
  },
  {
   "cell_type": "code",
   "execution_count": 825,
   "metadata": {
    "ExecuteTime": {
     "end_time": "2019-08-13T16:06:32.160834Z",
     "start_time": "2019-08-13T16:06:32.154580Z"
    }
   },
   "outputs": [
    {
     "name": "stdout",
     "output_type": "stream",
     "text": [
      "written 7323 bytes to ulab.c\n"
     ]
    }
   ],
   "source": [
    "%%ccode ulab.c\n",
    "\n",
    "#include <math.h>\n",
    "#include <stdio.h>\n",
    "#include <stdlib.h>\n",
    "#include <string.h>\n",
    "#include \"py/runtime.h\"\n",
    "#include \"py/binary.h\"\n",
    "#include \"py/obj.h\"\n",
    "#include \"py/objarray.h\" // this can in the future be dropped\n",
    "\n",
    "#include \"ndarray.h\"\n",
    "#include \"linalg.h\"\n",
    "#include \"vectorise.h\"\n",
    "#include \"poly.h\"\n",
    "#include \"fft.h\"\n",
    "#include \"numerical.h\"\n",
    "\n",
    "#define ULAB__VERSION 1.0\n",
    "\n",
    "MP_DEFINE_CONST_FUN_OBJ_1(ndarray_shape_obj, ndarray_shape);\n",
    "MP_DEFINE_CONST_FUN_OBJ_2(ndarray_size_obj, ndarray_size);\n",
    "MP_DEFINE_CONST_FUN_OBJ_1(ndarray_rawsize_obj, ndarray_rawsize);\n",
    "\n",
    "MP_DEFINE_CONST_FUN_OBJ_1(linalg_transpose_obj, linalg_transpose);\n",
    "MP_DEFINE_CONST_FUN_OBJ_2(linalg_reshape_obj, linalg_reshape);\n",
    "MP_DEFINE_CONST_FUN_OBJ_1(linalg_inv_obj, linalg_inv);\n",
    "\n",
    "MP_DEFINE_CONST_FUN_OBJ_1(vectorise_acos_obj, vectorise_acos);\n",
    "MP_DEFINE_CONST_FUN_OBJ_1(vectorise_acosh_obj, vectorise_acosh);\n",
    "MP_DEFINE_CONST_FUN_OBJ_1(vectorise_asin_obj, vectorise_asin);\n",
    "MP_DEFINE_CONST_FUN_OBJ_1(vectorise_asinh_obj, vectorise_asinh);\n",
    "MP_DEFINE_CONST_FUN_OBJ_1(vectorise_atan_obj, vectorise_atan);\n",
    "MP_DEFINE_CONST_FUN_OBJ_1(vectorise_atanh_obj, vectorise_atanh);\n",
    "MP_DEFINE_CONST_FUN_OBJ_1(vectorise_ceil_obj, vectorise_ceil);\n",
    "MP_DEFINE_CONST_FUN_OBJ_1(vectorise_cos_obj, vectorise_cos);\n",
    "MP_DEFINE_CONST_FUN_OBJ_1(vectorise_erf_obj, vectorise_erf);\n",
    "MP_DEFINE_CONST_FUN_OBJ_1(vectorise_erfc_obj, vectorise_erfc);\n",
    "MP_DEFINE_CONST_FUN_OBJ_1(vectorise_exp_obj, vectorise_exp);\n",
    "MP_DEFINE_CONST_FUN_OBJ_1(vectorise_expm1_obj, vectorise_expm1);\n",
    "MP_DEFINE_CONST_FUN_OBJ_1(vectorise_floor_obj, vectorise_floor);\n",
    "MP_DEFINE_CONST_FUN_OBJ_1(vectorise_gamma_obj, vectorise_gamma);\n",
    "MP_DEFINE_CONST_FUN_OBJ_1(vectorise_lgamma_obj, vectorise_lgamma);\n",
    "MP_DEFINE_CONST_FUN_OBJ_1(vectorise_log_obj, vectorise_log);\n",
    "MP_DEFINE_CONST_FUN_OBJ_1(vectorise_log10_obj, vectorise_log10);\n",
    "MP_DEFINE_CONST_FUN_OBJ_1(vectorise_log2_obj, vectorise_log2);\n",
    "MP_DEFINE_CONST_FUN_OBJ_1(vectorise_sin_obj, vectorise_sin);\n",
    "MP_DEFINE_CONST_FUN_OBJ_1(vectorise_sinh_obj, vectorise_sinh);\n",
    "MP_DEFINE_CONST_FUN_OBJ_1(vectorise_sqrt_obj, vectorise_sqrt);\n",
    "MP_DEFINE_CONST_FUN_OBJ_1(vectorise_tan_obj, vectorise_tan);\n",
    "MP_DEFINE_CONST_FUN_OBJ_1(vectorise_tanh_obj, vectorise_tanh);\n",
    "\n",
    "MP_DEFINE_CONST_FUN_OBJ_3(numerical_linspace_obj, numerical_linspace);\n",
    "STATIC MP_DEFINE_CONST_FUN_OBJ_KW(numerical_sum_obj, 1, numerical_sum);\n",
    "STATIC MP_DEFINE_CONST_FUN_OBJ_KW(numerical_mean_obj, 1, numerical_mean);\n",
    "STATIC MP_DEFINE_CONST_FUN_OBJ_KW(numerical_std_obj, 1, numerical_std);\n",
    "STATIC MP_DEFINE_CONST_FUN_OBJ_KW(numerical_min_obj, 1, numerical_min);\n",
    "STATIC MP_DEFINE_CONST_FUN_OBJ_KW(numerical_max_obj, 1, numerical_max);\n",
    "STATIC MP_DEFINE_CONST_FUN_OBJ_KW(numerical_argmin_obj, 1, numerical_argmin);\n",
    "STATIC MP_DEFINE_CONST_FUN_OBJ_KW(numerical_argmax_obj, 1, numerical_argmax);\n",
    "\n",
    "STATIC MP_DEFINE_CONST_FUN_OBJ_2(poly_polyval_obj, poly_polyval);\n",
    "STATIC MP_DEFINE_CONST_FUN_OBJ_2(fft_fft_obj, fft_fft);\n",
    "\n",
    "STATIC const mp_rom_map_elem_t ulab_ndarray_locals_dict_table[] = {\n",
    "    { MP_ROM_QSTR(MP_QSTR_shape), MP_ROM_PTR(&ndarray_shape_obj) },\n",
    "    { MP_ROM_QSTR(MP_QSTR_size), MP_ROM_PTR(&ndarray_size_obj) },\n",
    "    { MP_ROM_QSTR(MP_QSTR_rawsize), MP_ROM_PTR(&ndarray_rawsize_obj) },\n",
    "    { MP_ROM_QSTR(MP_QSTR_transpose), MP_ROM_PTR(&linalg_transpose_obj) },\n",
    "    { MP_ROM_QSTR(MP_QSTR_reshape), MP_ROM_PTR(&linalg_reshape_obj) },\n",
    "//    { MP_ROM_QSTR(MP_QSTR_get), MP_ROM_PTR(&ulab_ndarray_get_obj) },\n",
    "//    { MP_ROM_QSTR(MP_QSTR_dot), MP_ROM_PTR(&ulab_ndarray_dot_obj) },    \n",
    "    // class constants\n",
    "    { MP_ROM_QSTR(MP_QSTR_uint8), MP_ROM_INT(NDARRAY_UINT8) },\n",
    "    { MP_ROM_QSTR(MP_QSTR_int8), MP_ROM_INT(NDARRAY_INT8) },\n",
    "    { MP_ROM_QSTR(MP_QSTR_uint16), MP_ROM_INT(NDARRAY_UINT16) },\n",
    "    { MP_ROM_QSTR(MP_QSTR_int16), MP_ROM_INT(NDARRAY_INT16) },\n",
    "    { MP_ROM_QSTR(MP_QSTR_float), MP_ROM_INT(NDARRAY_FLOAT) },\n",
    "};\n",
    "\n",
    "STATIC MP_DEFINE_CONST_DICT(ulab_ndarray_locals_dict, ulab_ndarray_locals_dict_table);\n",
    "\n",
    "const mp_obj_type_t ulab_ndarray_type = {\n",
    "    { &mp_type_type },\n",
    "    .name = MP_QSTR_ndarray,\n",
    "    .print = ndarray_print,\n",
    "    .make_new = ndarray_make_new,\n",
    "    .subscr = ndarray_subscr,\n",
    "    .getiter = ndarray_getiter,\n",
    "//    .unary_op = ndarray_unary_op,\n",
    "//    .binary_op = ndarray_binary_op,\n",
    "    .locals_dict = (mp_obj_dict_t*)&ulab_ndarray_locals_dict,\n",
    "};\n",
    "\n",
    "STATIC const mp_map_elem_t ulab_globals_table[] = {\n",
    "    { MP_OBJ_NEW_QSTR(MP_QSTR___name__), MP_OBJ_NEW_QSTR(MP_QSTR_ulab) },\n",
    "    { MP_OBJ_NEW_QSTR(MP_QSTR_ndarray), (mp_obj_t)&ulab_ndarray_type },\n",
    "    { MP_OBJ_NEW_QSTR(MP_QSTR_inv), (mp_obj_t)&linalg_inv_obj },\n",
    "    { MP_OBJ_NEW_QSTR(MP_QSTR_acos), (mp_obj_t)&vectorise_acos_obj },\n",
    "    { MP_OBJ_NEW_QSTR(MP_QSTR_acosh), (mp_obj_t)&vectorise_acosh_obj },\n",
    "    { MP_OBJ_NEW_QSTR(MP_QSTR_asin), (mp_obj_t)&vectorise_asin_obj },\n",
    "    { MP_OBJ_NEW_QSTR(MP_QSTR_asinh), (mp_obj_t)&vectorise_asinh_obj },\n",
    "    { MP_OBJ_NEW_QSTR(MP_QSTR_atan), (mp_obj_t)&vectorise_atan_obj },\n",
    "    { MP_OBJ_NEW_QSTR(MP_QSTR_atanh), (mp_obj_t)&vectorise_atanh_obj },\n",
    "    { MP_OBJ_NEW_QSTR(MP_QSTR_ceil), (mp_obj_t)&vectorise_ceil_obj },\n",
    "    { MP_OBJ_NEW_QSTR(MP_QSTR_cos), (mp_obj_t)&vectorise_cos_obj },\n",
    "    { MP_OBJ_NEW_QSTR(MP_QSTR_erf), (mp_obj_t)&vectorise_erf_obj },\n",
    "    { MP_OBJ_NEW_QSTR(MP_QSTR_erfc), (mp_obj_t)&vectorise_erfc_obj },\n",
    "    { MP_OBJ_NEW_QSTR(MP_QSTR_exp), (mp_obj_t)&vectorise_exp_obj },\n",
    "    { MP_OBJ_NEW_QSTR(MP_QSTR_expm1), (mp_obj_t)&vectorise_expm1_obj },\n",
    "    { MP_OBJ_NEW_QSTR(MP_QSTR_floor), (mp_obj_t)&vectorise_floor_obj },\n",
    "    { MP_OBJ_NEW_QSTR(MP_QSTR_gamma), (mp_obj_t)&vectorise_gamma_obj },\n",
    "    { MP_OBJ_NEW_QSTR(MP_QSTR_lgamma), (mp_obj_t)&vectorise_lgamma_obj },\n",
    "    { MP_OBJ_NEW_QSTR(MP_QSTR_log), (mp_obj_t)&vectorise_log_obj },\n",
    "    { MP_OBJ_NEW_QSTR(MP_QSTR_log10), (mp_obj_t)&vectorise_log10_obj },\n",
    "    { MP_OBJ_NEW_QSTR(MP_QSTR_log2), (mp_obj_t)&vectorise_log2_obj },\n",
    "    { MP_OBJ_NEW_QSTR(MP_QSTR_sin), (mp_obj_t)&vectorise_sin_obj },\n",
    "    { MP_OBJ_NEW_QSTR(MP_QSTR_sinh), (mp_obj_t)&vectorise_sinh_obj },\n",
    "    { MP_OBJ_NEW_QSTR(MP_QSTR_sqrt), (mp_obj_t)&vectorise_sqrt_obj },\n",
    "    { MP_OBJ_NEW_QSTR(MP_QSTR_tan), (mp_obj_t)&vectorise_tan_obj },\n",
    "    { MP_OBJ_NEW_QSTR(MP_QSTR_tanh), (mp_obj_t)&vectorise_tanh_obj },\n",
    "    { MP_OBJ_NEW_QSTR(MP_QSTR_linspace), (mp_obj_t)&numerical_linspace_obj },\n",
    "    { MP_OBJ_NEW_QSTR(MP_QSTR_sum), (mp_obj_t)&numerical_sum_obj },\n",
    "    { MP_OBJ_NEW_QSTR(MP_QSTR_mean), (mp_obj_t)&numerical_mean_obj },\n",
    "    { MP_OBJ_NEW_QSTR(MP_QSTR_std), (mp_obj_t)&numerical_std_obj },\n",
    "    { MP_OBJ_NEW_QSTR(MP_QSTR_min), (mp_obj_t)&numerical_min_obj },\n",
    "    { MP_OBJ_NEW_QSTR(MP_QSTR_max), (mp_obj_t)&numerical_max_obj },\n",
    "    { MP_OBJ_NEW_QSTR(MP_QSTR_argmin), (mp_obj_t)&numerical_argmin_obj },\n",
    "    { MP_OBJ_NEW_QSTR(MP_QSTR_argmax), (mp_obj_t)&numerical_argmax_obj },\n",
    "    { MP_OBJ_NEW_QSTR(MP_QSTR_polyval), (mp_obj_t)&poly_polyval_obj },\n",
    "    { MP_OBJ_NEW_QSTR(MP_QSTR_fft), (mp_obj_t)&fft_fft_obj },\n",
    "};\n",
    "\n",
    "STATIC MP_DEFINE_CONST_DICT (\n",
    "    mp_module_ulab_globals,\n",
    "    ulab_globals_table\n",
    ");\n",
    "\n",
    "const mp_obj_module_t ulab_user_cmodule = {\n",
    "    .base = { &mp_type_module },\n",
    "    .globals = (mp_obj_dict_t*)&mp_module_ulab_globals,\n",
    "};\n",
    "\n",
    "\n",
    "MP_REGISTER_MODULE(MP_QSTR_ulab, ulab_user_cmodule, MODULE_ULAB_ENABLED);"
   ]
  },
  {
   "cell_type": "markdown",
   "metadata": {},
   "source": [
    "## makefile"
   ]
  },
  {
   "cell_type": "code",
   "execution_count": 805,
   "metadata": {
    "ExecuteTime": {
     "end_time": "2019-08-13T15:51:05.012025Z",
     "start_time": "2019-08-13T15:51:04.989587Z"
    }
   },
   "outputs": [
    {
     "name": "stdout",
     "output_type": "stream",
     "text": [
      "Overwriting ../../../usermod/ulab/micropython.mk\n"
     ]
    }
   ],
   "source": [
    "%%writefile ../../../usermod/ulab/micropython.mk\n",
    "\n",
    "USERMODULES_DIR := $(USERMOD_DIR)\n",
    "\n",
    "# Add all C files to SRC_USERMOD.\n",
    "SRC_USERMOD += $(USERMODULES_DIR)/ndarray.c\n",
    "SRC_USERMOD += $(USERMODULES_DIR)/linalg.c\n",
    "SRC_USERMOD += $(USERMODULES_DIR)/vectorise.c\n",
    "SRC_USERMOD += $(USERMODULES_DIR)/poly.c\n",
    "SRC_USERMOD += $(USERMODULES_DIR)/fft.c\n",
    "SRC_USERMOD += $(USERMODULES_DIR)/numerical.c\n",
    "SRC_USERMOD += $(USERMODULES_DIR)/ulab.c\n",
    "\n",
    "# We can add our module folder to include paths if needed\n",
    "# This is not actually needed in this example.\n",
    "CFLAGS_USERMOD += -I$(USERMODULES_DIR)"
   ]
  },
  {
   "cell_type": "markdown",
   "metadata": {},
   "source": [
    "## make"
   ]
  },
  {
   "cell_type": "code",
   "execution_count": 164,
   "metadata": {
    "ExecuteTime": {
     "end_time": "2019-09-06T18:22:29.908059Z",
     "start_time": "2019-09-06T18:22:20.573945Z"
    },
    "scrolled": false
   },
   "outputs": [
    {
     "name": "stdout",
     "output_type": "stream",
     "text": [
      "Use make V=1 or set BUILD_VERBOSE in your environment to increase build verbosity.\n",
      "Including User C Module from ../../../ulab/code\n",
      "GEN build/genhdr/moduledefs.h\n",
      "GEN build/genhdr/qstr.i.last\n",
      "GEN build/genhdr/qstr.split\n",
      "GEN build/genhdr/qstrdefs.collected.h\n",
      "QSTR not updated\n",
      "CC ../../py/objmodule.c\n",
      "CC ../../../ulab/code/ndarray.c\n",
      "LINK micropython\n",
      "   text\t   data\t    bss\t    dec\t    hex\tfilename\n",
      "   2085\t   6862\t      0\t   8947\t   22f3\tbuild/build/frozen_mpy.o\n",
      "      2\t      0\t      0\t      2\t      2\tbuild/build/frozen.o\n",
      " 455198\t  56992\t   2104\t 514294\t  7d8f6\tmicropython\n"
     ]
    }
   ],
   "source": [
    "!make USER_C_MODULES=../../../ulab all"
   ]
  },
  {
   "cell_type": "code",
   "execution_count": 66,
   "metadata": {
    "ExecuteTime": {
     "end_time": "2019-09-05T19:54:32.829236Z",
     "start_time": "2019-09-05T19:54:32.806484Z"
    }
   },
   "outputs": [
    {
     "name": "stdout",
     "output_type": "stream",
     "text": [
      "4.0\n",
      "ndarray([2.0, 3.0], dtype='float')\n",
      "\n",
      "\n",
      "\n"
     ]
    }
   ],
   "source": [
    "%%micropython\n",
    "\n",
    "import ulab\n",
    "\n",
    "a = ulab.ndarray([1, 2, 3, 4], dtype='float')\n",
    "print(ulab.max(a))\n",
    "print(a[1:3])"
   ]
  },
  {
   "cell_type": "code",
   "execution_count": 166,
   "metadata": {
    "ExecuteTime": {
     "end_time": "2019-09-06T18:22:47.413074Z",
     "start_time": "2019-09-06T18:22:47.395440Z"
    }
   },
   "outputs": [
    {
     "name": "stdout",
     "output_type": "stream",
     "text": [
      "ndarray([1, 2, 3, 4], dtype='uint8')\n",
      "\n",
      "ndarray([5, 6, 7, 8], dtype='uint8')\n",
      "\n",
      "ndarray([9, 10, 11, 12], dtype='uint8')\n",
      "\n",
      "\n",
      "\n"
     ]
    }
   ],
   "source": [
    "%%micropython\n",
    "\n",
    "import ulab\n",
    "\n",
    "a = ulab.ndarray([[1, 2, 3, 4], [5, 6, 7, 8], [9, 10, 11, 12]], dtype='uint8')\n",
    "\n",
    "for i in a:\n",
    "    print(i)"
   ]
  },
  {
   "cell_type": "code",
   "execution_count": 691,
   "metadata": {
    "ExecuteTime": {
     "end_time": "2019-08-11T15:01:45.449640Z",
     "start_time": "2019-08-11T15:01:45.427197Z"
    }
   },
   "outputs": [
    {
     "name": "stdout",
     "output_type": "stream",
     "text": [
      "11.0\n",
      "ndarray([2.0, 6.0])\n",
      "\n",
      "4.0\n",
      "24.0\n",
      "2.160246849060059\n",
      "\n",
      "\n"
     ]
    }
   ],
   "source": [
    "%%micropython\n",
    "\n",
    "import ulab\n",
    "a = ulab.ndarray([11, 2, 3, 4])\n",
    "print(ulab.max(a))\n",
    "# print(ulab.min([1, 2, 3, 4]))\n",
    "print(ulab.mean(ulab.ndarray([[1, 2, 3], [5, 6, 7]]), axis=1))\n",
    "print(ulab.mean(ulab.ndarray([[1, 2, 3], [5, 6, 7]])))\n",
    "print(ulab.sum(ulab.ndarray([[1, 2, 3], [5, 6, 7]])))\n",
    "print(ulab.std(ulab.ndarray([[1, 2, 3], [5, 6, 7]])))"
   ]
  },
  {
   "cell_type": "code",
   "execution_count": 692,
   "metadata": {
    "ExecuteTime": {
     "end_time": "2019-08-11T15:01:48.467400Z",
     "start_time": "2019-08-11T15:01:48.445476Z"
    }
   },
   "outputs": [
    {
     "name": "stdout",
     "output_type": "stream",
     "text": [
      "ndarray([1.47062885761261, nan])\n",
      "\n",
      "ndarray([1.105170965194702, 9.02501392364502])\n",
      "\n",
      "4.5\n",
      "28.86606979370118\n",
      "\n",
      "\n"
     ]
    }
   ],
   "source": [
    "%%micropython\n",
    "\n",
    "import ulab\n",
    "\n",
    "print(ulab.acos([0.1, 2.2]))\n",
    "print(ulab.exp([0.1, 2.2]))\n",
    "# print(ulab.sum(ulab.ndarray([[1, 2, 3], [5, 6, 7]]), axis=2))\n",
    "print(ulab.mean(range(10)))\n",
    "# print(ulab.mean(ulab.ndarray([[1, 2, 3], [5, 6, 7]]), axis=2))\n",
    "print(ulab.std(range(100)))"
   ]
  },
  {
   "cell_type": "code",
   "execution_count": 438,
   "metadata": {
    "ExecuteTime": {
     "end_time": "2019-08-10T11:06:24.789115Z",
     "start_time": "2019-08-10T11:06:24.780613Z"
    }
   },
   "outputs": [
    {
     "data": {
      "text/plain": [
       "28.86607004772212"
      ]
     },
     "execution_count": 438,
     "metadata": {},
     "output_type": "execute_result"
    }
   ],
   "source": [
    "std(range(100))"
   ]
  },
  {
   "cell_type": "code",
   "execution_count": 1,
   "metadata": {
    "ExecuteTime": {
     "end_time": "2019-08-31T16:57:06.676116Z",
     "start_time": "2019-08-31T16:57:06.667070Z"
    }
   },
   "outputs": [
    {
     "name": "stderr",
     "output_type": "stream",
     "text": [
      "UsageError: Cell magic `%%micropython` not found.\n"
     ]
    }
   ],
   "source": [
    "%%micropython\n",
    "\n",
    "import ulab\n",
    "a = ulab.ndarray([[1, 2, 3], [5, 6, 7]])\n",
    "print(a)\n",
    "print(a.shape())\n",
    "print(a.size(1))\n",
    "a.transpose()\n",
    "print(a.shape())\n",
    "a.reshape((1, 6))\n",
    "print(a)\n",
    "print(a.shape())"
   ]
  }
 ],
 "metadata": {
  "kernelspec": {
   "display_name": "Python 3",
   "language": "python",
   "name": "python3"
  },
  "toc": {
   "base_numbering": 1,
   "nav_menu": {},
   "number_sections": true,
   "sideBar": true,
   "skip_h1_title": false,
   "title_cell": "Table of Contents",
   "title_sidebar": "Contents",
   "toc_cell": false,
   "toc_position": {
    "height": "calc(100% - 180px)",
    "left": "10px",
    "top": "150px",
    "width": "382.797px"
   },
   "toc_section_display": true,
   "toc_window_display": true
  },
  "varInspector": {
   "cols": {
    "lenName": 16,
    "lenType": 16,
    "lenVar": 40
   },
   "kernels_config": {
    "python": {
     "delete_cmd_postfix": "",
     "delete_cmd_prefix": "del ",
     "library": "var_list.py",
     "varRefreshCmd": "print(var_dic_list())"
    },
    "r": {
     "delete_cmd_postfix": ") ",
     "delete_cmd_prefix": "rm(",
     "library": "var_list.r",
     "varRefreshCmd": "cat(var_dic_list()) "
    }
   },
   "types_to_exclude": [
    "module",
    "function",
    "builtin_function_or_method",
    "instance",
    "_Feature"
   ],
   "window_display": false
  }
 },
 "nbformat": 4,
 "nbformat_minor": 2
}
